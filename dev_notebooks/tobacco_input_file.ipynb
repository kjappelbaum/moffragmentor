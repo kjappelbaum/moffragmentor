{
 "cells": [
  {
   "cell_type": "code",
   "execution_count": 62,
   "id": "adjusted-compatibility",
   "metadata": {},
   "outputs": [],
   "source": [
    "from pymatgen import Molecule\n",
    "from pymatgen.analysis.graphs import MoleculeGraph\n",
    "\n",
    "from moffragmentor.sbu import SBU\n",
    "from pymatgen.analysis.local_env import JmolNN, CrystalNN, CutOffDictNN, VoronoiNN\n",
    "\n",
    "VestaCutoffDictNN = CutOffDictNN.from_preset(\"vesta_2019\")\n",
    "import datetime"
   ]
  },
  {
   "cell_type": "code",
   "execution_count": 58,
   "id": "conditional-knife",
   "metadata": {},
   "outputs": [],
   "source": [
    "from scipy.spatial.distance import pdist\n",
    "import numpy as np\n",
    "def get_max_sep(coordinates):\n",
    "    distances = pdist(coordinates)\n",
    "    return     np.max(distances)"
   ]
  },
  {
   "cell_type": "code",
   "execution_count": 2,
   "id": "precise-brunswick",
   "metadata": {},
   "outputs": [],
   "source": [
    "mol = Molecule.from_file('AKEDIF_clean_linker_6.xyz')"
   ]
  },
  {
   "cell_type": "code",
   "execution_count": 14,
   "id": "related-roommate",
   "metadata": {},
   "outputs": [
    {
     "data": {
      "text/plain": [
       "7.317397078196591"
      ]
     },
     "execution_count": 14,
     "metadata": {},
     "output_type": "execute_result"
    }
   ],
   "source": [
    "get_max_sep(mol.cart_coords)"
   ]
  },
  {
   "cell_type": "markdown",
   "id": "designing-member",
   "metadata": {},
   "source": [
    "Let's check if the properties get copied over"
   ]
  },
  {
   "cell_type": "code",
   "execution_count": 17,
   "id": "faced-driver",
   "metadata": {},
   "outputs": [],
   "source": [
    "mol[0].properties = {'bounded': True}"
   ]
  },
  {
   "cell_type": "code",
   "execution_count": 34,
   "id": "strange-banana",
   "metadata": {},
   "outputs": [],
   "source": [
    "s = mol.get_boxed_structure(10, 10, 10, reorder=False)"
   ]
  },
  {
   "cell_type": "code",
   "execution_count": 35,
   "id": "scientific-blocking",
   "metadata": {},
   "outputs": [
    {
     "name": "stdout",
     "output_type": "stream",
     "text": [
      "{'bounded': True}\n",
      "{'bounded': None}\n",
      "{'bounded': None}\n",
      "{'bounded': None}\n",
      "{'bounded': None}\n",
      "{'bounded': None}\n",
      "{'bounded': None}\n",
      "{'bounded': None}\n",
      "{'bounded': None}\n",
      "{'bounded': None}\n",
      "{'bounded': None}\n",
      "{'bounded': None}\n",
      "{'bounded': None}\n",
      "{'bounded': None}\n",
      "{'bounded': None}\n",
      "{'bounded': None}\n"
     ]
    }
   ],
   "source": [
    "for site in s:\n",
    "    print(site.properties)"
   ]
  },
  {
   "cell_type": "code",
   "execution_count": 36,
   "id": "confused-apparatus",
   "metadata": {},
   "outputs": [
    {
     "data": {
      "text/plain": [
       "PeriodicSite: C (5.1557, 3.6751, 2.4358) [0.5156, 0.3675, 0.2436]"
      ]
     },
     "execution_count": 36,
     "metadata": {},
     "output_type": "execute_result"
    }
   ],
   "source": [
    "s[0]"
   ]
  },
  {
   "cell_type": "code",
   "execution_count": 43,
   "id": "rough-paper",
   "metadata": {},
   "outputs": [],
   "source": [
    "mg = MoleculeGraph.with_local_env_strategy(mol, VestaCutoffDictNN)"
   ]
  },
  {
   "cell_type": "code",
   "execution_count": 50,
   "id": "young-burning",
   "metadata": {},
   "outputs": [
    {
     "data": {
      "text/plain": [
       "1.5021651041080641"
      ]
     },
     "execution_count": 50,
     "metadata": {},
     "output_type": "execute_result"
    }
   ],
   "source": [
    "mol.get_distance(0,1)"
   ]
  },
  {
   "cell_type": "code",
   "execution_count": 59,
   "id": "square-category",
   "metadata": {},
   "outputs": [],
   "source": [
    "sbu = SBU(mol, mg, connection_indices=[1])"
   ]
  },
  {
   "cell_type": "code",
   "execution_count": 72,
   "id": "extended-marathon",
   "metadata": {},
   "outputs": [],
   "source": [
    "def write_tobacco_cif(sbu: SBU):\n",
    "    \n",
    "    max_size = get_max_sep(sbu.molecule.cart_coords)\n",
    "    s = sbu.molecule.get_boxed_structure(max_size + 0.1*max_size, max_size + 0.1*max_size, max_size + 0.1*max_size, reorder=False)\n",
    "    \n",
    "    header_lines = [\n",
    "        \"data_\",\n",
    "        \"_audit_creation_date              \"\n",
    "        + datetime.datetime.today().strftime(\"%Y-%m-%d\"),\n",
    "        \"_audit_creation_method            'moffragmentor'\",\n",
    "        \"_symmetry_space_group_name_H-M    'P1'\",\n",
    "        \"_symmetry_Int_Tables_number       1\",\n",
    "        \"_symmetry_cell_setting            triclinic\",\n",
    "        \"loop_\" \"_symmetry_equiv_pos_as_xyz\",\n",
    "        \"  x,y,z\",\n",
    "    ]\n",
    "\n",
    "    cell_lines = [\n",
    "        \"_cell_length_a                    \" + str(s.lattice.a),\n",
    "        \"_cell_length_b                    \" + str(s.lattice.b),\n",
    "        \"_cell_length_c                    \" + str(s.lattice.c),\n",
    "        \"_cell_angle_alpha                 \" + str(s.lattice.alpha),\n",
    "        \"_cell_angle_beta                  \" + str(s.lattice.beta),\n",
    "        \"_cell_angle_gamma                 \" + str(s.lattice.gamma),\n",
    "    ]\n",
    "\n",
    "    loop_header = [\n",
    "        \"loop_\",\n",
    "        \"_atom_site_label\",\n",
    "        \"_atom_site_type_symbol\",\n",
    "        \"_atom_site_fract_x\",\n",
    "        \"_atom_site_fract_y\",\n",
    "        \"_atom_site_fract_z\",\n",
    "        \"_atom_site_charge\",\n",
    "    ]\n",
    "\n",
    "    loop_content = []\n",
    "    site_index = {}\n",
    "    for i, site in enumerate(s):\n",
    "        vec = site.frac_coords\n",
    "        es = str(site.specie)\n",
    "\n",
    "        \n",
    "        if i in sbu.connection_indices:\n",
    "            ind = 'X' + str(i)\n",
    "            loop_content.append(\n",
    "                    \"{:7} {:>4} {:>15.6f} {:>15.6f} {:>15.6f} {:>15.6f}\".format(\n",
    "                        ind, es, vec[0], vec[1], vec[2], 0\n",
    "                    )\n",
    "                )\n",
    "        else:\n",
    "            ind = es + str(i)\n",
    "            loop_content.append(\n",
    "                \"{:7} {:>4} {:>15.6f} {:>15.6f} {:>15.6f} {:>15.6f}\".format(\n",
    "                    ind, es, vec[0], vec[1], vec[2], 0\n",
    "                )\n",
    "            )\n",
    "        site_index[i] = ind\n",
    "        \n",
    "    \n",
    "    connection_loop_header = [\"loop_\", \"_geom_bond_atom_site_label_1\",\n",
    "                              \"_geom_bond_atom_site_label_2\", \"_geom_bond_distance\", \n",
    "                              '_geom_bond_site_symmetry_1', \"_ccdc_geom_bond_type\"]\n",
    "    \n",
    "    \n",
    "    connection_loop_content = []\n",
    "    set_bond = set()\n",
    "    for i, site in enumerate(sbu.molecule):\n",
    "        neighbors = sbu.molecule_graph.get_connected_sites(0)\n",
    "        for j, neighbor_site in enumerate(neighbors):\n",
    "            ind0 = site_index[i]\n",
    "            ind1 = site_index[j]\n",
    "            \n",
    "            tuple_a = (ind0, ind1)\n",
    "            tuple_b = (ind1, ind0)\n",
    "            \n",
    "            if (not (tuple_a in set_bond) and not (tuple_b in set_bond)):\n",
    "                set_bond.add(tuple_a)\n",
    "                \n",
    "                dist = np.round(sbu.molecule.get_distance(i,j), 3)\n",
    "                # bond_type = data[\"bond_type\"]\n",
    "\n",
    "                connection_loop_content.append(\"{:7} {:>7} {:>7} {:>3}\".format(ind0, ind1, dist, \"S\"))\n",
    "\n",
    "    return \"\\n\".join(header_lines+cell_lines+loop_header+loop_content+connection_loop_header+connection_loop_content)"
   ]
  },
  {
   "cell_type": "code",
   "execution_count": 73,
   "id": "wireless-motel",
   "metadata": {},
   "outputs": [
    {
     "data": {
      "text/plain": [
       "\"data_\\n_audit_creation_date              2021-01-28\\n_audit_creation_method            'moffragmentor'\\n_symmetry_space_group_name_H-M    'P1'\\n_symmetry_Int_Tables_number       1\\n_symmetry_cell_setting            triclinic\\nloop__symmetry_equiv_pos_as_xyz\\n  x,y,z\\n_cell_length_a                    8.04913678601625\\n_cell_length_b                    8.04913678601625\\n_cell_length_c                    8.04913678601625\\n_cell_angle_alpha                 90.0\\n_cell_angle_beta                  90.0\\n_cell_angle_gamma                 90.0\\nloop_\\n_atom_site_label\\n_atom_site_type_symbol\\n_atom_site_fract_x\\n_atom_site_fract_y\\n_atom_site_fract_z\\n_atom_site_charge\\nC0         C        0.519348        0.335394        0.181431        0.000000\\nX1         C        0.506924        0.423602        0.345424        0.000000\\nC2         C        0.576497        0.578898        0.367786        0.000000\\nC3         C        0.429897        0.344090        0.478357        0.000000\\nC4         C        0.480834        0.664622        0.818766        0.000000\\nC5         C        0.492016        0.576413        0.654774        0.000000\\nC6         C        0.423685        0.421117        0.632411        0.000000\\nC7         C        0.570285        0.655925        0.520598        0.000000\\nH8         H        0.371506        0.366453        0.723104        0.000000\\nH9         H        0.618737        0.761526        0.535506        0.000000\\nO10        O        0.414989        0.581383        0.938034        0.000000\\nO11        O        0.529287        0.808736        0.832432        0.000000\\nH12        H        0.628676        0.633562        0.277093        0.000000\\nH13        H        0.381445        0.237247        0.463449        0.000000\\nO14        O        0.585193        0.418632        0.062163        0.000000\\nO15        O        0.470895        0.191279        0.167765        0.000000\\nloop_\\n_geom_bond_atom_site_label_1\\n_geom_bond_atom_site_label_2\\n_geom_bond_distance\\n_geom_bond_site_symmetry_1\\n_ccdc_geom_bond_type\\nC0           C0     0.0   S\\nC0           X1   1.502   S\\nC0           C2   2.511   S\\nX1           X1     0.0   S\\nX1           C2   1.381   S\\nC2           C2     0.0   S\\nC3           C0   2.497   S\\nC3           X1   1.392   S\\nC3           C2   2.399   S\\nC4           C0   5.782   S\\nC4           X1   4.281   S\\nC4           C2   3.774   S\\nC5           C0   4.281   S\\nC5           X1    2.78   S\\nC5           C2   2.408   S\\nC6           C0   3.774   S\\nC6           X1   2.405   S\\nC6           C2   2.768   S\\nC7           C0   3.779   S\\nC7           X1   2.397   S\\nC7           C2   1.378   S\\nH8           C0   4.526   S\\nH8           X1   3.262   S\\nH8           C2   3.718   S\\nH9           C0   4.531   S\\nH9           X1   3.248   S\\nH9           C2   2.025   S\\nO10          C0   6.459   S\\nO10          X1   4.991   S\\nO10          C2   4.771   S\\nO11          C0   6.479   S\\nO11          X1   5.001   S\\nO11          C2    4.19   S\\nH12          C0    2.67   S\\nH12          X1    2.03   S\\nH12          C2    0.95   S\\nH13          C0   2.647   S\\nH13          X1   2.043   S\\nH13          C2   3.259   S\\nO14          C0   1.285   S\\nO14          X1   2.366   S\\nO14          C2   2.779   S\\nO15          C0   1.229   S\\nO15          X1   2.372   S\\nO15          C2   3.612   S\""
      ]
     },
     "execution_count": 73,
     "metadata": {},
     "output_type": "execute_result"
    }
   ],
   "source": [
    "write_tobacco_cif(sbu)"
   ]
  },
  {
   "cell_type": "code",
   "execution_count": null,
   "id": "protective-blanket",
   "metadata": {},
   "outputs": [],
   "source": []
  }
 ],
 "metadata": {
  "kernelspec": {
   "display_name": "Python 3",
   "language": "python",
   "name": "python3"
  },
  "language_info": {
   "codemirror_mode": {
    "name": "ipython",
    "version": 3
   },
   "file_extension": ".py",
   "mimetype": "text/x-python",
   "name": "python",
   "nbconvert_exporter": "python",
   "pygments_lexer": "ipython3",
   "version": "3.8.6"
  }
 },
 "nbformat": 4,
 "nbformat_minor": 5
}
