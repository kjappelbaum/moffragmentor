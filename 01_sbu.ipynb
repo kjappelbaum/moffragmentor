{
 "cells": [
  {
   "cell_type": "code",
   "execution_count": 1,
   "id": "quiet-study",
   "metadata": {},
   "outputs": [],
   "source": [
    "# default_exp sbu"
   ]
  },
  {
   "cell_type": "code",
   "execution_count": 4,
   "id": "conditional-brother",
   "metadata": {},
   "outputs": [],
   "source": [
    "%load_ext autoreload\n",
    "%autoreload 2"
   ]
  },
  {
   "cell_type": "markdown",
   "id": "curious-finder",
   "metadata": {},
   "source": [
    "# SBU core class\n",
    "\n",
    "> API details."
   ]
  },
  {
   "cell_type": "code",
   "execution_count": 6,
   "id": "british-trading",
   "metadata": {},
   "outputs": [],
   "source": [
    "#export\n",
    "from pymatgen.io.babel import BabelMolAdaptor\n",
    "from openbabel import pybel as pb\n",
    "from pymatgen import Molecule\n",
    "import nglview"
   ]
  },
  {
   "cell_type": "markdown",
   "id": "selected-schema",
   "metadata": {},
   "source": [
    "Both `Linker` and `Node` will be subclasses of `SBU` which will contain some general methods to get SMILES and to visualize the molecules."
   ]
  },
  {
   "cell_type": "code",
   "execution_count": 7,
   "id": "elect-culture",
   "metadata": {},
   "outputs": [],
   "source": [
    "#export\n",
    "class SBU: \n",
    "    def __init__(self, molecule, connection_indices): \n",
    "        self.molecule = molecule\n",
    "        self._ob_mol = None\n",
    "        \n",
    "    @property\n",
    "    def openbabel_mol(self):\n",
    "        if self._ob_mol is not None: \n",
    "            return self._ob_mol\n",
    "        else: \n",
    "            return self.get_openbabel_mol()\n",
    "    \n",
    "    @classmethod\n",
    "    def from_labled_molecule(cls, mol): \n",
    "        connection_indices = get_binding_indices(mol)\n",
    "        return cls(mol, connection_indices)\n",
    "        \n",
    "    def get_openbabel_mol(self):\n",
    "        a = BabelMolAdaptor(self.molecule)\n",
    "        pm = pb.Molecule(a.openbabel_mol)\n",
    "        self._ob_mol = pm\n",
    "        return pm\n",
    "        \n",
    "    def show_molecule(self):\n",
    "        return nglview.show_pymatgen(self.molecule)\n",
    "        \n",
    "    @property\n",
    "    def smiles(self): \n",
    "        mol = self.openbabel_mol \n",
    "        return mol.write(\"can\").strip()\n",
    "    \n",
    "    def write_tobacco_file(self, filename): \n",
    "        \"\"\"Can be based on https://github.com/peteboyd/lammps_interface/blob/71953f5f6706b75f059197aa7f152695e54ded85/lammps_interface/structure_data.py#L1636\"\n",
    "        We need to only place the X for sites with property binding=True\n",
    "        \"\"\"\n",
    "        ..."
   ]
  },
  {
   "cell_type": "code",
   "execution_count": 8,
   "id": "committed-gardening",
   "metadata": {},
   "outputs": [],
   "source": [
    "#export\n",
    "class Node(SBU): \n",
    "    pass\n",
    "\n",
    "#export\n",
    "class Linker(SBU):\n",
    "    pass"
   ]
  },
  {
   "cell_type": "code",
   "execution_count": 9,
   "id": "valuable-commander",
   "metadata": {},
   "outputs": [],
   "source": [
    "#export\n",
    "def get_binding_indices(mol):\n",
    "    indices = []\n",
    "    for i, site in enumerate(mol): \n",
    "        try:\n",
    "            if site.properties['binding'] == True:\n",
    "                indices.append(i)\n",
    "        except KeyError:\n",
    "            pass\n",
    "    \n",
    "    return indices"
   ]
  },
  {
   "cell_type": "code",
   "execution_count": 10,
   "id": "another-accountability",
   "metadata": {},
   "outputs": [
    {
     "name": "stdout",
     "output_type": "stream",
     "text": [
      "Converted 00_core.ipynb.\n",
      "Converted 01_sbu.ipynb.\n",
      "Converted index.ipynb.\n"
     ]
    }
   ],
   "source": [
    "from nbdev.export import notebook2script; notebook2script()"
   ]
  },
  {
   "cell_type": "code",
   "execution_count": null,
   "id": "unnecessary-guinea",
   "metadata": {},
   "outputs": [],
   "source": []
  }
 ],
 "metadata": {
  "kernelspec": {
   "display_name": "Python 3",
   "language": "python",
   "name": "python3"
  },
  "language_info": {
   "codemirror_mode": {
    "name": "ipython",
    "version": 3
   },
   "file_extension": ".py",
   "mimetype": "text/x-python",
   "name": "python",
   "nbconvert_exporter": "python",
   "pygments_lexer": "ipython3",
   "version": "3.8.6"
  }
 },
 "nbformat": 4,
 "nbformat_minor": 5
}
