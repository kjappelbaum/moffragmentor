{
 "cells": [
  {
   "cell_type": "code",
   "execution_count": 1,
   "metadata": {},
   "outputs": [],
   "source": [
    "%load_ext autoreload\n",
    "%autoreload 2"
   ]
  },
  {
   "cell_type": "code",
   "execution_count": 2,
   "metadata": {},
   "outputs": [
    {
     "data": {
      "application/vnd.jupyter.widget-view+json": {
       "model_id": "f531db7b34ea4027afba127f4226aa98",
       "version_major": 2,
       "version_minor": 0
      },
      "text/plain": []
     },
     "metadata": {},
     "output_type": "display_data"
    }
   ],
   "source": [
    "from moffragmentor import MOF"
   ]
  },
  {
   "cell_type": "code",
   "execution_count": 3,
   "metadata": {},
   "outputs": [],
   "source": [
    "hkust = MOF.from_cif('../tests/test_files/hkust1.cif')"
   ]
  },
  {
   "cell_type": "code",
   "execution_count": 4,
   "metadata": {},
   "outputs": [
    {
     "name": "stderr",
     "output_type": "stream",
     "text": [
      "/Users/kevinmaikjablonka/opt/miniconda3/envs/moffragmentor/lib/python3.8/site-packages/pymatgen/core/structure.py:759: UserWarning: Not all sites have property binding. Missing values are set to None.\n",
      "  warnings.warn(\n"
     ]
    }
   ],
   "source": [
    "hkust_linkers, hkust_nodes = hkust.fragment()"
   ]
  },
  {
   "cell_type": "code",
   "execution_count": 13,
   "metadata": {},
   "outputs": [
    {
     "data": {
      "text/plain": [
       "<moffragmentor.sbu.Linker at 0x7f8f661dc040>"
      ]
     },
     "execution_count": 13,
     "metadata": {},
     "output_type": "execute_result"
    }
   ],
   "source": [
    "hkust_linkers[0]"
   ]
  },
  {
   "cell_type": "code",
   "execution_count": 5,
   "metadata": {},
   "outputs": [
    {
     "data": {
      "application/vnd.jupyter.widget-view+json": {
       "model_id": "8c388aa173e44a1d979545f7f5308a5b",
       "version_major": 2,
       "version_minor": 0
      },
      "text/plain": [
       "NGLWidget()"
      ]
     },
     "metadata": {},
     "output_type": "display_data"
    }
   ],
   "source": [
    "hkust_linkers[0].show_molecule()"
   ]
  },
  {
   "cell_type": "code",
   "execution_count": 6,
   "metadata": {},
   "outputs": [
    {
     "data": {
      "application/vnd.jupyter.widget-view+json": {
       "model_id": "6e8046173c0f4785a85a931cd1277f06",
       "version_major": 2,
       "version_minor": 0
      },
      "text/plain": [
       "NGLWidget()"
      ]
     },
     "metadata": {},
     "output_type": "display_data"
    }
   ],
   "source": [
    "hkust_nodes[0].show_molecule()"
   ]
  },
  {
   "cell_type": "code",
   "execution_count": 7,
   "metadata": {},
   "outputs": [],
   "source": [
    "hypothetical = MOF.from_cif('../tests/test_files/bcs_v1-litcic_1B_4H_Ch_opt_charge.cif')"
   ]
  },
  {
   "cell_type": "code",
   "execution_count": 8,
   "metadata": {},
   "outputs": [],
   "source": [
    "hypothetical_linkers, hypothetical_nodes = hypothetical.fragment()"
   ]
  },
  {
   "cell_type": "code",
   "execution_count": 9,
   "metadata": {},
   "outputs": [
    {
     "data": {
      "application/vnd.jupyter.widget-view+json": {
       "model_id": "b44bb8009cf9420fa27a7142e70ef997",
       "version_major": 2,
       "version_minor": 0
      },
      "text/plain": [
       "NGLWidget()"
      ]
     },
     "metadata": {},
     "output_type": "display_data"
    }
   ],
   "source": [
    "hypothetical_linkers[0].show_molecule()"
   ]
  },
  {
   "cell_type": "code",
   "execution_count": 12,
   "metadata": {},
   "outputs": [
    {
     "data": {
      "application/vnd.jupyter.widget-view+json": {
       "model_id": "e426073f06fc44fb99feaf8830ecbb5a",
       "version_major": 2,
       "version_minor": 0
      },
      "text/plain": [
       "NGLWidget()"
      ]
     },
     "metadata": {},
     "output_type": "display_data"
    }
   ],
   "source": [
    "hypothetical_nodes[0].show_molecule()"
   ]
  },
  {
   "cell_type": "markdown",
   "metadata": {},
   "source": [
    "One interesting feature is that we can also get a input file for Tobacco"
   ]
  },
  {
   "cell_type": "code",
   "execution_count": 11,
   "metadata": {},
   "outputs": [
    {
     "name": "stdout",
     "output_type": "stream",
     "text": [
      "data_\n",
      "_audit_creation_date              2021-01-29\n",
      "_audit_creation_method            'moffragmentor'\n",
      "_symmetry_space_group_name_H-M    'P1'\n",
      "_symmetry_Int_Tables_number       1\n",
      "_symmetry_cell_setting            triclinic\n",
      "loop_\n",
      "_symmetry_equiv_pos_as_xyz\n",
      "  x,y,z\n",
      "_cell_length_a                    6.322488630754479\n",
      "_cell_length_b                    6.322488630754479\n",
      "_cell_length_c                    6.322488630754479\n",
      "_cell_angle_alpha                 90.0\n",
      "_cell_angle_beta                  90.0\n",
      "_cell_angle_gamma                 90.0\n",
      "loop_\n",
      "_atom_site_label\n",
      "_atom_site_type_symbol\n",
      "_atom_site_fract_x\n",
      "_atom_site_fract_y\n",
      "_atom_site_fract_z\n",
      "_atom_site_charge\n",
      "X0        Ni        0.488891        0.741822        0.480675        0.000000\n",
      "O1         O        0.376422        0.470820        0.362567        0.000000\n",
      "X2        Ni        0.552192        0.505849        0.947910        0.000000\n",
      "O3         O        0.647501        0.524571        0.657962        0.000000\n",
      "X4        Ni        0.570958        0.257686        0.509569        0.000000\n",
      "H5         H        0.802601        0.545928        0.653976        0.000000\n",
      "X6        Ni        0.380907        0.495911        0.055157        0.000000\n",
      "H7         H        0.228238        0.453361        0.409660        0.000000\n",
      "loop_\n",
      "_geom_bond_atom_site_label_1\n",
      "_geom_bond_atom_site_label_2\n",
      "_geom_bond_distance\n",
      "_geom_bond_site_symmetry_1\n",
      "_ccdc_geom_bond_type\n",
      "X0           X0     0.0   S\n",
      "X0           O1     2.0   S\n",
      "O1           O1     0.0   S\n",
      "X2           X0   3.334   S\n",
      "X2           O1    3.87   S\n",
      "O3           X0   2.037   S\n",
      "O3           O1   2.558   S\n",
      "X4           X0    3.11   S\n",
      "X4           O1   2.048   S\n",
      "H5           X0   2.582   S\n",
      "H5           O1   3.299   S\n",
      "X6           X0   3.181   S\n",
      "X6           O1    1.95   S\n",
      "H7           X0   2.499   S\n",
      "H7           O1   0.989   S\n"
     ]
    }
   ],
   "source": [
    "print(hypothetical_nodes[0].write_tobacco_file())"
   ]
  },
  {
   "cell_type": "markdown",
   "metadata": {},
   "source": [
    "Of course, we can also get the SMILES"
   ]
  },
  {
   "cell_type": "code",
   "execution_count": 99,
   "metadata": {},
   "outputs": [
    {
     "data": {
      "text/plain": [
       "'[O]C(=O)c1ccc(cc1)C(=O)[O]'"
      ]
     },
     "execution_count": 99,
     "metadata": {},
     "output_type": "execute_result"
    }
   ],
   "source": [
    "hypothetical_linkers[0].smiles"
   ]
  },
  {
   "cell_type": "code",
   "execution_count": null,
   "metadata": {},
   "outputs": [],
   "source": []
  },
  {
   "cell_type": "code",
   "execution_count": null,
   "metadata": {},
   "outputs": [],
   "source": []
  }
 ],
 "metadata": {
  "kernelspec": {
   "display_name": "Python 3",
   "language": "python",
   "name": "python3"
  },
  "language_info": {
   "codemirror_mode": {
    "name": "ipython",
    "version": 3
   },
   "file_extension": ".py",
   "mimetype": "text/x-python",
   "name": "python",
   "nbconvert_exporter": "python",
   "pygments_lexer": "ipython3",
   "version": "3.8.6"
  }
 },
 "nbformat": 4,
 "nbformat_minor": 4
}
