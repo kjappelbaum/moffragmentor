{
 "cells": [
  {
   "cell_type": "code",
   "execution_count": 5,
   "metadata": {},
   "outputs": [
    {
     "name": "stdout",
     "output_type": "stream",
     "text": [
      "The autoreload extension is already loaded. To reload it, use:\n",
      "  %reload_ext autoreload\n"
     ]
    }
   ],
   "source": [
    "%load_ext autoreload\n",
    "%autoreload 2"
   ]
  },
  {
   "cell_type": "code",
   "execution_count": 80,
   "metadata": {},
   "outputs": [],
   "source": [
    "from moffragmentor import MOF"
   ]
  },
  {
   "cell_type": "code",
   "execution_count": 81,
   "metadata": {},
   "outputs": [],
   "source": [
    "hkust = MOF.from_cif('../tests/test_files/hkust1.cif')"
   ]
  },
  {
   "cell_type": "code",
   "execution_count": 82,
   "metadata": {},
   "outputs": [
    {
     "name": "stderr",
     "output_type": "stream",
     "text": [
      "/Users/kevinmaikjablonka/opt/miniconda3/envs/moffragmentor/lib/python3.8/site-packages/pymatgen/core/structure.py:759: UserWarning: Not all sites have property binding. Missing values are set to None.\n",
      "  warnings.warn(\n"
     ]
    }
   ],
   "source": [
    "hkust_linkers, hkust_nodes = hkust.fragment()"
   ]
  },
  {
   "cell_type": "code",
   "execution_count": 83,
   "metadata": {},
   "outputs": [
    {
     "data": {
      "application/vnd.jupyter.widget-view+json": {
       "model_id": "321f1d2fcbbf4365b1e5d85d61836a7f",
       "version_major": 2,
       "version_minor": 0
      },
      "text/plain": [
       "NGLWidget()"
      ]
     },
     "metadata": {},
     "output_type": "display_data"
    }
   ],
   "source": [
    "hkust_linkers[0].show_molecule()"
   ]
  },
  {
   "cell_type": "code",
   "execution_count": 84,
   "metadata": {},
   "outputs": [
    {
     "data": {
      "application/vnd.jupyter.widget-view+json": {
       "model_id": "8acf909ceab644498372d9b72f7703f4",
       "version_major": 2,
       "version_minor": 0
      },
      "text/plain": [
       "NGLWidget()"
      ]
     },
     "metadata": {},
     "output_type": "display_data"
    }
   ],
   "source": [
    "hkust_nodes[0].show_molecule()"
   ]
  },
  {
   "cell_type": "code",
   "execution_count": 86,
   "metadata": {},
   "outputs": [],
   "source": [
    "hypothetical = MOF.from_cif('../tests/test_files/bcs_v1-litcic_1B_4H_Ch_opt_charge.cif')"
   ]
  },
  {
   "cell_type": "code",
   "execution_count": 87,
   "metadata": {},
   "outputs": [],
   "source": [
    "hypothetical_linkers, hypothetical_nodes = hypothetical.fragment()"
   ]
  },
  {
   "cell_type": "code",
   "execution_count": 88,
   "metadata": {},
   "outputs": [
    {
     "data": {
      "application/vnd.jupyter.widget-view+json": {
       "model_id": "e2e2aa4961a64c84a35154a3a8ed2c02",
       "version_major": 2,
       "version_minor": 0
      },
      "text/plain": [
       "NGLWidget()"
      ]
     },
     "metadata": {},
     "output_type": "display_data"
    }
   ],
   "source": [
    "hypothetical_linkers[0].show_molecule()"
   ]
  },
  {
   "cell_type": "code",
   "execution_count": 89,
   "metadata": {},
   "outputs": [
    {
     "data": {
      "application/vnd.jupyter.widget-view+json": {
       "model_id": "a416931e2055492ba0c0daf98ac19245",
       "version_major": 2,
       "version_minor": 0
      },
      "text/plain": [
       "NGLWidget()"
      ]
     },
     "metadata": {},
     "output_type": "display_data"
    }
   ],
   "source": [
    "hypothetical_nodes[0].show_molecule()"
   ]
  },
  {
   "cell_type": "markdown",
   "metadata": {},
   "source": [
    "One interesting feature is that we can also get a input file for Tobacco"
   ]
  },
  {
   "cell_type": "code",
   "execution_count": 91,
   "metadata": {},
   "outputs": [
    {
     "name": "stdout",
     "output_type": "stream",
     "text": [
      "data_\n",
      "_audit_creation_date              2021-01-28\n",
      "_audit_creation_method            'moffragmentor'\n",
      "_symmetry_space_group_name_H-M    'P1'\n",
      "_symmetry_Int_Tables_number       1\n",
      "_symmetry_cell_setting            triclinic\n",
      "loop__symmetry_equiv_pos_as_xyz\n",
      "  x,y,z\n",
      "_cell_length_a                    6.322488630754479\n",
      "_cell_length_b                    6.322488630754479\n",
      "_cell_length_c                    6.322488630754479\n",
      "_cell_angle_alpha                 90.0\n",
      "_cell_angle_beta                  90.0\n",
      "_cell_angle_gamma                 90.0\n",
      "loop_\n",
      "_atom_site_label\n",
      "_atom_site_type_symbol\n",
      "_atom_site_fract_x\n",
      "_atom_site_fract_y\n",
      "_atom_site_fract_z\n",
      "_atom_site_charge\n",
      "X0        Ni        0.488891        0.741822        0.480675        0.000000\n",
      "O1         O        0.376422        0.470820        0.362567        0.000000\n",
      "X2        Ni        0.552192        0.505849        0.947910        0.000000\n",
      "O3         O        0.647501        0.524571        0.657962        0.000000\n",
      "X4        Ni        0.570958        0.257686        0.509569        0.000000\n",
      "H5         H        0.802601        0.545928        0.653976        0.000000\n",
      "X6        Ni        0.380907        0.495911        0.055157        0.000000\n",
      "H7         H        0.228238        0.453361        0.409660        0.000000\n",
      "loop_\n",
      "_geom_bond_atom_site_label_1\n",
      "_geom_bond_atom_site_label_2\n",
      "_geom_bond_distance\n",
      "_geom_bond_site_symmetry_1\n",
      "_ccdc_geom_bond_type\n",
      "X0           X0     0.0   S\n",
      "X0           O1     2.0   S\n",
      "O1           O1     0.0   S\n",
      "X2           X0   3.334   S\n",
      "X2           O1    3.87   S\n",
      "O3           X0   2.037   S\n",
      "O3           O1   2.558   S\n",
      "X4           X0    3.11   S\n",
      "X4           O1   2.048   S\n",
      "H5           X0   2.582   S\n",
      "H5           O1   3.299   S\n",
      "X6           X0   3.181   S\n",
      "X6           O1    1.95   S\n",
      "H7           X0   2.499   S\n",
      "H7           O1   0.989   S\n"
     ]
    }
   ],
   "source": [
    "print(hypothetical_nodes[0].write_tobacco_file())"
   ]
  },
  {
   "cell_type": "code",
   "execution_count": null,
   "metadata": {},
   "outputs": [],
   "source": []
  }
 ],
 "metadata": {
  "kernelspec": {
   "display_name": "Python 3",
   "language": "python",
   "name": "python3"
  },
  "language_info": {
   "codemirror_mode": {
    "name": "ipython",
    "version": 3
   },
   "file_extension": ".py",
   "mimetype": "text/x-python",
   "name": "python",
   "nbconvert_exporter": "python",
   "pygments_lexer": "ipython3",
   "version": "3.8.6"
  }
 },
 "nbformat": 4,
 "nbformat_minor": 4
}
