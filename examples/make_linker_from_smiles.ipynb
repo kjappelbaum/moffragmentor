{
 "cells": [
  {
   "cell_type": "code",
   "execution_count": 1,
   "id": "champion-russia",
   "metadata": {},
   "outputs": [
    {
     "data": {
      "application/vnd.jupyter.widget-view+json": {
       "model_id": "edbb51a677c94c1d89cdbc1405a15a84",
       "version_major": 2,
       "version_minor": 0
      },
      "text/plain": []
     },
     "metadata": {},
     "output_type": "display_data"
    }
   ],
   "source": [
    "from moffragmentor.sbu import Linker\n",
    "from rdkit import Chem"
   ]
  },
  {
   "cell_type": "code",
   "execution_count": 2,
   "id": "beginning-saudi",
   "metadata": {},
   "outputs": [
    {
     "data": {
      "image/png": "[encoded data removed]",
      "text/plain": [
       "<rdkit.Chem.rdchem.Mol at 0x7f82220753f0>"
      ]
     },
     "execution_count": 2,
     "metadata": {},
     "output_type": "execute_result"
    }
   ],
   "source": [
    "mol = Chem.MolFromSmiles('[O]C(=O)c1ccc(cc1)C(=O)[O]')\n",
    "mol"
   ]
  },
  {
   "cell_type": "code",
   "execution_count": 3,
   "id": "spread-exception",
   "metadata": {},
   "outputs": [],
   "source": [
    "linker = Linker.from_carboxy_mol(mol)"
   ]
  },
  {
   "cell_type": "markdown",
   "id": "prospective-buddy",
   "metadata": {},
   "source": [
    "Now, we can write the Tobacco input file"
   ]
  },
  {
   "cell_type": "code",
   "execution_count": 4,
   "id": "proved-october",
   "metadata": {},
   "outputs": [
    {
     "name": "stdout",
     "output_type": "stream",
     "text": [
      "data_\n",
      "_audit_creation_date              2021-01-28\n",
      "_audit_creation_method            'moffragmentor'\n",
      "_symmetry_space_group_name_H-M    'P1'\n",
      "_symmetry_Int_Tables_number       1\n",
      "_symmetry_cell_setting            triclinic\n",
      "loop_\n",
      "_symmetry_equiv_pos_as_xyz\n",
      "  x,y,z\n",
      "_cell_length_a                    8.188523095164548\n",
      "_cell_length_b                    8.188523095164548\n",
      "_cell_length_c                    8.188523095164548\n",
      "_cell_angle_alpha                 90.0\n",
      "_cell_angle_beta                  90.0\n",
      "_cell_angle_gamma                 90.0\n",
      "loop_\n",
      "_atom_site_label\n",
      "_atom_site_type_symbol\n",
      "_atom_site_fract_x\n",
      "_atom_site_fract_y\n",
      "_atom_site_fract_z\n",
      "_atom_site_charge\n",
      "X0         O        0.071914        0.415137        0.627935        0.000000\n",
      "C1         C        0.153503        0.449817        0.483830        0.000000\n",
      "X2         O        0.073211        0.457524        0.354998        0.000000\n",
      "C3         C        0.329888        0.475485        0.491272        0.000000\n",
      "C4         C        0.415556        0.510178        0.351120        0.000000\n",
      "C5         C        0.584138        0.534805        0.357611        0.000000\n",
      "C6         C        0.669079        0.525273        0.502791        0.000000\n",
      "C7         C        0.584265        0.490895        0.641743        0.000000\n",
      "C8         C        0.415419        0.466275        0.634948        0.000000\n",
      "C9         C        0.847553        0.551639        0.507790        0.000000\n",
      "X10        O        0.928091        0.583098        0.383543        0.000000\n",
      "X11        O        0.927234        0.540962        0.655214        0.000000\n",
      "loop_\n",
      "_geom_bond_atom_site_label_1\n",
      "_geom_bond_atom_site_label_2\n",
      "_geom_bond_distance\n",
      "_geom_bond_site_symmetry_1\n",
      "_ccdc_geom_bond_type\n",
      "X0           X0     0.0   S\n",
      "C1           X0   1.385   S\n",
      "X2           X0   2.262   S\n",
      "C3           X0   2.441   S\n",
      "C4           X0   3.696   S\n",
      "C5           X0   4.843   S\n",
      "C6           X0   5.077   S\n",
      "C7           X0   4.243   S\n",
      "C8           X0   2.844   S\n",
      "C9           X0   6.524   S\n",
      "X10          X0   7.419   S\n",
      "X11          X0   7.083   S\n"
     ]
    }
   ],
   "source": [
    "print(linker.write_tobacco_file())"
   ]
  },
  {
   "cell_type": "code",
   "execution_count": null,
   "id": "cellular-louis",
   "metadata": {},
   "outputs": [],
   "source": []
  }
 ],
 "metadata": {
  "kernelspec": {
   "display_name": "Python 3",
   "language": "python",
   "name": "python3"
  },
  "language_info": {
   "codemirror_mode": {
    "name": "ipython",
    "version": 3
   },
   "file_extension": ".py",
   "mimetype": "text/x-python",
   "name": "python",
   "nbconvert_exporter": "python",
   "pygments_lexer": "ipython3",
   "version": "3.8.6"
  }
 },
 "nbformat": 4,
 "nbformat_minor": 5
}
