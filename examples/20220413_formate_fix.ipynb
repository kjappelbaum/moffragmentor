{
 "cells": [
  {
   "cell_type": "code",
   "execution_count": 1,
   "metadata": {},
   "outputs": [],
   "source": [
    "%load_ext autoreload\n",
    "%autoreload 2"
   ]
  },
  {
   "cell_type": "code",
   "execution_count": 2,
   "metadata": {},
   "outputs": [],
   "source": [
    "from moffragmentor import MOF\n",
    "\n",
    "from moffragmentor.fragmentor.solventlocator import get_floating_solvent_molecules, get_all_bound_solvent_molecules\n",
    "from moffragmentor.fragmentor.nodelocator import find_node_clusters, create_node_collection\n",
    "from moffragmentor.fragmentor.linkerlocator import create_linker_collection"
   ]
  },
  {
   "cell_type": "code",
   "execution_count": 3,
   "metadata": {},
   "outputs": [],
   "source": [
    "mof = MOF.from_cif('/Users/kevinmaikjablonka/Dropbox (LSMO)/reference_set_project/aiida_optimized_2021_01_08_3203_OLD/opt_cifs/RSM0001.cif')"
   ]
  },
  {
   "cell_type": "code",
   "execution_count": 4,
   "metadata": {},
   "outputs": [],
   "source": [
    "sg = mof.structure_graph"
   ]
  },
  {
   "cell_type": "code",
   "execution_count": 5,
   "metadata": {},
   "outputs": [
    {
     "data": {
      "text/plain": [
       "[ConnectedSite(site=PeriodicSite: C (6.9106, 2.3102, 3.0426) [1.0600, 0.3999, 0.0235], jimage=(1, 0, 0), index=4, weight=None, dist=1.1042191098137004)]"
      ]
     },
     "execution_count": 5,
     "metadata": {},
     "output_type": "execute_result"
    }
   ],
   "source": [
    "sg.get_connected_sites(1)"
   ]
  },
  {
   "cell_type": "code",
   "execution_count": 6,
   "metadata": {},
   "outputs": [
    {
     "name": "stderr",
     "output_type": "stream",
     "text": [
      "2022-04-13 17:43:16.900 | WARNING  | moffragmentor.fragmentor.nodelocator:find_node_clusters:63 - No branch sites found according to branch site definition.             Using now CN=3 sites between metals as branch sites.                This is not consistent with the conventions used in other parts of the code. ̰\n"
     ]
    },
    {
     "name": "stdout",
     "output_type": "stream",
     "text": [
      "{6: (0, 0, 0), 0: (-1, 0, 0), 3: (0, 0, 0), 7: (0, 0, 0), 10: (0, 0, 0)} [7, 6, 3, 10] 10\n",
      "{6: (0, 0, 0), 0: (0, 0, 0), 3: (0, 0, 0), 7: (0, 0, 0), 10: (0, 0, 0)} [10, 6, 3, 7] 7\n",
      "{5: (0, -1, 0), 0: (0, -1, 1), 2: (1, 0, 0), 12: (0, 1, 0), 11: (0, 1, 0)} [12, 5, 2, 11] 2\n",
      "{4: (0, 0, 1), 0: (-1, -1, 1), 1: (-1, 0, 0), 8: (0, 0, -1), 9: (0, 0, -1)} [9, 4, 1, 8] 1\n",
      "{5: (0, -1, 0), 0: (0, -1, 0), 2: (1, 0, 0), 12: (0, 1, 0), 11: (0, 1, 0)} [11, 5, 2, 12] 2\n",
      "{4: (0, 0, 1), 0: (-1, 0, 1), 1: (-1, 0, 0), 8: (0, 0, -1), 9: (0, 0, -1)} [8, 4, 1, 9] 1\n",
      "{6: (0, 0, 0), 0: (-1, 0, 0), 3: (0, 0, 0), 7: (0, 0, 0), 10: (0, 0, 0)} [7, 6, 3, 10] 10\n",
      "{6: (0, 0, 0), 0: (0, 0, 0), 3: (0, 0, 0), 7: (0, 0, 0), 10: (0, 0, 0)} [10, 6, 3, 7] 7\n",
      "{5: (0, -1, 0), 0: (0, -1, 1), 2: (1, 0, 0), 12: (0, 1, 0), 11: (0, 1, 0)} [12, 5, 2, 11] 2\n",
      "{4: (0, 0, 1), 0: (-1, -1, 1), 1: (-1, 0, 0), 8: (0, 0, -1), 9: (0, 0, -1)} [9, 4, 1, 8] 1\n",
      "{5: (0, -1, 0), 0: (0, -1, 0), 2: (1, 0, 0), 12: (0, 1, 0), 11: (0, 1, 0)} [11, 5, 2, 12] 2\n",
      "{4: (0, 0, 1), 0: (-1, 0, 1), 1: (-1, 0, 0), 8: (0, 0, -1), 9: (0, 0, -1)} [8, 4, 1, 9] 1\n"
     ]
    }
   ],
   "source": [
    "unbound_solvent = get_floating_solvent_molecules(mof)\n",
    "    # Find nodes\n",
    "node_result = find_node_clusters(mof, unbound_solvent.indices)\n",
    "node_collection = create_node_collection(mof, node_result)\n",
    "    # Find bound solvent\n",
    "    # \n",
    "bound_solvent = get_all_bound_solvent_molecules(mof, node_result.nodes)\n",
    "    # Filter the linkers (valid linkers have at least two branch points)"
   ]
  },
  {
   "cell_type": "code",
   "execution_count": 7,
   "metadata": {},
   "outputs": [
    {
     "data": {
      "text/plain": [
       "[{0, 4, 5, 6, 7, 8, 9, 10, 11, 12}]"
      ]
     },
     "execution_count": 7,
     "metadata": {},
     "output_type": "execute_result"
    }
   ],
   "source": [
    "node_result.nodes"
   ]
  },
  {
   "cell_type": "code",
   "execution_count": 8,
   "metadata": {},
   "outputs": [
    {
     "data": {
      "text/plain": [
       "{4, 5, 6}"
      ]
     },
     "execution_count": 8,
     "metadata": {},
     "output_type": "execute_result"
    }
   ],
   "source": [
    "node_result.branching_indices"
   ]
  },
  {
   "cell_type": "code",
   "execution_count": 9,
   "metadata": {},
   "outputs": [
    {
     "data": {
      "text/plain": [
       "set()"
      ]
     },
     "execution_count": 9,
     "metadata": {},
     "output_type": "execute_result"
    }
   ],
   "source": [
    "set(bound_solvent.indices)"
   ]
  },
  {
   "cell_type": "code",
   "execution_count": 10,
   "metadata": {},
   "outputs": [
    {
     "ename": "IndexError",
     "evalue": "list index out of range",
     "output_type": "error",
     "traceback": [
      "\u001b[0;31m---------------------------------------------------------------------------\u001b[0m",
      "\u001b[0;31mIndexError\u001b[0m                                Traceback (most recent call last)",
      "\u001b[1;32m/Users/kevinmaikjablonka/git/kjappelbaum/moffragmentor/examples/20220413_formate_fix.ipynb Cell 10'\u001b[0m in \u001b[0;36m<cell line: 1>\u001b[0;34m()\u001b[0m\n\u001b[0;32m----> <a href='vscode-notebook-cell:/Users/kevinmaikjablonka/git/kjappelbaum/moffragmentor/examples/20220413_formate_fix.ipynb#ch0000020?line=0'>1</a>\u001b[0m bound_solvent\u001b[39m.\u001b[39;49mmolecules[\u001b[39m0\u001b[39;49m]\u001b[39m.\u001b[39mindices\n",
      "\u001b[0;31mIndexError\u001b[0m: list index out of range"
     ]
    }
   ],
   "source": [
    "bound_solvent.molecules[0].indices"
   ]
  },
  {
   "cell_type": "code",
   "execution_count": 11,
   "metadata": {},
   "outputs": [
    {
     "data": {
      "text/plain": [
       "[ConnectedSite(site=PeriodicSite: C (4.0439, 4.6877, 3.9745) [0.5000, 0.8115, 0.1885], jimage=(0, 0, 0), index=6, weight=None, dist=1.2769607847523299),\n",
       " ConnectedSite(site=PeriodicSite: Gd (7.1598, 5.1169, 4.6091) [1.0000, 0.8858, 0.1142], jimage=(0, 0, 0), index=0, weight=None, dist=2.3214169446953075)]"
      ]
     },
     "execution_count": 11,
     "metadata": {},
     "output_type": "execute_result"
    }
   ],
   "source": [
    "mof.structure_graph.get_connected_sites(10)"
   ]
  },
  {
   "cell_type": "code",
   "execution_count": 12,
   "metadata": {},
   "outputs": [
    {
     "data": {
      "text/plain": [
       "[ConnectedSite(site=PeriodicSite: C (4.0439, 4.6877, 3.9745) [0.5000, 0.8115, 0.1885], jimage=(0, 0, 0), index=6, weight=None, dist=1.2766651695954734),\n",
       " ConnectedSite(site=PeriodicSite: Gd (1.1153, 5.1169, 2.7368) [-0.0000, 0.8858, 0.1142], jimage=(-1, 0, 0), index=0, weight=None, dist=2.3212885443697715)]"
      ]
     },
     "execution_count": 12,
     "metadata": {},
     "output_type": "execute_result"
    }
   ],
   "source": [
    "mof.structure_graph.get_connected_sites(7)"
   ]
  },
  {
   "cell_type": "code",
   "execution_count": 13,
   "metadata": {},
   "outputs": [
    {
     "data": {
      "text/plain": [
       "{4, 5, 6}"
      ]
     },
     "execution_count": 13,
     "metadata": {},
     "output_type": "execute_result"
    }
   ],
   "source": [
    "node_result.branching_indices"
   ]
  },
  {
   "cell_type": "code",
   "execution_count": 14,
   "metadata": {},
   "outputs": [
    {
     "name": "stderr",
     "output_type": "stream",
     "text": [
      "2022-04-13 17:43:20.668 | WARNING  | moffragmentor.fragmentor.linkerlocator:_create_linkers_from_node_location_result:141 - No linkers with two branching sites in molecule found. Looking for molecules with one branching site.\n"
     ]
    }
   ],
   "source": [
    "linker_collection, edge_dict = create_linker_collection(\n",
    "        mof, node_result, node_collection, unbound_solvent\n",
    "    )"
   ]
  },
  {
   "cell_type": "code",
   "execution_count": 15,
   "metadata": {},
   "outputs": [
    {
     "data": {
      "text/plain": [
       "3"
      ]
     },
     "execution_count": 15,
     "metadata": {},
     "output_type": "execute_result"
    }
   ],
   "source": [
    "len(linker_collection)"
   ]
  },
  {
   "cell_type": "code",
   "execution_count": 16,
   "metadata": {},
   "outputs": [],
   "source": [
    "def bridges_across_cell(mof, molecule) -> bool: \n",
    "    \"\"\"Check if a molecule bridges across the cell\"\"\"\n",
    "    bridges = {}\n",
    "\n",
    "    for index in molecule.indices:\n",
    "        for neighbor_site in mof.structure_graph.get_connected_sites(index):\n",
    "            if not neighbor_site.index in bridges:\n",
    "                bridges[neighbor_site.index] = neighbor_site.jimage\n",
    "            else:\n",
    "                if bridges[neighbor_site.index] == neighbor_site.jimage:\n",
    "                    return True\n",
    "\n",
    "    return False"
   ]
  },
  {
   "cell_type": "code",
   "execution_count": 17,
   "metadata": {},
   "outputs": [
    {
     "data": {
      "application/vnd.jupyter.widget-view+json": {
       "model_id": "14001090502049bea4477bbd42430f33",
       "version_major": 2,
       "version_minor": 0
      },
      "text/plain": []
     },
     "metadata": {},
     "output_type": "display_data"
    },
    {
     "ename": "ImportError",
     "evalue": "AseAtomsAdaptor requires the ASE package.\nUse `pip install ase` or `conda install ase -c conda-forge`",
     "output_type": "error",
     "traceback": [
      "\u001b[0;31m---------------------------------------------------------------------------\u001b[0m",
      "\u001b[0;31mImportError\u001b[0m                               Traceback (most recent call last)",
      "\u001b[1;32m/Users/kevinmaikjablonka/git/kjappelbaum/moffragmentor/examples/20220413_formate_fix.ipynb Cell 17'\u001b[0m in \u001b[0;36m<cell line: 1>\u001b[0;34m()\u001b[0m\n\u001b[0;32m----> <a href='vscode-notebook-cell:/Users/kevinmaikjablonka/git/kjappelbaum/moffragmentor/examples/20220413_formate_fix.ipynb#ch0000027?line=0'>1</a>\u001b[0m linker_collection[\u001b[39m0\u001b[39;49m]\u001b[39m.\u001b[39;49mshow_molecule()\n",
      "File \u001b[0;32m~/git/kjappelbaum/moffragmentor/src/moffragmentor/sbu/sbu.py:220\u001b[0m, in \u001b[0;36mSBU.show_molecule\u001b[0;34m(self)\u001b[0m\n\u001b[1;32m    <a href='file:///Users/kevinmaikjablonka/git/kjappelbaum/moffragmentor/src/moffragmentor/sbu/sbu.py?line=216'>217</a>\u001b[0m \u001b[39mdef\u001b[39;00m \u001b[39mshow_molecule\u001b[39m(\u001b[39mself\u001b[39m):\n\u001b[1;32m    <a href='file:///Users/kevinmaikjablonka/git/kjappelbaum/moffragmentor/src/moffragmentor/sbu/sbu.py?line=217'>218</a>\u001b[0m     \u001b[39mimport\u001b[39;00m \u001b[39mnglview\u001b[39;00m  \u001b[39m# pylint:disable=import-outside-toplevel\u001b[39;00m\n\u001b[0;32m--> <a href='file:///Users/kevinmaikjablonka/git/kjappelbaum/moffragmentor/src/moffragmentor/sbu/sbu.py?line=219'>220</a>\u001b[0m     \u001b[39mreturn\u001b[39;00m nglview\u001b[39m.\u001b[39;49mshow_pymatgen(\u001b[39mself\u001b[39;49m\u001b[39m.\u001b[39;49mmolecule)\n",
      "File \u001b[0;32m~/miniconda3/envs/moffragmentor/lib/python3.8/site-packages/nglview/show.py:157\u001b[0m, in \u001b[0;36mshow_pymatgen\u001b[0;34m(struct, **kwargs)\u001b[0m\n\u001b[1;32m    <a href='file:///Users/kevinmaikjablonka/miniconda3/envs/moffragmentor/lib/python3.8/site-packages/nglview/show.py?line=143'>144</a>\u001b[0m \u001b[39m\"\"\"Require `ase` package.\u001b[39;00m\n\u001b[1;32m    <a href='file:///Users/kevinmaikjablonka/miniconda3/envs/moffragmentor/lib/python3.8/site-packages/nglview/show.py?line=144'>145</a>\u001b[0m \n\u001b[1;32m    <a href='file:///Users/kevinmaikjablonka/miniconda3/envs/moffragmentor/lib/python3.8/site-packages/nglview/show.py?line=145'>146</a>\u001b[0m \u001b[39mExamples\u001b[39;00m\n\u001b[0;32m   (...)\u001b[0m\n\u001b[1;32m    <a href='file:///Users/kevinmaikjablonka/miniconda3/envs/moffragmentor/lib/python3.8/site-packages/nglview/show.py?line=153'>154</a>\u001b[0m \u001b[39m... view\u001b[39;00m\n\u001b[1;32m    <a href='file:///Users/kevinmaikjablonka/miniconda3/envs/moffragmentor/lib/python3.8/site-packages/nglview/show.py?line=154'>155</a>\u001b[0m \u001b[39m\"\"\"\u001b[39;00m\n\u001b[1;32m    <a href='file:///Users/kevinmaikjablonka/miniconda3/envs/moffragmentor/lib/python3.8/site-packages/nglview/show.py?line=155'>156</a>\u001b[0m \u001b[39mfrom\u001b[39;00m \u001b[39mpymatgen\u001b[39;00m\u001b[39m.\u001b[39;00m\u001b[39mio\u001b[39;00m\u001b[39m.\u001b[39;00m\u001b[39mase\u001b[39;00m \u001b[39mimport\u001b[39;00m AseAtomsAdaptor\n\u001b[0;32m--> <a href='file:///Users/kevinmaikjablonka/miniconda3/envs/moffragmentor/lib/python3.8/site-packages/nglview/show.py?line=156'>157</a>\u001b[0m \u001b[39mreturn\u001b[39;00m show_ase(AseAtomsAdaptor()\u001b[39m.\u001b[39;49mget_atoms(struct))\n",
      "File \u001b[0;32m~/miniconda3/envs/moffragmentor/lib/python3.8/site-packages/pymatgen/io/ase.py:54\u001b[0m, in \u001b[0;36mAseAtomsAdaptor.get_atoms\u001b[0;34m(structure, **kwargs)\u001b[0m\n\u001b[1;32m     <a href='file:///Users/kevinmaikjablonka/miniconda3/envs/moffragmentor/lib/python3.8/site-packages/pymatgen/io/ase.py?line=51'>52</a>\u001b[0m     \u001b[39mraise\u001b[39;00m \u001b[39mValueError\u001b[39;00m(\u001b[39m\"\u001b[39m\u001b[39mASE Atoms only supports ordered structures\u001b[39m\u001b[39m\"\u001b[39m)\n\u001b[1;32m     <a href='file:///Users/kevinmaikjablonka/miniconda3/envs/moffragmentor/lib/python3.8/site-packages/pymatgen/io/ase.py?line=52'>53</a>\u001b[0m \u001b[39mif\u001b[39;00m \u001b[39mnot\u001b[39;00m ase_loaded:\n\u001b[0;32m---> <a href='file:///Users/kevinmaikjablonka/miniconda3/envs/moffragmentor/lib/python3.8/site-packages/pymatgen/io/ase.py?line=53'>54</a>\u001b[0m     \u001b[39mraise\u001b[39;00m \u001b[39mImportError\u001b[39;00m(\n\u001b[1;32m     <a href='file:///Users/kevinmaikjablonka/miniconda3/envs/moffragmentor/lib/python3.8/site-packages/pymatgen/io/ase.py?line=54'>55</a>\u001b[0m         \u001b[39m\"\u001b[39m\u001b[39mAseAtomsAdaptor requires the ASE package.\u001b[39m\u001b[39m\\n\u001b[39;00m\u001b[39mUse `pip install ase` or `conda install ase -c conda-forge`\u001b[39m\u001b[39m\"\u001b[39m\n\u001b[1;32m     <a href='file:///Users/kevinmaikjablonka/miniconda3/envs/moffragmentor/lib/python3.8/site-packages/pymatgen/io/ase.py?line=55'>56</a>\u001b[0m     )\n\u001b[1;32m     <a href='file:///Users/kevinmaikjablonka/miniconda3/envs/moffragmentor/lib/python3.8/site-packages/pymatgen/io/ase.py?line=57'>58</a>\u001b[0m \u001b[39m# Construct the base ASE Atoms object\u001b[39;00m\n\u001b[1;32m     <a href='file:///Users/kevinmaikjablonka/miniconda3/envs/moffragmentor/lib/python3.8/site-packages/pymatgen/io/ase.py?line=58'>59</a>\u001b[0m symbols \u001b[39m=\u001b[39m [\u001b[39mstr\u001b[39m(site\u001b[39m.\u001b[39mspecie\u001b[39m.\u001b[39msymbol) \u001b[39mfor\u001b[39;00m site \u001b[39min\u001b[39;00m structure]\n",
      "\u001b[0;31mImportError\u001b[0m: AseAtomsAdaptor requires the ASE package.\nUse `pip install ase` or `conda install ase -c conda-forge`"
     ]
    }
   ],
   "source": [
    "linker_collection[0].show_molecule()"
   ]
  },
  {
   "cell_type": "code",
   "execution_count": 18,
   "metadata": {},
   "outputs": [
    {
     "ename": "NameError",
     "evalue": "name 'bbs' is not defined",
     "output_type": "error",
     "traceback": [
      "\u001b[0;31m---------------------------------------------------------------------------\u001b[0m",
      "\u001b[0;31mNameError\u001b[0m                                 Traceback (most recent call last)",
      "\u001b[1;32m/Users/kevinmaikjablonka/git/kjappelbaum/moffragmentor/examples/20220413_formate_fix.ipynb Cell 18'\u001b[0m in \u001b[0;36m<cell line: 1>\u001b[0;34m()\u001b[0m\n\u001b[0;32m----> <a href='vscode-notebook-cell:/Users/kevinmaikjablonka/git/kjappelbaum/moffragmentor/examples/20220413_formate_fix.ipynb#ch0000022?line=0'>1</a>\u001b[0m bridges_across_cell(mof, bbs\u001b[39m.\u001b[39mbound_solvent\u001b[39m.\u001b[39mmolecules[\u001b[39m0\u001b[39m])\n",
      "\u001b[0;31mNameError\u001b[0m: name 'bbs' is not defined"
     ]
    }
   ],
   "source": [
    "bridges_across_cell(mof, bbs.bound_solvent.molecules[0])"
   ]
  },
  {
   "cell_type": "code",
   "execution_count": 19,
   "metadata": {},
   "outputs": [
    {
     "ename": "ImportError",
     "evalue": "AseAtomsAdaptor requires the ASE package.\nUse `pip install ase` or `conda install ase -c conda-forge`",
     "output_type": "error",
     "traceback": [
      "\u001b[0;31m---------------------------------------------------------------------------\u001b[0m",
      "\u001b[0;31mImportError\u001b[0m                               Traceback (most recent call last)",
      "\u001b[1;32m/Users/kevinmaikjablonka/git/kjappelbaum/moffragmentor/examples/20220413_formate_fix.ipynb Cell 19'\u001b[0m in \u001b[0;36m<cell line: 1>\u001b[0;34m()\u001b[0m\n\u001b[0;32m----> <a href='vscode-notebook-cell:/Users/kevinmaikjablonka/git/kjappelbaum/moffragmentor/examples/20220413_formate_fix.ipynb#ch0000004?line=0'>1</a>\u001b[0m mof\u001b[39m.\u001b[39;49mshow_structure()\n",
      "File \u001b[0;32m~/git/kjappelbaum/moffragmentor/src/moffragmentor/mof.py:222\u001b[0m, in \u001b[0;36mMOF.show_structure\u001b[0;34m(self)\u001b[0m\n\u001b[1;32m    <a href='file:///Users/kevinmaikjablonka/git/kjappelbaum/moffragmentor/src/moffragmentor/mof.py?line=218'>219</a>\u001b[0m \u001b[39m\"\"\"Visualize structure using nglview\"\"\"\u001b[39;00m\n\u001b[1;32m    <a href='file:///Users/kevinmaikjablonka/git/kjappelbaum/moffragmentor/src/moffragmentor/mof.py?line=219'>220</a>\u001b[0m \u001b[39mimport\u001b[39;00m \u001b[39mnglview\u001b[39;00m  \u001b[39m# pylint:disable=import-outside-toplevel\u001b[39;00m\n\u001b[0;32m--> <a href='file:///Users/kevinmaikjablonka/git/kjappelbaum/moffragmentor/src/moffragmentor/mof.py?line=221'>222</a>\u001b[0m \u001b[39mreturn\u001b[39;00m nglview\u001b[39m.\u001b[39;49mshow_pymatgen(\u001b[39mself\u001b[39;49m\u001b[39m.\u001b[39;49mstructure)\n",
      "File \u001b[0;32m~/miniconda3/envs/moffragmentor/lib/python3.8/site-packages/nglview/show.py:157\u001b[0m, in \u001b[0;36mshow_pymatgen\u001b[0;34m(struct, **kwargs)\u001b[0m\n\u001b[1;32m    <a href='file:///Users/kevinmaikjablonka/miniconda3/envs/moffragmentor/lib/python3.8/site-packages/nglview/show.py?line=143'>144</a>\u001b[0m \u001b[39m\"\"\"Require `ase` package.\u001b[39;00m\n\u001b[1;32m    <a href='file:///Users/kevinmaikjablonka/miniconda3/envs/moffragmentor/lib/python3.8/site-packages/nglview/show.py?line=144'>145</a>\u001b[0m \n\u001b[1;32m    <a href='file:///Users/kevinmaikjablonka/miniconda3/envs/moffragmentor/lib/python3.8/site-packages/nglview/show.py?line=145'>146</a>\u001b[0m \u001b[39mExamples\u001b[39;00m\n\u001b[0;32m   (...)\u001b[0m\n\u001b[1;32m    <a href='file:///Users/kevinmaikjablonka/miniconda3/envs/moffragmentor/lib/python3.8/site-packages/nglview/show.py?line=153'>154</a>\u001b[0m \u001b[39m... view\u001b[39;00m\n\u001b[1;32m    <a href='file:///Users/kevinmaikjablonka/miniconda3/envs/moffragmentor/lib/python3.8/site-packages/nglview/show.py?line=154'>155</a>\u001b[0m \u001b[39m\"\"\"\u001b[39;00m\n\u001b[1;32m    <a href='file:///Users/kevinmaikjablonka/miniconda3/envs/moffragmentor/lib/python3.8/site-packages/nglview/show.py?line=155'>156</a>\u001b[0m \u001b[39mfrom\u001b[39;00m \u001b[39mpymatgen\u001b[39;00m\u001b[39m.\u001b[39;00m\u001b[39mio\u001b[39;00m\u001b[39m.\u001b[39;00m\u001b[39mase\u001b[39;00m \u001b[39mimport\u001b[39;00m AseAtomsAdaptor\n\u001b[0;32m--> <a href='file:///Users/kevinmaikjablonka/miniconda3/envs/moffragmentor/lib/python3.8/site-packages/nglview/show.py?line=156'>157</a>\u001b[0m \u001b[39mreturn\u001b[39;00m show_ase(AseAtomsAdaptor()\u001b[39m.\u001b[39;49mget_atoms(struct))\n",
      "File \u001b[0;32m~/miniconda3/envs/moffragmentor/lib/python3.8/site-packages/pymatgen/io/ase.py:54\u001b[0m, in \u001b[0;36mAseAtomsAdaptor.get_atoms\u001b[0;34m(structure, **kwargs)\u001b[0m\n\u001b[1;32m     <a href='file:///Users/kevinmaikjablonka/miniconda3/envs/moffragmentor/lib/python3.8/site-packages/pymatgen/io/ase.py?line=51'>52</a>\u001b[0m     \u001b[39mraise\u001b[39;00m \u001b[39mValueError\u001b[39;00m(\u001b[39m\"\u001b[39m\u001b[39mASE Atoms only supports ordered structures\u001b[39m\u001b[39m\"\u001b[39m)\n\u001b[1;32m     <a href='file:///Users/kevinmaikjablonka/miniconda3/envs/moffragmentor/lib/python3.8/site-packages/pymatgen/io/ase.py?line=52'>53</a>\u001b[0m \u001b[39mif\u001b[39;00m \u001b[39mnot\u001b[39;00m ase_loaded:\n\u001b[0;32m---> <a href='file:///Users/kevinmaikjablonka/miniconda3/envs/moffragmentor/lib/python3.8/site-packages/pymatgen/io/ase.py?line=53'>54</a>\u001b[0m     \u001b[39mraise\u001b[39;00m \u001b[39mImportError\u001b[39;00m(\n\u001b[1;32m     <a href='file:///Users/kevinmaikjablonka/miniconda3/envs/moffragmentor/lib/python3.8/site-packages/pymatgen/io/ase.py?line=54'>55</a>\u001b[0m         \u001b[39m\"\u001b[39m\u001b[39mAseAtomsAdaptor requires the ASE package.\u001b[39m\u001b[39m\\n\u001b[39;00m\u001b[39mUse `pip install ase` or `conda install ase -c conda-forge`\u001b[39m\u001b[39m\"\u001b[39m\n\u001b[1;32m     <a href='file:///Users/kevinmaikjablonka/miniconda3/envs/moffragmentor/lib/python3.8/site-packages/pymatgen/io/ase.py?line=55'>56</a>\u001b[0m     )\n\u001b[1;32m     <a href='file:///Users/kevinmaikjablonka/miniconda3/envs/moffragmentor/lib/python3.8/site-packages/pymatgen/io/ase.py?line=57'>58</a>\u001b[0m \u001b[39m# Construct the base ASE Atoms object\u001b[39;00m\n\u001b[1;32m     <a href='file:///Users/kevinmaikjablonka/miniconda3/envs/moffragmentor/lib/python3.8/site-packages/pymatgen/io/ase.py?line=58'>59</a>\u001b[0m symbols \u001b[39m=\u001b[39m [\u001b[39mstr\u001b[39m(site\u001b[39m.\u001b[39mspecie\u001b[39m.\u001b[39msymbol) \u001b[39mfor\u001b[39;00m site \u001b[39min\u001b[39;00m structure]\n",
      "\u001b[0;31mImportError\u001b[0m: AseAtomsAdaptor requires the ASE package.\nUse `pip install ase` or `conda install ase -c conda-forge`"
     ]
    }
   ],
   "source": [
    "mof.show_structure()"
   ]
  },
  {
   "cell_type": "code",
   "execution_count": 25,
   "metadata": {},
   "outputs": [
    {
     "data": {
      "text/plain": [
       "'[O]C=O'"
      ]
     },
     "execution_count": 25,
     "metadata": {},
     "output_type": "execute_result"
    }
   ],
   "source": [
    "linker_collection[0].smiles"
   ]
  },
  {
   "cell_type": "code",
   "execution_count": 21,
   "metadata": {},
   "outputs": [
    {
     "name": "stderr",
     "output_type": "stream",
     "text": [
      "2022-04-13 17:43:25.629 | WARNING  | moffragmentor.fragmentor.nodelocator:find_node_clusters:63 - No branch sites found according to branch site definition.             Using now CN=3 sites between metals as branch sites.                This is not consistent with the conventions used in other parts of the code. ̰\n",
      "2022-04-13 17:43:25.752 | WARNING  | moffragmentor.fragmentor.linkerlocator:_create_linkers_from_node_location_result:141 - No linkers with two branching sites in molecule found. Looking for molecules with one branching site.\n",
      "2022-04-13 17:43:25.788 | INFO     | moffragmentor.fragmentor:run_fragmentation:45 - Checking for metal in linker\n"
     ]
    },
    {
     "name": "stdout",
     "output_type": "stream",
     "text": [
      "{6: (0, 0, 0), 0: (-1, 0, 0), 3: (0, 0, 0), 7: (0, 0, 0), 10: (0, 0, 0)} [7, 6, 3, 10] 10\n",
      "{6: (0, 0, 0), 0: (0, 0, 0), 3: (0, 0, 0), 7: (0, 0, 0), 10: (0, 0, 0)} [10, 6, 3, 7] 7\n",
      "{5: (0, -1, 0), 0: (0, -1, 1), 2: (1, 0, 0), 12: (0, 1, 0), 11: (0, 1, 0)} [12, 5, 2, 11] 2\n",
      "{4: (0, 0, 1), 0: (-1, -1, 1), 1: (-1, 0, 0), 8: (0, 0, -1), 9: (0, 0, -1)} [9, 4, 1, 8] 1\n",
      "{5: (0, -1, 0), 0: (0, -1, 0), 2: (1, 0, 0), 12: (0, 1, 0), 11: (0, 1, 0)} [11, 5, 2, 12] 2\n",
      "{4: (0, 0, 1), 0: (-1, 0, 1), 1: (-1, 0, 0), 8: (0, 0, -1), 9: (0, 0, -1)} [8, 4, 1, 9] 1\n",
      "{6: (0, 0, 0), 0: (-1, 0, 0), 3: (0, 0, 0), 7: (0, 0, 0), 10: (0, 0, 0)} [7, 6, 3, 10] 10\n",
      "{6: (0, 0, 0), 0: (0, 0, 0), 3: (0, 0, 0), 7: (0, 0, 0), 10: (0, 0, 0)} [10, 6, 3, 7] 7\n",
      "{5: (0, -1, 0), 0: (0, -1, 1), 2: (1, 0, 0), 12: (0, 1, 0), 11: (0, 1, 0)} [12, 5, 2, 11] 2\n",
      "{4: (0, 0, 1), 0: (-1, -1, 1), 1: (-1, 0, 0), 8: (0, 0, -1), 9: (0, 0, -1)} [9, 4, 1, 8] 1\n",
      "{5: (0, -1, 0), 0: (0, -1, 0), 2: (1, 0, 0), 12: (0, 1, 0), 11: (0, 1, 0)} [11, 5, 2, 12] 2\n",
      "{4: (0, 0, 1), 0: (-1, 0, 1), 1: (-1, 0, 0), 8: (0, 0, -1), 9: (0, 0, -1)} [8, 4, 1, 9] 1\n"
     ]
    },
    {
     "ename": "QhullError",
     "evalue": "QH6214 qhull input error: not enough points(3) to construct initial simplex (need 5)\n\nWhile executing:  | qhull d QJ\nOptions selected for Qhull 2019.1.r 2019/06/21:\n  run-id 965566171  delaunay  Qbbound-last-qj  _maxoutside  0\n",
     "output_type": "error",
     "traceback": [
      "\u001b[0;31m---------------------------------------------------------------------------\u001b[0m",
      "\u001b[0;31mQhullError\u001b[0m                                Traceback (most recent call last)",
      "File \u001b[0;32m~/git/kjappelbaum/moffragmentor/src/moffragmentor/fragmentor/filter.py:45\u001b[0m, in \u001b[0;36min_hull\u001b[0;34m(pointcloud, hull)\u001b[0m\n\u001b[1;32m     <a href='file:///Users/kevinmaikjablonka/git/kjappelbaum/moffragmentor/src/moffragmentor/fragmentor/filter.py?line=43'>44</a>\u001b[0m     \u001b[39mif\u001b[39;00m \u001b[39mnot\u001b[39;00m \u001b[39misinstance\u001b[39m(hull, Delaunay):\n\u001b[0;32m---> <a href='file:///Users/kevinmaikjablonka/git/kjappelbaum/moffragmentor/src/moffragmentor/fragmentor/filter.py?line=44'>45</a>\u001b[0m         hull \u001b[39m=\u001b[39m Delaunay(hull)\n\u001b[1;32m     <a href='file:///Users/kevinmaikjablonka/git/kjappelbaum/moffragmentor/src/moffragmentor/fragmentor/filter.py?line=45'>46</a>\u001b[0m \u001b[39mexcept\u001b[39;00m QhullError:\n",
      "File \u001b[0;32m_qhull.pyx:1841\u001b[0m, in \u001b[0;36mscipy.spatial._qhull.Delaunay.__init__\u001b[0;34m()\u001b[0m\n",
      "File \u001b[0;32m_qhull.pyx:357\u001b[0m, in \u001b[0;36mscipy.spatial._qhull._Qhull.__init__\u001b[0;34m()\u001b[0m\n",
      "\u001b[0;31mQhullError\u001b[0m: QH6214 qhull input error: not enough points(3) to construct initial simplex (need 5)\n\nWhile executing:  | qhull d Qz Q12 Qc Qt Qbb\nOptions selected for Qhull 2019.1.r 2019/06/21:\n  run-id 965566171  delaunay  Qz-infinity-point  Q12-allow-wide  Qcoplanar-keep\n  Qtriangulate  Qbbound-last  _pre-merge  _zero-centrum  Qinterior-keep\n  _maxoutside  0\n",
      "\nDuring handling of the above exception, another exception occurred:\n",
      "\u001b[0;31mQhullError\u001b[0m                                Traceback (most recent call last)",
      "\u001b[1;32m/Users/kevinmaikjablonka/git/kjappelbaum/moffragmentor/examples/20220413_formate_fix.ipynb Cell 21'\u001b[0m in \u001b[0;36m<cell line: 1>\u001b[0;34m()\u001b[0m\n\u001b[0;32m----> <a href='vscode-notebook-cell:/Users/kevinmaikjablonka/git/kjappelbaum/moffragmentor/examples/20220413_formate_fix.ipynb#ch0000005?line=0'>1</a>\u001b[0m bbs \u001b[39m=\u001b[39m mof\u001b[39m.\u001b[39;49mfragment()\n",
      "File \u001b[0;32m~/git/kjappelbaum/moffragmentor/src/moffragmentor/mof.py:231\u001b[0m, in \u001b[0;36mMOF.fragment\u001b[0;34m(self)\u001b[0m\n\u001b[1;32m    <a href='file:///Users/kevinmaikjablonka/git/kjappelbaum/moffragmentor/src/moffragmentor/mof.py?line=227'>228</a>\u001b[0m \u001b[39mdef\u001b[39;00m \u001b[39mfragment\u001b[39m(\u001b[39mself\u001b[39m):\n\u001b[1;32m    <a href='file:///Users/kevinmaikjablonka/git/kjappelbaum/moffragmentor/src/moffragmentor/mof.py?line=228'>229</a>\u001b[0m     \u001b[39m\"\"\"Splits the MOF into building blocks (linkers, nodes, bound,\u001b[39;00m\n\u001b[1;32m    <a href='file:///Users/kevinmaikjablonka/git/kjappelbaum/moffragmentor/src/moffragmentor/mof.py?line=229'>230</a>\u001b[0m \u001b[39m    undbound solvent, net embedding of those building blocks)\"\"\"\u001b[39;00m\n\u001b[0;32m--> <a href='file:///Users/kevinmaikjablonka/git/kjappelbaum/moffragmentor/src/moffragmentor/mof.py?line=230'>231</a>\u001b[0m     \u001b[39mreturn\u001b[39;00m \u001b[39mself\u001b[39;49m\u001b[39m.\u001b[39;49m_fragment()\n",
      "File \u001b[0;32m~/git/kjappelbaum/moffragmentor/src/moffragmentor/mof.py:225\u001b[0m, in \u001b[0;36mMOF._fragment\u001b[0;34m(self)\u001b[0m\n\u001b[1;32m    <a href='file:///Users/kevinmaikjablonka/git/kjappelbaum/moffragmentor/src/moffragmentor/mof.py?line=223'>224</a>\u001b[0m \u001b[39mdef\u001b[39;00m \u001b[39m_fragment\u001b[39m(\u001b[39mself\u001b[39m):\n\u001b[0;32m--> <a href='file:///Users/kevinmaikjablonka/git/kjappelbaum/moffragmentor/src/moffragmentor/mof.py?line=224'>225</a>\u001b[0m     fragmentation_result \u001b[39m=\u001b[39m run_fragmentation(\u001b[39mself\u001b[39;49m)\n\u001b[1;32m    <a href='file:///Users/kevinmaikjablonka/git/kjappelbaum/moffragmentor/src/moffragmentor/mof.py?line=225'>226</a>\u001b[0m     \u001b[39mreturn\u001b[39;00m fragmentation_result\n",
      "File \u001b[0;32m~/git/kjappelbaum/moffragmentor/src/moffragmentor/fragmentor/__init__.py:55\u001b[0m, in \u001b[0;36mrun_fragmentation\u001b[0;34m(mof)\u001b[0m\n\u001b[1;32m     <a href='file:///Users/kevinmaikjablonka/git/kjappelbaum/moffragmentor/src/moffragmentor/fragmentor/__init__.py?line=52'>53</a>\u001b[0m \u001b[39mif\u001b[39;00m \u001b[39mlen\u001b[39m(metal_in_node) \u001b[39m==\u001b[39m \u001b[39m1\u001b[39m:\n\u001b[1;32m     <a href='file:///Users/kevinmaikjablonka/git/kjappelbaum/moffragmentor/src/moffragmentor/fragmentor/__init__.py?line=53'>54</a>\u001b[0m     \u001b[39mfor\u001b[39;00m linker \u001b[39min\u001b[39;00m linker_collection:\n\u001b[0;32m---> <a href='file:///Users/kevinmaikjablonka/git/kjappelbaum/moffragmentor/src/moffragmentor/fragmentor/__init__.py?line=54'>55</a>\u001b[0m         \u001b[39mif\u001b[39;00m point_in_mol_coords(\n\u001b[1;32m     <a href='file:///Users/kevinmaikjablonka/git/kjappelbaum/moffragmentor/src/moffragmentor/fragmentor/__init__.py?line=55'>56</a>\u001b[0m             mof\u001b[39m.\u001b[39;49mcart_coords[metal_in_node[\u001b[39m0\u001b[39;49m]],\n\u001b[1;32m     <a href='file:///Users/kevinmaikjablonka/git/kjappelbaum/moffragmentor/src/moffragmentor/fragmentor/__init__.py?line=56'>57</a>\u001b[0m             mof\u001b[39m.\u001b[39;49mcart_coords[\n\u001b[1;32m     <a href='file:///Users/kevinmaikjablonka/git/kjappelbaum/moffragmentor/src/moffragmentor/fragmentor/__init__.py?line=57'>58</a>\u001b[0m                 linker\u001b[39m.\u001b[39;49m_original_indices  \u001b[39m# pylint:disable=protected-access\u001b[39;49;00m\n\u001b[1;32m     <a href='file:///Users/kevinmaikjablonka/git/kjappelbaum/moffragmentor/src/moffragmentor/fragmentor/__init__.py?line=58'>59</a>\u001b[0m             ],\n\u001b[1;32m     <a href='file:///Users/kevinmaikjablonka/git/kjappelbaum/moffragmentor/src/moffragmentor/fragmentor/__init__.py?line=59'>60</a>\u001b[0m             mof\u001b[39m.\u001b[39;49mlattice,\n\u001b[1;32m     <a href='file:///Users/kevinmaikjablonka/git/kjappelbaum/moffragmentor/src/moffragmentor/fragmentor/__init__.py?line=60'>61</a>\u001b[0m         ):\n\u001b[1;32m     <a href='file:///Users/kevinmaikjablonka/git/kjappelbaum/moffragmentor/src/moffragmentor/fragmentor/__init__.py?line=61'>62</a>\u001b[0m             \u001b[39mif\u001b[39;00m (\n\u001b[1;32m     <a href='file:///Users/kevinmaikjablonka/git/kjappelbaum/moffragmentor/src/moffragmentor/fragmentor/__init__.py?line=62'>63</a>\u001b[0m                 \u001b[39mlen\u001b[39m(\n\u001b[1;32m     <a href='file:///Users/kevinmaikjablonka/git/kjappelbaum/moffragmentor/src/moffragmentor/fragmentor/__init__.py?line=63'>64</a>\u001b[0m                     \u001b[39mset\u001b[39m(mof\u001b[39m.\u001b[39mget_neighbor_indices(metal_in_node[\u001b[39m0\u001b[39m]))\n\u001b[0;32m   (...)\u001b[0m\n\u001b[1;32m     <a href='file:///Users/kevinmaikjablonka/git/kjappelbaum/moffragmentor/src/moffragmentor/fragmentor/__init__.py?line=68'>69</a>\u001b[0m                 \u001b[39m>\u001b[39m \u001b[39m1\u001b[39m\n\u001b[1;32m     <a href='file:///Users/kevinmaikjablonka/git/kjappelbaum/moffragmentor/src/moffragmentor/fragmentor/__init__.py?line=69'>70</a>\u001b[0m             ):\n\u001b[1;32m     <a href='file:///Users/kevinmaikjablonka/git/kjappelbaum/moffragmentor/src/moffragmentor/fragmentor/__init__.py?line=70'>71</a>\u001b[0m                 need_rerun \u001b[39m=\u001b[39m \u001b[39mTrue\u001b[39;00m\n",
      "File \u001b[0;32m~/git/kjappelbaum/moffragmentor/src/moffragmentor/fragmentor/filter.py:28\u001b[0m, in \u001b[0;36mpoint_in_mol_coords\u001b[0;34m(point, points, lattice)\u001b[0m\n\u001b[1;32m     <a href='file:///Users/kevinmaikjablonka/git/kjappelbaum/moffragmentor/src/moffragmentor/fragmentor/filter.py?line=25'>26</a>\u001b[0m \u001b[39mdef\u001b[39;00m \u001b[39mpoint_in_mol_coords\u001b[39m(point, points, lattice):\n\u001b[1;32m     <a href='file:///Users/kevinmaikjablonka/git/kjappelbaum/moffragmentor/src/moffragmentor/fragmentor/filter.py?line=26'>27</a>\u001b[0m     new_coords \u001b[39m=\u001b[39m unwrap(np\u001b[39m.\u001b[39mappend(points, [point], axis\u001b[39m=\u001b[39m\u001b[39m0\u001b[39m), lattice)\n\u001b[0;32m---> <a href='file:///Users/kevinmaikjablonka/git/kjappelbaum/moffragmentor/src/moffragmentor/fragmentor/filter.py?line=27'>28</a>\u001b[0m     \u001b[39mreturn\u001b[39;00m in_hull(new_coords[\u001b[39m-\u001b[39m\u001b[39m1\u001b[39m], new_coords[:\u001b[39m-\u001b[39m\u001b[39m1\u001b[39m]) \u001b[39mor\u001b[39;00m in_hull(points[\u001b[39m-\u001b[39;49m\u001b[39m1\u001b[39;49m], points[:\u001b[39m-\u001b[39;49m\u001b[39m1\u001b[39;49m])\n",
      "File \u001b[0;32m~/git/kjappelbaum/moffragmentor/src/moffragmentor/fragmentor/filter.py:47\u001b[0m, in \u001b[0;36min_hull\u001b[0;34m(pointcloud, hull)\u001b[0m\n\u001b[1;32m     <a href='file:///Users/kevinmaikjablonka/git/kjappelbaum/moffragmentor/src/moffragmentor/fragmentor/filter.py?line=44'>45</a>\u001b[0m         hull \u001b[39m=\u001b[39m Delaunay(hull)\n\u001b[1;32m     <a href='file:///Users/kevinmaikjablonka/git/kjappelbaum/moffragmentor/src/moffragmentor/fragmentor/filter.py?line=45'>46</a>\u001b[0m \u001b[39mexcept\u001b[39;00m QhullError:\n\u001b[0;32m---> <a href='file:///Users/kevinmaikjablonka/git/kjappelbaum/moffragmentor/src/moffragmentor/fragmentor/filter.py?line=46'>47</a>\u001b[0m     hull \u001b[39m=\u001b[39m Delaunay(hull, qhull_options\u001b[39m=\u001b[39;49m\u001b[39m\"\u001b[39;49m\u001b[39mQJ\u001b[39;49m\u001b[39m\"\u001b[39;49m)\n\u001b[1;32m     <a href='file:///Users/kevinmaikjablonka/git/kjappelbaum/moffragmentor/src/moffragmentor/fragmentor/filter.py?line=48'>49</a>\u001b[0m \u001b[39mreturn\u001b[39;00m hull\u001b[39m.\u001b[39mfind_simplex(pointcloud) \u001b[39m>\u001b[39m\u001b[39m=\u001b[39m \u001b[39m0\u001b[39m\n",
      "File \u001b[0;32m_qhull.pyx:1841\u001b[0m, in \u001b[0;36mscipy.spatial._qhull.Delaunay.__init__\u001b[0;34m()\u001b[0m\n",
      "File \u001b[0;32m_qhull.pyx:357\u001b[0m, in \u001b[0;36mscipy.spatial._qhull._Qhull.__init__\u001b[0;34m()\u001b[0m\n",
      "\u001b[0;31mQhullError\u001b[0m: QH6214 qhull input error: not enough points(3) to construct initial simplex (need 5)\n\nWhile executing:  | qhull d QJ\nOptions selected for Qhull 2019.1.r 2019/06/21:\n  run-id 965566171  delaunay  Qbbound-last-qj  _maxoutside  0\n"
     ]
    }
   ],
   "source": [
    "bbs = mof.fragment()"
   ]
  },
  {
   "cell_type": "code",
   "execution_count": null,
   "metadata": {},
   "outputs": [
    {
     "data": {
      "text/plain": [
       "[0]"
      ]
     },
     "execution_count": 66,
     "metadata": {},
     "output_type": "execute_result"
    }
   ],
   "source": [
    "mof.metal_indices   "
   ]
  },
  {
   "cell_type": "code",
   "execution_count": null,
   "metadata": {},
   "outputs": [],
   "source": []
  },
  {
   "cell_type": "code",
   "execution_count": null,
   "metadata": {},
   "outputs": [
    {
     "data": {
      "application/vnd.jupyter.widget-view+json": {
       "model_id": "4692c633bafe49b4ae1affaa2f4ece54",
       "version_major": 2,
       "version_minor": 0
      },
      "text/plain": [
       "NGLWidget()"
      ]
     },
     "metadata": {},
     "output_type": "display_data"
    }
   ],
   "source": [
    "bbs.linkers[0].show_molecule()"
   ]
  },
  {
   "cell_type": "markdown",
   "metadata": {},
   "source": []
  },
  {
   "cell_type": "markdown",
   "metadata": {},
   "source": []
  }
 ],
 "metadata": {
  "interpreter": {
   "hash": "504d9678a7660ab60f21950c8a644a7c3f2309ace653d8a0639c80f4ba7e4242"
  },
  "kernelspec": {
   "display_name": "Python 3.8.12 ('moffragmentor')",
   "language": "python",
   "name": "python3"
  },
  "language_info": {
   "codemirror_mode": {
    "name": "ipython",
    "version": 3
   },
   "file_extension": ".py",
   "mimetype": "text/x-python",
   "name": "python",
   "nbconvert_exporter": "python",
   "pygments_lexer": "ipython3",
   "version": "3.8.12"
  },
  "orig_nbformat": 4
 },
 "nbformat": 4,
 "nbformat_minor": 2
}
