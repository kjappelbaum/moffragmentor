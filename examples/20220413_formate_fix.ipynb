{
 "cells": [
  {
   "cell_type": "code",
   "execution_count": 26,
   "metadata": {},
   "outputs": [
    {
     "name": "stdout",
     "output_type": "stream",
     "text": [
      "The autoreload extension is already loaded. To reload it, use:\n",
      "  %reload_ext autoreload\n"
     ]
    }
   ],
   "source": [
    "%load_ext autoreload\n",
    "%autoreload 2"
   ]
  },
  {
   "cell_type": "code",
   "execution_count": 27,
   "metadata": {},
   "outputs": [],
   "source": [
    "from moffragmentor import MOF\n",
    "\n",
    "from moffragmentor.fragmentor.solventlocator import get_floating_solvent_molecules, get_all_bound_solvent_molecules\n",
    "from moffragmentor.fragmentor.nodelocator import find_node_clusters, create_node_collection\n",
    "from moffragmentor.fragmentor.linkerlocator import create_linker_collection"
   ]
  },
  {
   "cell_type": "code",
   "execution_count": 28,
   "metadata": {},
   "outputs": [],
   "source": [
    "mof = MOF.from_cif('/Users/kevinmaikjablonka/Dropbox (LSMO)/reference_set_project/aiida_optimized_2021_01_08_3203_OLD/opt_cifs/RSM0001.cif')"
   ]
  },
  {
   "cell_type": "code",
   "execution_count": 29,
   "metadata": {},
   "outputs": [],
   "source": [
    "sg = mof.structure_graph"
   ]
  },
  {
   "cell_type": "code",
   "execution_count": 30,
   "metadata": {},
   "outputs": [
    {
     "data": {
      "text/plain": [
       "[ConnectedSite(site=PeriodicSite: C (6.9106, 2.3102, 3.0426) [1.0600, 0.3999, 0.0235], jimage=(1, 0, 0), index=4, weight=None, dist=1.1042191098137004)]"
      ]
     },
     "execution_count": 30,
     "metadata": {},
     "output_type": "execute_result"
    }
   ],
   "source": [
    "sg.get_connected_sites(1)"
   ]
  },
  {
   "cell_type": "code",
   "execution_count": 31,
   "metadata": {},
   "outputs": [
    {
     "name": "stderr",
     "output_type": "stream",
     "text": [
      "2022-04-13 17:56:05.985 | WARNING  | moffragmentor.fragmentor.nodelocator:find_node_clusters:63 - No branch sites found according to branch site definition.             Using now CN=3 sites between metals as branch sites.                This is not consistent with the conventions used in other parts of the code. ̰\n"
     ]
    },
    {
     "name": "stdout",
     "output_type": "stream",
     "text": [
      "{6: (0, 0, 0), 0: (-1, 0, 0), 3: (0, 0, 0), 7: (0, 0, 0), 10: (0, 0, 0)} [7, 6, 3, 10] 10\n",
      "{6: (0, 0, 0), 0: (0, 0, 0), 3: (0, 0, 0), 7: (0, 0, 0), 10: (0, 0, 0)} [10, 6, 3, 7] 7\n",
      "{5: (0, -1, 0), 0: (0, -1, 1), 2: (1, 0, 0), 12: (0, 1, 0), 11: (0, 1, 0)} [12, 5, 2, 11] 2\n",
      "{4: (0, 0, 1), 0: (-1, -1, 1), 1: (-1, 0, 0), 8: (0, 0, -1), 9: (0, 0, -1)} [9, 4, 1, 8] 1\n",
      "{5: (0, -1, 0), 0: (0, -1, 0), 2: (1, 0, 0), 12: (0, 1, 0), 11: (0, 1, 0)} [11, 5, 2, 12] 2\n",
      "{4: (0, 0, 1), 0: (-1, 0, 1), 1: (-1, 0, 0), 8: (0, 0, -1), 9: (0, 0, -1)} [8, 4, 1, 9] 1\n",
      "{6: (0, 0, 0), 0: (-1, 0, 0), 3: (0, 0, 0), 7: (0, 0, 0), 10: (0, 0, 0)} [7, 6, 3, 10] 10\n",
      "{6: (0, 0, 0), 0: (0, 0, 0), 3: (0, 0, 0), 7: (0, 0, 0), 10: (0, 0, 0)} [10, 6, 3, 7] 7\n",
      "{5: (0, -1, 0), 0: (0, -1, 1), 2: (1, 0, 0), 12: (0, 1, 0), 11: (0, 1, 0)} [12, 5, 2, 11] 2\n",
      "{4: (0, 0, 1), 0: (-1, -1, 1), 1: (-1, 0, 0), 8: (0, 0, -1), 9: (0, 0, -1)} [9, 4, 1, 8] 1\n",
      "{5: (0, -1, 0), 0: (0, -1, 0), 2: (1, 0, 0), 12: (0, 1, 0), 11: (0, 1, 0)} [11, 5, 2, 12] 2\n",
      "{4: (0, 0, 1), 0: (-1, 0, 1), 1: (-1, 0, 0), 8: (0, 0, -1), 9: (0, 0, -1)} [8, 4, 1, 9] 1\n"
     ]
    }
   ],
   "source": [
    "unbound_solvent = get_floating_solvent_molecules(mof)\n",
    "    # Find nodes\n",
    "node_result = find_node_clusters(mof, unbound_solvent.indices)\n",
    "node_collection = create_node_collection(mof, node_result)\n",
    "    # Find bound solvent\n",
    "    # \n",
    "bound_solvent = get_all_bound_solvent_molecules(mof, node_result.nodes)\n",
    "    # Filter the linkers (valid linkers have at least two branch points)"
   ]
  },
  {
   "cell_type": "code",
   "execution_count": 32,
   "metadata": {},
   "outputs": [
    {
     "data": {
      "text/plain": [
       "[{0, 4, 5, 6, 7, 8, 9, 10, 11, 12}]"
      ]
     },
     "execution_count": 32,
     "metadata": {},
     "output_type": "execute_result"
    }
   ],
   "source": [
    "node_result.nodes"
   ]
  },
  {
   "cell_type": "code",
   "execution_count": 33,
   "metadata": {},
   "outputs": [
    {
     "data": {
      "text/plain": [
       "{4, 5, 6}"
      ]
     },
     "execution_count": 33,
     "metadata": {},
     "output_type": "execute_result"
    }
   ],
   "source": [
    "node_result.branching_indices"
   ]
  },
  {
   "cell_type": "code",
   "execution_count": 34,
   "metadata": {},
   "outputs": [
    {
     "data": {
      "text/plain": [
       "set()"
      ]
     },
     "execution_count": 34,
     "metadata": {},
     "output_type": "execute_result"
    }
   ],
   "source": [
    "set(bound_solvent.indices)"
   ]
  },
  {
   "cell_type": "code",
   "execution_count": 35,
   "metadata": {},
   "outputs": [
    {
     "ename": "IndexError",
     "evalue": "list index out of range",
     "output_type": "error",
     "traceback": [
      "\u001b[0;31m---------------------------------------------------------------------------\u001b[0m",
      "\u001b[0;31mIndexError\u001b[0m                                Traceback (most recent call last)",
      "\u001b[1;32m/Users/kevinmaikjablonka/git/kjappelbaum/moffragmentor/examples/20220413_formate_fix.ipynb Cell 10'\u001b[0m in \u001b[0;36m<cell line: 1>\u001b[0;34m()\u001b[0m\n\u001b[0;32m----> <a href='vscode-notebook-cell:/Users/kevinmaikjablonka/git/kjappelbaum/moffragmentor/examples/20220413_formate_fix.ipynb#ch0000020?line=0'>1</a>\u001b[0m bound_solvent\u001b[39m.\u001b[39;49mmolecules[\u001b[39m0\u001b[39;49m]\u001b[39m.\u001b[39mindices\n",
      "\u001b[0;31mIndexError\u001b[0m: list index out of range"
     ]
    }
   ],
   "source": [
    "bound_solvent.molecules[0].indices"
   ]
  },
  {
   "cell_type": "code",
   "execution_count": 36,
   "metadata": {},
   "outputs": [
    {
     "data": {
      "text/plain": [
       "[ConnectedSite(site=PeriodicSite: C (4.0439, 4.6877, 3.9745) [0.5000, 0.8115, 0.1885], jimage=(0, 0, 0), index=6, weight=None, dist=1.2769607847523299),\n",
       " ConnectedSite(site=PeriodicSite: Gd (7.1598, 5.1169, 4.6091) [1.0000, 0.8858, 0.1142], jimage=(0, 0, 0), index=0, weight=None, dist=2.3214169446953075)]"
      ]
     },
     "execution_count": 36,
     "metadata": {},
     "output_type": "execute_result"
    }
   ],
   "source": [
    "mof.structure_graph.get_connected_sites(10)"
   ]
  },
  {
   "cell_type": "code",
   "execution_count": 37,
   "metadata": {},
   "outputs": [
    {
     "data": {
      "text/plain": [
       "[ConnectedSite(site=PeriodicSite: C (4.0439, 4.6877, 3.9745) [0.5000, 0.8115, 0.1885], jimage=(0, 0, 0), index=6, weight=None, dist=1.2766651695954734),\n",
       " ConnectedSite(site=PeriodicSite: Gd (1.1153, 5.1169, 2.7368) [-0.0000, 0.8858, 0.1142], jimage=(-1, 0, 0), index=0, weight=None, dist=2.3212885443697715)]"
      ]
     },
     "execution_count": 37,
     "metadata": {},
     "output_type": "execute_result"
    }
   ],
   "source": [
    "mof.structure_graph.get_connected_sites(7)"
   ]
  },
  {
   "cell_type": "code",
   "execution_count": 38,
   "metadata": {},
   "outputs": [
    {
     "data": {
      "text/plain": [
       "{4, 5, 6}"
      ]
     },
     "execution_count": 38,
     "metadata": {},
     "output_type": "execute_result"
    }
   ],
   "source": [
    "node_result.branching_indices"
   ]
  },
  {
   "cell_type": "code",
   "execution_count": 39,
   "metadata": {},
   "outputs": [
    {
     "name": "stderr",
     "output_type": "stream",
     "text": [
      "2022-04-13 17:56:07.360 | WARNING  | moffragmentor.fragmentor.linkerlocator:_create_linkers_from_node_location_result:141 - No linkers with two branching sites in molecule found. Looking for molecules with one branching site.\n"
     ]
    }
   ],
   "source": [
    "linker_collection, edge_dict = create_linker_collection(\n",
    "        mof, node_result, node_collection, unbound_solvent\n",
    "    )"
   ]
  },
  {
   "cell_type": "code",
   "execution_count": 40,
   "metadata": {},
   "outputs": [
    {
     "data": {
      "text/plain": [
       "3"
      ]
     },
     "execution_count": 40,
     "metadata": {},
     "output_type": "execute_result"
    }
   ],
   "source": [
    "len(linker_collection)"
   ]
  },
  {
   "cell_type": "code",
   "execution_count": 41,
   "metadata": {},
   "outputs": [],
   "source": [
    "def bridges_across_cell(mof, molecule) -> bool: \n",
    "    \"\"\"Check if a molecule bridges across the cell\"\"\"\n",
    "    bridges = {}\n",
    "\n",
    "    for index in molecule.indices:\n",
    "        for neighbor_site in mof.structure_graph.get_connected_sites(index):\n",
    "            if not neighbor_site.index in bridges:\n",
    "                bridges[neighbor_site.index] = neighbor_site.jimage\n",
    "            else:\n",
    "                if bridges[neighbor_site.index] == neighbor_site.jimage:\n",
    "                    return True\n",
    "\n",
    "    return False"
   ]
  },
  {
   "cell_type": "code",
   "execution_count": 42,
   "metadata": {},
   "outputs": [
    {
     "ename": "ImportError",
     "evalue": "AseAtomsAdaptor requires the ASE package.\nUse `pip install ase` or `conda install ase -c conda-forge`",
     "output_type": "error",
     "traceback": [
      "\u001b[0;31m---------------------------------------------------------------------------\u001b[0m",
      "\u001b[0;31mImportError\u001b[0m                               Traceback (most recent call last)",
      "\u001b[1;32m/Users/kevinmaikjablonka/git/kjappelbaum/moffragmentor/examples/20220413_formate_fix.ipynb Cell 17'\u001b[0m in \u001b[0;36m<cell line: 1>\u001b[0;34m()\u001b[0m\n\u001b[0;32m----> <a href='vscode-notebook-cell:/Users/kevinmaikjablonka/git/kjappelbaum/moffragmentor/examples/20220413_formate_fix.ipynb#ch0000027?line=0'>1</a>\u001b[0m linker_collection[\u001b[39m0\u001b[39;49m]\u001b[39m.\u001b[39;49mshow_molecule()\n",
      "File \u001b[0;32m~/git/kjappelbaum/moffragmentor/src/moffragmentor/sbu/sbu.py:222\u001b[0m, in \u001b[0;36mSBU.show_molecule\u001b[0;34m(self)\u001b[0m\n\u001b[1;32m    <a href='file:///Users/kevinmaikjablonka/git/kjappelbaum/moffragmentor/src/moffragmentor/sbu/sbu.py?line=218'>219</a>\u001b[0m \u001b[39mdef\u001b[39;00m \u001b[39mshow_molecule\u001b[39m(\u001b[39mself\u001b[39m):\n\u001b[1;32m    <a href='file:///Users/kevinmaikjablonka/git/kjappelbaum/moffragmentor/src/moffragmentor/sbu/sbu.py?line=219'>220</a>\u001b[0m     \u001b[39mimport\u001b[39;00m \u001b[39mnglview\u001b[39;00m  \u001b[39m# pylint:disable=import-outside-toplevel\u001b[39;00m\n\u001b[0;32m--> <a href='file:///Users/kevinmaikjablonka/git/kjappelbaum/moffragmentor/src/moffragmentor/sbu/sbu.py?line=221'>222</a>\u001b[0m     \u001b[39mreturn\u001b[39;00m nglview\u001b[39m.\u001b[39;49mshow_pymatgen(\u001b[39mself\u001b[39;49m\u001b[39m.\u001b[39;49mmolecule)\n",
      "File \u001b[0;32m~/miniconda3/envs/moffragmentor/lib/python3.8/site-packages/nglview/show.py:157\u001b[0m, in \u001b[0;36mshow_pymatgen\u001b[0;34m(struct, **kwargs)\u001b[0m\n\u001b[1;32m    <a href='file:///Users/kevinmaikjablonka/miniconda3/envs/moffragmentor/lib/python3.8/site-packages/nglview/show.py?line=143'>144</a>\u001b[0m \u001b[39m\"\"\"Require `ase` package.\u001b[39;00m\n\u001b[1;32m    <a href='file:///Users/kevinmaikjablonka/miniconda3/envs/moffragmentor/lib/python3.8/site-packages/nglview/show.py?line=144'>145</a>\u001b[0m \n\u001b[1;32m    <a href='file:///Users/kevinmaikjablonka/miniconda3/envs/moffragmentor/lib/python3.8/site-packages/nglview/show.py?line=145'>146</a>\u001b[0m \u001b[39mExamples\u001b[39;00m\n\u001b[0;32m   (...)\u001b[0m\n\u001b[1;32m    <a href='file:///Users/kevinmaikjablonka/miniconda3/envs/moffragmentor/lib/python3.8/site-packages/nglview/show.py?line=153'>154</a>\u001b[0m \u001b[39m... view\u001b[39;00m\n\u001b[1;32m    <a href='file:///Users/kevinmaikjablonka/miniconda3/envs/moffragmentor/lib/python3.8/site-packages/nglview/show.py?line=154'>155</a>\u001b[0m \u001b[39m\"\"\"\u001b[39;00m\n\u001b[1;32m    <a href='file:///Users/kevinmaikjablonka/miniconda3/envs/moffragmentor/lib/python3.8/site-packages/nglview/show.py?line=155'>156</a>\u001b[0m \u001b[39mfrom\u001b[39;00m \u001b[39mpymatgen\u001b[39;00m\u001b[39m.\u001b[39;00m\u001b[39mio\u001b[39;00m\u001b[39m.\u001b[39;00m\u001b[39mase\u001b[39;00m \u001b[39mimport\u001b[39;00m AseAtomsAdaptor\n\u001b[0;32m--> <a href='file:///Users/kevinmaikjablonka/miniconda3/envs/moffragmentor/lib/python3.8/site-packages/nglview/show.py?line=156'>157</a>\u001b[0m \u001b[39mreturn\u001b[39;00m show_ase(AseAtomsAdaptor()\u001b[39m.\u001b[39;49mget_atoms(struct))\n",
      "File \u001b[0;32m~/miniconda3/envs/moffragmentor/lib/python3.8/site-packages/pymatgen/io/ase.py:54\u001b[0m, in \u001b[0;36mAseAtomsAdaptor.get_atoms\u001b[0;34m(structure, **kwargs)\u001b[0m\n\u001b[1;32m     <a href='file:///Users/kevinmaikjablonka/miniconda3/envs/moffragmentor/lib/python3.8/site-packages/pymatgen/io/ase.py?line=51'>52</a>\u001b[0m     \u001b[39mraise\u001b[39;00m \u001b[39mValueError\u001b[39;00m(\u001b[39m\"\u001b[39m\u001b[39mASE Atoms only supports ordered structures\u001b[39m\u001b[39m\"\u001b[39m)\n\u001b[1;32m     <a href='file:///Users/kevinmaikjablonka/miniconda3/envs/moffragmentor/lib/python3.8/site-packages/pymatgen/io/ase.py?line=52'>53</a>\u001b[0m \u001b[39mif\u001b[39;00m \u001b[39mnot\u001b[39;00m ase_loaded:\n\u001b[0;32m---> <a href='file:///Users/kevinmaikjablonka/miniconda3/envs/moffragmentor/lib/python3.8/site-packages/pymatgen/io/ase.py?line=53'>54</a>\u001b[0m     \u001b[39mraise\u001b[39;00m \u001b[39mImportError\u001b[39;00m(\n\u001b[1;32m     <a href='file:///Users/kevinmaikjablonka/miniconda3/envs/moffragmentor/lib/python3.8/site-packages/pymatgen/io/ase.py?line=54'>55</a>\u001b[0m         \u001b[39m\"\u001b[39m\u001b[39mAseAtomsAdaptor requires the ASE package.\u001b[39m\u001b[39m\\n\u001b[39;00m\u001b[39mUse `pip install ase` or `conda install ase -c conda-forge`\u001b[39m\u001b[39m\"\u001b[39m\n\u001b[1;32m     <a href='file:///Users/kevinmaikjablonka/miniconda3/envs/moffragmentor/lib/python3.8/site-packages/pymatgen/io/ase.py?line=55'>56</a>\u001b[0m     )\n\u001b[1;32m     <a href='file:///Users/kevinmaikjablonka/miniconda3/envs/moffragmentor/lib/python3.8/site-packages/pymatgen/io/ase.py?line=57'>58</a>\u001b[0m \u001b[39m# Construct the base ASE Atoms object\u001b[39;00m\n\u001b[1;32m     <a href='file:///Users/kevinmaikjablonka/miniconda3/envs/moffragmentor/lib/python3.8/site-packages/pymatgen/io/ase.py?line=58'>59</a>\u001b[0m symbols \u001b[39m=\u001b[39m [\u001b[39mstr\u001b[39m(site\u001b[39m.\u001b[39mspecie\u001b[39m.\u001b[39msymbol) \u001b[39mfor\u001b[39;00m site \u001b[39min\u001b[39;00m structure]\n",
      "\u001b[0;31mImportError\u001b[0m: AseAtomsAdaptor requires the ASE package.\nUse `pip install ase` or `conda install ase -c conda-forge`"
     ]
    }
   ],
   "source": [
    "linker_collection[0].show_molecule()"
   ]
  },
  {
   "cell_type": "code",
   "execution_count": 43,
   "metadata": {},
   "outputs": [
    {
     "ename": "NameError",
     "evalue": "name 'bbs' is not defined",
     "output_type": "error",
     "traceback": [
      "\u001b[0;31m---------------------------------------------------------------------------\u001b[0m",
      "\u001b[0;31mNameError\u001b[0m                                 Traceback (most recent call last)",
      "\u001b[1;32m/Users/kevinmaikjablonka/git/kjappelbaum/moffragmentor/examples/20220413_formate_fix.ipynb Cell 18'\u001b[0m in \u001b[0;36m<cell line: 1>\u001b[0;34m()\u001b[0m\n\u001b[0;32m----> <a href='vscode-notebook-cell:/Users/kevinmaikjablonka/git/kjappelbaum/moffragmentor/examples/20220413_formate_fix.ipynb#ch0000022?line=0'>1</a>\u001b[0m bridges_across_cell(mof, bbs\u001b[39m.\u001b[39mbound_solvent\u001b[39m.\u001b[39mmolecules[\u001b[39m0\u001b[39m])\n",
      "\u001b[0;31mNameError\u001b[0m: name 'bbs' is not defined"
     ]
    }
   ],
   "source": [
    "bridges_across_cell(mof, bbs.bound_solvent.molecules[0])"
   ]
  },
  {
   "cell_type": "code",
   "execution_count": 44,
   "metadata": {},
   "outputs": [
    {
     "ename": "ImportError",
     "evalue": "AseAtomsAdaptor requires the ASE package.\nUse `pip install ase` or `conda install ase -c conda-forge`",
     "output_type": "error",
     "traceback": [
      "\u001b[0;31m---------------------------------------------------------------------------\u001b[0m",
      "\u001b[0;31mImportError\u001b[0m                               Traceback (most recent call last)",
      "\u001b[1;32m/Users/kevinmaikjablonka/git/kjappelbaum/moffragmentor/examples/20220413_formate_fix.ipynb Cell 19'\u001b[0m in \u001b[0;36m<cell line: 1>\u001b[0;34m()\u001b[0m\n\u001b[0;32m----> <a href='vscode-notebook-cell:/Users/kevinmaikjablonka/git/kjappelbaum/moffragmentor/examples/20220413_formate_fix.ipynb#ch0000004?line=0'>1</a>\u001b[0m mof\u001b[39m.\u001b[39;49mshow_structure()\n",
      "File \u001b[0;32m~/git/kjappelbaum/moffragmentor/src/moffragmentor/mof.py:222\u001b[0m, in \u001b[0;36mMOF.show_structure\u001b[0;34m(self)\u001b[0m\n\u001b[1;32m    <a href='file:///Users/kevinmaikjablonka/git/kjappelbaum/moffragmentor/src/moffragmentor/mof.py?line=218'>219</a>\u001b[0m \u001b[39m\"\"\"Visualize structure using nglview\"\"\"\u001b[39;00m\n\u001b[1;32m    <a href='file:///Users/kevinmaikjablonka/git/kjappelbaum/moffragmentor/src/moffragmentor/mof.py?line=219'>220</a>\u001b[0m \u001b[39mimport\u001b[39;00m \u001b[39mnglview\u001b[39;00m  \u001b[39m# pylint:disable=import-outside-toplevel\u001b[39;00m\n\u001b[0;32m--> <a href='file:///Users/kevinmaikjablonka/git/kjappelbaum/moffragmentor/src/moffragmentor/mof.py?line=221'>222</a>\u001b[0m \u001b[39mreturn\u001b[39;00m nglview\u001b[39m.\u001b[39;49mshow_pymatgen(\u001b[39mself\u001b[39;49m\u001b[39m.\u001b[39;49mstructure)\n",
      "File \u001b[0;32m~/miniconda3/envs/moffragmentor/lib/python3.8/site-packages/nglview/show.py:157\u001b[0m, in \u001b[0;36mshow_pymatgen\u001b[0;34m(struct, **kwargs)\u001b[0m\n\u001b[1;32m    <a href='file:///Users/kevinmaikjablonka/miniconda3/envs/moffragmentor/lib/python3.8/site-packages/nglview/show.py?line=143'>144</a>\u001b[0m \u001b[39m\"\"\"Require `ase` package.\u001b[39;00m\n\u001b[1;32m    <a href='file:///Users/kevinmaikjablonka/miniconda3/envs/moffragmentor/lib/python3.8/site-packages/nglview/show.py?line=144'>145</a>\u001b[0m \n\u001b[1;32m    <a href='file:///Users/kevinmaikjablonka/miniconda3/envs/moffragmentor/lib/python3.8/site-packages/nglview/show.py?line=145'>146</a>\u001b[0m \u001b[39mExamples\u001b[39;00m\n\u001b[0;32m   (...)\u001b[0m\n\u001b[1;32m    <a href='file:///Users/kevinmaikjablonka/miniconda3/envs/moffragmentor/lib/python3.8/site-packages/nglview/show.py?line=153'>154</a>\u001b[0m \u001b[39m... view\u001b[39;00m\n\u001b[1;32m    <a href='file:///Users/kevinmaikjablonka/miniconda3/envs/moffragmentor/lib/python3.8/site-packages/nglview/show.py?line=154'>155</a>\u001b[0m \u001b[39m\"\"\"\u001b[39;00m\n\u001b[1;32m    <a href='file:///Users/kevinmaikjablonka/miniconda3/envs/moffragmentor/lib/python3.8/site-packages/nglview/show.py?line=155'>156</a>\u001b[0m \u001b[39mfrom\u001b[39;00m \u001b[39mpymatgen\u001b[39;00m\u001b[39m.\u001b[39;00m\u001b[39mio\u001b[39;00m\u001b[39m.\u001b[39;00m\u001b[39mase\u001b[39;00m \u001b[39mimport\u001b[39;00m AseAtomsAdaptor\n\u001b[0;32m--> <a href='file:///Users/kevinmaikjablonka/miniconda3/envs/moffragmentor/lib/python3.8/site-packages/nglview/show.py?line=156'>157</a>\u001b[0m \u001b[39mreturn\u001b[39;00m show_ase(AseAtomsAdaptor()\u001b[39m.\u001b[39;49mget_atoms(struct))\n",
      "File \u001b[0;32m~/miniconda3/envs/moffragmentor/lib/python3.8/site-packages/pymatgen/io/ase.py:54\u001b[0m, in \u001b[0;36mAseAtomsAdaptor.get_atoms\u001b[0;34m(structure, **kwargs)\u001b[0m\n\u001b[1;32m     <a href='file:///Users/kevinmaikjablonka/miniconda3/envs/moffragmentor/lib/python3.8/site-packages/pymatgen/io/ase.py?line=51'>52</a>\u001b[0m     \u001b[39mraise\u001b[39;00m \u001b[39mValueError\u001b[39;00m(\u001b[39m\"\u001b[39m\u001b[39mASE Atoms only supports ordered structures\u001b[39m\u001b[39m\"\u001b[39m)\n\u001b[1;32m     <a href='file:///Users/kevinmaikjablonka/miniconda3/envs/moffragmentor/lib/python3.8/site-packages/pymatgen/io/ase.py?line=52'>53</a>\u001b[0m \u001b[39mif\u001b[39;00m \u001b[39mnot\u001b[39;00m ase_loaded:\n\u001b[0;32m---> <a href='file:///Users/kevinmaikjablonka/miniconda3/envs/moffragmentor/lib/python3.8/site-packages/pymatgen/io/ase.py?line=53'>54</a>\u001b[0m     \u001b[39mraise\u001b[39;00m \u001b[39mImportError\u001b[39;00m(\n\u001b[1;32m     <a href='file:///Users/kevinmaikjablonka/miniconda3/envs/moffragmentor/lib/python3.8/site-packages/pymatgen/io/ase.py?line=54'>55</a>\u001b[0m         \u001b[39m\"\u001b[39m\u001b[39mAseAtomsAdaptor requires the ASE package.\u001b[39m\u001b[39m\\n\u001b[39;00m\u001b[39mUse `pip install ase` or `conda install ase -c conda-forge`\u001b[39m\u001b[39m\"\u001b[39m\n\u001b[1;32m     <a href='file:///Users/kevinmaikjablonka/miniconda3/envs/moffragmentor/lib/python3.8/site-packages/pymatgen/io/ase.py?line=55'>56</a>\u001b[0m     )\n\u001b[1;32m     <a href='file:///Users/kevinmaikjablonka/miniconda3/envs/moffragmentor/lib/python3.8/site-packages/pymatgen/io/ase.py?line=57'>58</a>\u001b[0m \u001b[39m# Construct the base ASE Atoms object\u001b[39;00m\n\u001b[1;32m     <a href='file:///Users/kevinmaikjablonka/miniconda3/envs/moffragmentor/lib/python3.8/site-packages/pymatgen/io/ase.py?line=58'>59</a>\u001b[0m symbols \u001b[39m=\u001b[39m [\u001b[39mstr\u001b[39m(site\u001b[39m.\u001b[39mspecie\u001b[39m.\u001b[39msymbol) \u001b[39mfor\u001b[39;00m site \u001b[39min\u001b[39;00m structure]\n",
      "\u001b[0;31mImportError\u001b[0m: AseAtomsAdaptor requires the ASE package.\nUse `pip install ase` or `conda install ase -c conda-forge`"
     ]
    }
   ],
   "source": [
    "mof.show_structure()"
   ]
  },
  {
   "cell_type": "code",
   "execution_count": 45,
   "metadata": {},
   "outputs": [
    {
     "data": {
      "text/plain": [
       "'[O]C=O'"
      ]
     },
     "execution_count": 45,
     "metadata": {},
     "output_type": "execute_result"
    }
   ],
   "source": [
    "linker_collection[0].smiles"
   ]
  },
  {
   "cell_type": "code",
   "execution_count": 52,
   "metadata": {},
   "outputs": [
    {
     "name": "stderr",
     "output_type": "stream",
     "text": [
      "2022-04-13 17:57:59.741 | WARNING  | moffragmentor.fragmentor.nodelocator:find_node_clusters:63 - No branch sites found according to branch site definition.             Using now CN=3 sites between metals as branch sites.                This is not consistent with the conventions used in other parts of the code. ̰\n",
      "2022-04-13 17:57:59.868 | WARNING  | moffragmentor.fragmentor.linkerlocator:_create_linkers_from_node_location_result:141 - No linkers with two branching sites in molecule found. Looking for molecules with one branching site.\n",
      "2022-04-13 17:57:59.904 | INFO     | moffragmentor.fragmentor:run_fragmentation:45 - Checking for metal in linker\n",
      "2022-04-13 17:57:59.904 | WARNING  | moffragmentor.fragmentor.filter:in_hull:44 - Too few points to compute Delaunay triangulation\n",
      "2022-04-13 17:57:59.905 | WARNING  | moffragmentor.fragmentor.filter:in_hull:44 - Too few points to compute Delaunay triangulation\n",
      "2022-04-13 17:57:59.905 | WARNING  | moffragmentor.fragmentor.filter:in_hull:44 - Too few points to compute Delaunay triangulation\n",
      "2022-04-13 17:57:59.905 | WARNING  | moffragmentor.fragmentor.filter:in_hull:44 - Too few points to compute Delaunay triangulation\n",
      "2022-04-13 17:57:59.905 | WARNING  | moffragmentor.fragmentor.filter:in_hull:44 - Too few points to compute Delaunay triangulation\n",
      "2022-04-13 17:57:59.906 | WARNING  | moffragmentor.fragmentor.filter:in_hull:44 - Too few points to compute Delaunay triangulation\n",
      "2022-04-13 17:57:59.906 | INFO     | moffragmentor.fragmentor:run_fragmentation:93 - Constructing the embedding\n"
     ]
    },
    {
     "name": "stdout",
     "output_type": "stream",
     "text": [
      "{6: (0, 0, 0), 0: (-1, 0, 0), 3: (0, 0, 0), 7: (0, 0, 0), 10: (0, 0, 0)} [7, 6, 3, 10] 10\n",
      "{6: (0, 0, 0), 0: (0, 0, 0), 3: (0, 0, 0), 7: (0, 0, 0), 10: (0, 0, 0)} [10, 6, 3, 7] 7\n",
      "{5: (0, -1, 0), 0: (0, -1, 1), 2: (1, 0, 0), 12: (0, 1, 0), 11: (0, 1, 0)} [12, 5, 2, 11] 2\n",
      "{4: (0, 0, 1), 0: (-1, -1, 1), 1: (-1, 0, 0), 8: (0, 0, -1), 9: (0, 0, -1)} [9, 4, 1, 8] 1\n",
      "{5: (0, -1, 0), 0: (0, -1, 0), 2: (1, 0, 0), 12: (0, 1, 0), 11: (0, 1, 0)} [11, 5, 2, 12] 2\n",
      "{4: (0, 0, 1), 0: (-1, 0, 1), 1: (-1, 0, 0), 8: (0, 0, -1), 9: (0, 0, -1)} [8, 4, 1, 9] 1\n",
      "{6: (0, 0, 0), 0: (-1, 0, 0), 3: (0, 0, 0), 7: (0, 0, 0), 10: (0, 0, 0)} [7, 6, 3, 10] 10\n",
      "{6: (0, 0, 0), 0: (0, 0, 0), 3: (0, 0, 0), 7: (0, 0, 0), 10: (0, 0, 0)} [10, 6, 3, 7] 7\n",
      "{5: (0, -1, 0), 0: (0, -1, 1), 2: (1, 0, 0), 12: (0, 1, 0), 11: (0, 1, 0)} [12, 5, 2, 11] 2\n",
      "{4: (0, 0, 1), 0: (-1, -1, 1), 1: (-1, 0, 0), 8: (0, 0, -1), 9: (0, 0, -1)} [9, 4, 1, 8] 1\n",
      "{5: (0, -1, 0), 0: (0, -1, 0), 2: (1, 0, 0), 12: (0, 1, 0), 11: (0, 1, 0)} [11, 5, 2, 12] 2\n",
      "{4: (0, 0, 1), 0: (-1, 0, 1), 1: (-1, 0, 0), 8: (0, 0, -1), 9: (0, 0, -1)} [8, 4, 1, 9] 1\n"
     ]
    }
   ],
   "source": [
    "bbs = mof.fragment()"
   ]
  },
  {
   "cell_type": "code",
   "execution_count": 56,
   "metadata": {},
   "outputs": [
    {
     "data": {
      "text/plain": [
       "[Compound(284)]"
      ]
     },
     "execution_count": 56,
     "metadata": {},
     "output_type": "execute_result"
    }
   ],
   "source": [
    "bbs.linkers[0].search_pubchem()"
   ]
  },
  {
   "cell_type": "code",
   "execution_count": null,
   "metadata": {},
   "outputs": [],
   "source": []
  },
  {
   "cell_type": "code",
   "execution_count": 49,
   "metadata": {},
   "outputs": [
    {
     "ename": "NameError",
     "evalue": "name 'bbs' is not defined",
     "output_type": "error",
     "traceback": [
      "\u001b[0;31m---------------------------------------------------------------------------\u001b[0m",
      "\u001b[0;31mNameError\u001b[0m                                 Traceback (most recent call last)",
      "\u001b[1;32m/Users/kevinmaikjablonka/git/kjappelbaum/moffragmentor/examples/20220413_formate_fix.ipynb Cell 24'\u001b[0m in \u001b[0;36m<cell line: 1>\u001b[0;34m()\u001b[0m\n\u001b[0;32m----> <a href='vscode-notebook-cell:/Users/kevinmaikjablonka/git/kjappelbaum/moffragmentor/examples/20220413_formate_fix.ipynb#ch0000013?line=0'>1</a>\u001b[0m bbs\u001b[39m.\u001b[39mlinkers[\u001b[39m0\u001b[39m]\u001b[39m.\u001b[39mshow_molecule()\n",
      "\u001b[0;31mNameError\u001b[0m: name 'bbs' is not defined"
     ]
    }
   ],
   "source": [
    "bbs.linkers[0].show_molecule()"
   ]
  },
  {
   "cell_type": "markdown",
   "metadata": {},
   "source": []
  },
  {
   "cell_type": "markdown",
   "metadata": {},
   "source": []
  }
 ],
 "metadata": {
  "interpreter": {
   "hash": "504d9678a7660ab60f21950c8a644a7c3f2309ace653d8a0639c80f4ba7e4242"
  },
  "kernelspec": {
   "display_name": "Python 3.8.12 ('moffragmentor')",
   "language": "python",
   "name": "python3"
  },
  "language_info": {
   "codemirror_mode": {
    "name": "ipython",
    "version": 3
   },
   "file_extension": ".py",
   "mimetype": "text/x-python",
   "name": "python",
   "nbconvert_exporter": "python",
   "pygments_lexer": "ipython3",
   "version": "3.8.12"
  },
  "orig_nbformat": 4
 },
 "nbformat": 4,
 "nbformat_minor": 2
}
