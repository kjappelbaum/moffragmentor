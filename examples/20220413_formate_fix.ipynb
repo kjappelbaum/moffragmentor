{
 "cells": [
  {
   "cell_type": "code",
   "execution_count": 14,
   "metadata": {},
   "outputs": [
    {
     "name": "stdout",
     "output_type": "stream",
     "text": [
      "The autoreload extension is already loaded. To reload it, use:\n",
      "  %reload_ext autoreload\n"
     ]
    }
   ],
   "source": [
    "%load_ext autoreload\n",
    "%autoreload 2"
   ]
  },
  {
   "cell_type": "code",
   "execution_count": 21,
   "metadata": {},
   "outputs": [],
   "source": [
    "from moffragmentor import MOF\n",
    "\n",
    "from moffragmentor.fragmentor.solventlocator import get_floating_solvent_molecules, get_all_bound_solvent_molecules\n",
    "from moffragmentor.fragmentor.nodelocator import find_node_clusters, create_node_collection\n",
    "from moffragmentor.fragmentor.linkerlocator import create_linker_collection"
   ]
  },
  {
   "cell_type": "code",
   "execution_count": 22,
   "metadata": {},
   "outputs": [],
   "source": [
    "mof = MOF.from_cif('/Users/kevinmaikjablonka/Dropbox (LSMO)/reference_set_project/aiida_optimized_2021_01_08_3203_OLD/opt_cifs/RSM0001.cif')"
   ]
  },
  {
   "cell_type": "code",
   "execution_count": 59,
   "metadata": {},
   "outputs": [
    {
     "name": "stderr",
     "output_type": "stream",
     "text": [
      "2022-04-13 15:03:51.733 | WARNING  | moffragmentor.fragmentor.nodelocator:find_node_clusters:63 - No branch sites found according to branch site definition.             Using now CN=3 sites between metals as branch sites.                This is not consistent with the conventions used in other parts of the code. ̰\n"
     ]
    },
    {
     "name": "stdout",
     "output_type": "stream",
     "text": [
      "[[6, 5, 4]]\n"
     ]
    }
   ],
   "source": [
    "unbound_solvent = get_floating_solvent_molecules(mof)\n",
    "    # Find nodes\n",
    "node_result = find_node_clusters(mof, unbound_solvent.indices)\n",
    "node_collection = create_node_collection(mof, node_result)\n",
    "    # Find bound solvent\n",
    "    # \n",
    "bound_solvent = get_all_bound_solvent_molecules(mof, node_result.nodes)\n",
    "    # Filter the linkers (valid linkers have at least two branch points)"
   ]
  },
  {
   "cell_type": "code",
   "execution_count": 60,
   "metadata": {},
   "outputs": [
    {
     "data": {
      "text/plain": [
       "[{0, 4, 5, 6, 7, 8, 9, 10, 11, 12}]"
      ]
     },
     "execution_count": 60,
     "metadata": {},
     "output_type": "execute_result"
    }
   ],
   "source": [
    "node_result.nodes"
   ]
  },
  {
   "cell_type": "code",
   "execution_count": 61,
   "metadata": {},
   "outputs": [
    {
     "data": {
      "text/plain": [
       "{4, 5, 6}"
      ]
     },
     "execution_count": 61,
     "metadata": {},
     "output_type": "execute_result"
    }
   ],
   "source": [
    "node_result.branching_indices"
   ]
  },
  {
   "cell_type": "code",
   "execution_count": 62,
   "metadata": {},
   "outputs": [],
   "source": [
    "linker_collection, edge_dict = create_linker_collection(\n",
    "        mof, node_result, node_collection, unbound_solvent\n",
    "    )"
   ]
  },
  {
   "cell_type": "code",
   "execution_count": 63,
   "metadata": {},
   "outputs": [
    {
     "data": {
      "application/vnd.jupyter.widget-view+json": {
       "model_id": "9dbbd4de8c48457f9e53aff0f14cf7dc",
       "version_major": 2,
       "version_minor": 0
      },
      "text/plain": [
       "NGLWidget()"
      ]
     },
     "metadata": {},
     "output_type": "display_data"
    }
   ],
   "source": [
    "mof.show_structure()"
   ]
  },
  {
   "cell_type": "code",
   "execution_count": 64,
   "metadata": {},
   "outputs": [
    {
     "name": "stderr",
     "output_type": "stream",
     "text": [
      "2022-04-13 15:03:55.261 | WARNING  | moffragmentor.fragmentor.nodelocator:find_node_clusters:63 - No branch sites found according to branch site definition.             Using now CN=3 sites between metals as branch sites.                This is not consistent with the conventions used in other parts of the code. ̰\n"
     ]
    },
    {
     "name": "stdout",
     "output_type": "stream",
     "text": [
      "[[6, 5, 4]]\n"
     ]
    }
   ],
   "source": [
    "bbs = mof.fragment()"
   ]
  },
  {
   "cell_type": "code",
   "execution_count": 68,
   "metadata": {},
   "outputs": [
    {
     "data": {
      "application/vnd.jupyter.widget-view+json": {
       "model_id": "1d474b0f15e94dd29f004dad32e5dd61",
       "version_major": 2,
       "version_minor": 0
      },
      "text/plain": [
       "NGLWidget()"
      ]
     },
     "metadata": {},
     "output_type": "display_data"
    }
   ],
   "source": [
    "bbs.nodes[0].show_molecule()"
   ]
  },
  {
   "cell_type": "markdown",
   "metadata": {},
   "source": []
  }
 ],
 "metadata": {
  "interpreter": {
   "hash": "504d9678a7660ab60f21950c8a644a7c3f2309ace653d8a0639c80f4ba7e4242"
  },
  "kernelspec": {
   "display_name": "Python 3.8.12 ('moffragmentor')",
   "language": "python",
   "name": "python3"
  },
  "language_info": {
   "codemirror_mode": {
    "name": "ipython",
    "version": 3
   },
   "file_extension": ".py",
   "mimetype": "text/x-python",
   "name": "python",
   "nbconvert_exporter": "python",
   "pygments_lexer": "ipython3",
   "version": "3.8.12"
  },
  "orig_nbformat": 4
 },
 "nbformat": 4,
 "nbformat_minor": 2
}
