{
 "cells": [
  {
   "cell_type": "code",
   "execution_count": null,
   "metadata": {},
   "outputs": [],
   "source": [
    "# default_exp core"
   ]
  },
  {
   "cell_type": "code",
   "execution_count": 24,
   "metadata": {},
   "outputs": [],
   "source": [
    "%load_ext autoreload\n",
    "%autoreload 2"
   ]
  },
  {
   "cell_type": "markdown",
   "metadata": {},
   "source": [
    "# MOF core class\n",
    "\n",
    "> API details."
   ]
  },
  {
   "cell_type": "code",
   "execution_count": 2,
   "metadata": {},
   "outputs": [],
   "source": [
    "#export\n",
    "from pymatgen import Structure, Molecule\n",
    "from pymatgen.analysis.graphs import StructureGraph\n",
    "from pymatgen.analysis.local_env import JmolNN\n",
    "import networkx as nx\n",
    "import os\n",
    "import matplotlib.pylab as plt\n",
    "from copy import deepcopy\n",
    "import nglview\n",
    "from moffragmentor.sbu import Linker, Node"
   ]
  },
  {
   "cell_type": "code",
   "execution_count": 3,
   "metadata": {},
   "outputs": [],
   "source": [
    "#export\n",
    "def get_subgraphs_as_molecules(\n",
    "    structure_graph: StructureGraph, use_weights=False\n",
    "):\n",
    "    \"\"\"Copied from\n",
    "    http://pymatgen.org/_modules/pymatgen/analysis/graphs.html#StructureGraph.get_subgraphs_as_molecules\n",
    "    and removed the duplicate check\n",
    "    Args:\n",
    "        structure_graph ( pymatgen.analysis.graphs.StructureGraph): Structuregraph\n",
    "    Returns:\n",
    "        List: list of molecules\n",
    "    \"\"\"\n",
    "    # ideally, we flag those atoms that are connected to the metals in some special way and make sure \n",
    "    # this gets propagated \n",
    "    \n",
    "    # creating a supercell is an easy way to extract\n",
    "    # molecules (and not, e.g., layers of a 2D crystal)\n",
    "    # without adding extra logic\n",
    "    supercell_sg = structure_graph * (3, 3, 3)\n",
    "\n",
    "    # make undirected to find connected subgraphs\n",
    "    supercell_sg.graph = nx.Graph(supercell_sg.graph)\n",
    "\n",
    "    # find subgraphs\n",
    "    all_subgraphs = [\n",
    "        supercell_sg.graph.subgraph(c)\n",
    "        for c in nx.connected_components(supercell_sg.graph)\n",
    "    ]\n",
    "\n",
    "    # discount subgraphs that lie across *supercell* boundaries\n",
    "    # these will subgraphs representing crystals\n",
    "    molecule_subgraphs = []\n",
    "    for subgraph in all_subgraphs:\n",
    "        intersects_boundary = any(\n",
    "            [d[\"to_jimage\"] != (0, 0, 0) for u, v, d in subgraph.edges(data=True)]\n",
    "        )\n",
    "        if not intersects_boundary:\n",
    "            molecule_subgraphs.append(nx.MultiDiGraph(subgraph))\n",
    "\n",
    "    # add specie names to graph to be able to test for isomorphism\n",
    "    for subgraph in molecule_subgraphs:\n",
    "        for node in subgraph:\n",
    "            subgraph.add_node(node, specie=str(supercell_sg.structure[node].specie))\n",
    "\n",
    "    # get Molecule objects for each subgraph\n",
    "    molecules = []\n",
    "    indices = []\n",
    "    \n",
    "    unique_subgraphs = []\n",
    "    \n",
    "    def node_match(n1, n2):\n",
    "        return n1[\"specie\"] == n2[\"specie\"]\n",
    "\n",
    "    def edge_match(e1, e2):\n",
    "        if use_weights:\n",
    "            return e1[\"weight\"] == e2[\"weight\"]\n",
    "        else:\n",
    "            return True\n",
    "\n",
    "        \n",
    "    for subgraph in molecule_subgraphs:\n",
    "\n",
    "        already_present = [nx.is_isomorphic(subgraph, g,\n",
    "                                            node_match=node_match,\n",
    "                                            edge_match=edge_match)\n",
    "                           for g in unique_subgraphs]\n",
    "\n",
    "        if not any(already_present):\n",
    "            unique_subgraphs.append(subgraph)\n",
    "                \n",
    "    \n",
    "    def make_mols(molecule_subgraphs=molecule_subgraphs, center=False):\n",
    "        molecules = []\n",
    "        indices = []\n",
    "        for subgraph in molecule_subgraphs:\n",
    "            coords = [supercell_sg.structure[n].coords for n in subgraph.nodes()]\n",
    "            species = [supercell_sg.structure[n].specie for n in subgraph.nodes()]\n",
    "            binding = [supercell_sg.structure[n].properties['binding'] for n in subgraph.nodes()]\n",
    "            idx = [n for n in subgraph.nodes()]\n",
    "            molecule = Molecule(species, coords, site_properties={'binding': binding})\n",
    "\n",
    "            # shift so origin is at center of mass\n",
    "            if center:\n",
    "                molecule = molecule.get_centered_molecule()\n",
    "            indices.append(idx)\n",
    "            molecules.append(molecule)\n",
    "        return molecules, indices\n",
    "    \n",
    "#     molecules, indices = make_mols(molecule_subgraphs)\n",
    "    molecules_unique, _ = make_mols(unique_subgraphs, center=True)\n",
    "    \n",
    "    return molecules_unique"
   ]
  },
  {
   "cell_type": "code",
   "execution_count": 4,
   "metadata": {},
   "outputs": [],
   "source": [
    "#export\n",
    "class MOF:\n",
    "    def __init__(self, structure: Structure, structure_graph: StructureGraph):\n",
    "        self.structure = structure\n",
    "        self.structure_graph = structure_graph\n",
    "        self._node_indices = None\n",
    "        self._linker_indices = None \n",
    "        self.nodes = []\n",
    "        self.linker = []\n",
    "        \n",
    "    @classmethod\n",
    "    def from_cif(cls, cif): \n",
    "        s = Structure.from_file(cif)\n",
    "        sg = StructureGraph.with_local_env_strategy(s, JmolNN())\n",
    "        return cls(s, sg)\n",
    "        \n",
    "    @property\n",
    "    def adjaceny_matrix(self):\n",
    "        return nx.adjacency_matrix(self.structure_graph.graph)\n",
    "    \n",
    "    def show_adjacency_matrix(self, highlight_metals=False):\n",
    "        matrix = self.adjaceny_matrix.todense()\n",
    "        if highlight_metals: \n",
    "            cols = np.nonzero(matrix[self.metal_indices, :]) \n",
    "            rows = np.nonzero(matrix[:, self.metal_indices])\n",
    "            matrix[self.metal_indices, cols] = 2\n",
    "            matrix[rows, self.metal_indices] = 2\n",
    "        plt.imshow(self.adjaceny_matrix.todense(), cmap='Greys_r')\n",
    "    \n",
    "    @property\n",
    "    def metal_indices(self):\n",
    "        return [\n",
    "            i for i, species in enumerate(self.structure.species) if species.is_metal\n",
    "        ]\n",
    "    \n",
    "    def get_neighbor_indices(self, site: int): \n",
    "        return [site.index for site in self.structure_graph.get_connected_sites(site)]\n",
    "    \n",
    "    def get_symbol_of_site(self, site: int): \n",
    "        return str(self.structure[site].specie)\n",
    "\n",
    "    \n",
    "    @property\n",
    "    def node_indices(self): \n",
    "        if self._node_indices is None:\n",
    "            node_indices = self._get_node_indices() \n",
    "        else: \n",
    "            node_indices = self._node_indices \n",
    "        \n",
    "        return node_indices\n",
    "    \n",
    "    @property\n",
    "    def linker_indices(self):\n",
    "        node_indices = self.node_indices \n",
    "        \n",
    "        return set(range(len(self.structure))) - node_indices\n",
    "    \n",
    "    def _label_site(self, site: int): \n",
    "        self.structure[site].properties = {'binding': True}\n",
    "        \n",
    "    def _label_structure(self):\n",
    "        \"\"\"Label node and linker atoms that are connected\"\"\"\n",
    "        for metal_idx in self.metal_indices: \n",
    "            neighbor_indices = self.get_neighbor_indices(metal_idx)\n",
    "            for neighbor_idx in neighbor_indices:\n",
    "                if neighbor_idx in self.linker_indices:\n",
    "                    self._label_site(metal_idx)\n",
    "                    self._label_site(neighbor_idx)\n",
    "                    \n",
    "    def _fragment(self): \n",
    "        self._label_structure()\n",
    "        sg0 = deepcopy(self.structure_graph)\n",
    "        sg1 = deepcopy(self.structure_graph)\n",
    "        sg0.remove_nodes(list(mof.linker_indices))\n",
    "        sg1.remove_nodes(list(mof.node_indices))\n",
    "        nodes_ = get_subgraphs_as_molecules(sg0)\n",
    "        linkers_ = get_subgraphs_as_molecules(sg1)\n",
    "        linkers = [Linker.from_labled_molecule(l) for l in linkers_]\n",
    "        nodes = [Linker.from_labled_molecule(n) for n in nodes_]\n",
    "        \n",
    "        self.nodes = nodes \n",
    "        self.linkers = linkers\n",
    "        return linkers, nodes\n",
    "    \n",
    "    def fragment(self):\n",
    "        return self._fragment()\n",
    "                    \n",
    "    def _get_node_indices(self):\n",
    "        # make a set of all metals and atoms connected to them:\n",
    "        metals_and_neighbor_indices = set()\n",
    "        node_atom_set=set(self.metal_indices)\n",
    "\n",
    "        for metal_index in self.metal_indices:\n",
    "            metals_and_neighbor_indices.add(metal_index)\n",
    "            bonded_to_metal= self.get_neighbor_indices(metal_index)\n",
    "            metals_and_neighbor_indices.update(bonded_to_metal)\n",
    "\n",
    "        # add atoms that are only connected to metal or hydrogen to the node list \n",
    "        # + hydrogen atoms connected to them\n",
    "        for index in metals_and_neighbor_indices:\n",
    "            neighboring_indices=self.get_neighbor_indices(index)\n",
    "            only_bonded_metal_hydrogen = True\n",
    "            for index in neighboring_indices:\n",
    "                if not (self.get_symbol_of_site(index) == 'H') or (index in node_atom_set):\n",
    "                    only_bonded_metal_hydrogen = False\n",
    "            if only_bonded_metal_hydrogen:\n",
    "                node_atom_set.update(set([index]))\n",
    "\n",
    "        for index in node_atom_set:\n",
    "            for neighbor_index in self.get_neighbor_indices(index):\n",
    "                if self.get_symbol_of_site(neighbor_index) == 'H':\n",
    "                    node_atom_set.update(set(val))\n",
    "        \n",
    "        self._node_indices = node_atom_set\n",
    "        return node_atom_set\n"
   ]
  },
  {
   "cell_type": "code",
   "execution_count": 5,
   "metadata": {},
   "outputs": [],
   "source": [
    "# Create this class manually \n",
    "s = Structure.from_file(os.path.join('test_files', 'hkust1.cif'))\n",
    "sg = StructureGraph.with_local_env_strategy(s, JmolNN())\n",
    "\n",
    "mof = MOF(s, sg)\n",
    "\n",
    "# use the classmethod\n",
    "mof2 = MOF.from_cif(os.path.join('test_files', 'hkust1.cif'))\n",
    "\n",
    "assert mof.metal_indices == mof2.metal_indices == [0, 1, 2, 3, 4, 5, 6, 7, 8, 9, 10, 11]"
   ]
  },
  {
   "cell_type": "markdown",
   "metadata": {},
   "source": [
    "We can also plot the adjacency matrix"
   ]
  },
  {
   "cell_type": "code",
   "execution_count": 6,
   "metadata": {},
   "outputs": [
    {
     "data": {
      "image/png": "[encoded data removed]",
      "text/plain": [
       "<Figure size 432x288 with 1 Axes>"
      ]
     },
     "metadata": {
      "needs_background": "light"
     },
     "output_type": "display_data"
    }
   ],
   "source": [
    "mof.show_adjacency_matrix()"
   ]
  },
  {
   "cell_type": "markdown",
   "metadata": {},
   "source": [
    "To split a `MOF` into nodes and linkers we use the `fragment` method which will return lists of `Linker`"
   ]
  },
  {
   "cell_type": "code",
   "execution_count": 7,
   "metadata": {},
   "outputs": [
    {
     "name": "stderr",
     "output_type": "stream",
     "text": [
      "/Users/kevinmaikjablonka/opt/miniconda3/envs/pymoffragmentor/lib/python3.8/site-packages/pymatgen/core/structure.py:759: UserWarning: Not all sites have property binding. Missing values are set to None.\n",
      "  warnings.warn(\n"
     ]
    }
   ],
   "source": [
    "linkers, nodes = mof.fragment()"
   ]
  },
  {
   "cell_type": "code",
   "execution_count": 8,
   "metadata": {},
   "outputs": [
    {
     "data": {
      "application/vnd.jupyter.widget-view+json": {
       "model_id": "76c541a5c092485f8b2c1f14d5319926",
       "version_major": 2,
       "version_minor": 0
      },
      "text/plain": [
       "NGLWidget()"
      ]
     },
     "metadata": {},
     "output_type": "display_data"
    }
   ],
   "source": [
    "linkers[0].show_molecule()"
   ]
  },
  {
   "cell_type": "code",
   "execution_count": 9,
   "metadata": {},
   "outputs": [
    {
     "data": {
      "application/vnd.jupyter.widget-view+json": {
       "model_id": "12e977f17cf845778ca81017df099892",
       "version_major": 2,
       "version_minor": 0
      },
      "text/plain": [
       "NGLWidget()"
      ]
     },
     "metadata": {},
     "output_type": "display_data"
    }
   ],
   "source": [
    "nodes[0].show_molecule()"
   ]
  },
  {
   "cell_type": "code",
   "execution_count": 10,
   "metadata": {},
   "outputs": [
    {
     "name": "stdout",
     "output_type": "stream",
     "text": [
      "Converted 00_core.ipynb.\n",
      "Converted 01_sbu.ipynb.\n",
      "Converted index.ipynb.\n"
     ]
    }
   ],
   "source": [
    "from nbdev.export import notebook2script; notebook2script()"
   ]
  },
  {
   "cell_type": "code",
   "execution_count": null,
   "metadata": {},
   "outputs": [],
   "source": []
  }
 ],
 "metadata": {
  "kernelspec": {
   "display_name": "Python 3",
   "language": "python",
   "name": "python3"
  },
  "language_info": {
   "codemirror_mode": {
    "name": "ipython",
    "version": 3
   },
   "file_extension": ".py",
   "mimetype": "text/x-python",
   "name": "python",
   "nbconvert_exporter": "python",
   "pygments_lexer": "ipython3",
   "version": "3.8.6"
  }
 },
 "nbformat": 4,
 "nbformat_minor": 4
}
