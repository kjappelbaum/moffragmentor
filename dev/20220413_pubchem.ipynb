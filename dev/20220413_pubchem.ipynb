{
 "cells": [
  {
   "cell_type": "code",
   "execution_count": 1,
   "metadata": {},
   "outputs": [],
   "source": [
    "%load_ext autoreload\n",
    "%autoreload 2"
   ]
  },
  {
   "cell_type": "code",
   "execution_count": 2,
   "metadata": {},
   "outputs": [],
   "source": [
    "from moffragmentor import MOF"
   ]
  },
  {
   "cell_type": "code",
   "execution_count": 3,
   "metadata": {},
   "outputs": [],
   "source": [
    "hkust = MOF.from_cif('/Users/kevinmaikjablonka/git/kjappelbaum/moffragmentor/tests/test_files/MUDLON_clean.cif')"
   ]
  },
  {
   "cell_type": "code",
   "execution_count": 4,
   "metadata": {},
   "outputs": [
    {
     "name": "stderr",
     "output_type": "stream",
     "text": [
      "2022-04-14 08:51:59.678 | INFO     | moffragmentor.fragmentor:run_fragmentation:45 - Checking for metal in linker\n",
      "2022-04-14 08:51:59.754 | INFO     | moffragmentor.fragmentor:run_fragmentation:81 - Re-running fragmentation with filtered nodes (metal in linker found)\n",
      "2022-04-14 08:52:02.161 | INFO     | moffragmentor.fragmentor:run_fragmentation:93 - Constructing the embedding\n"
     ]
    }
   ],
   "source": [
    "bbs = hkust.fragment()"
   ]
  },
  {
   "cell_type": "code",
   "execution_count": 5,
   "metadata": {},
   "outputs": [
    {
     "data": {
      "text/plain": [
       "'[CH].[CH].[CH].[CH].[CH].[CH].[C][CH]/C=C(\\\\[CH])N(c1ccc(C([O])=O)cc1)c1ccc(C([O])=O)cc1.[C][CH]/C=C(\\\\[CH])N(c1ccc(C([O])=O)cc1)c1ccc(C([O])=O)cc1.[C][CH]/C=C(\\\\[CH])N(c1ccc(C([O])=O)cc1)c1ccc(C([O])=O)cc1.[C][CH]/C=C(\\\\[CH])N(c1ccc(C([O])=O)cc1)c1ccc(C([O])=O)cc1.[C][CH]/C=C(\\\\[CH])N(c1ccc(C([O])=O)cc1)c1ccc(C([O])=O)cc1.[C][CH]/C=C(\\\\[CH])N(c1ccc(C([O])=O)cc1)c1ccc(C([O])=O)cc1.[H].[H].[H].[H].[H].[H].[O]C(=O)c1ccc(N(c2c[c][c]cc2)c2ccc(C(=O)O[Mg]OC(=O)c3ccc(N(c4c[c][c]cc4)c4ccc(C([O])=O)cc4)cc3)cc2)cc1.[O]C(=O)c1ccc(N(c2c[c][c]cc2)c2ccc(C(=O)O[Mg]OC(=O)c3ccc(N(c4ccc(C([O])=O)cc4)c4ccc(-c5ccc(N(c6ccc(C([O])=O)cc6)c6ccc(C([O])=O)cc6)cc5)cc4)cc3)cc2)cc1.[O]C(=O)c1ccc(N(c2c[c][c]cc2)c2ccc(C(=O)O[Mg]OC(=O)c3ccc(N(c4ccc(C([O])=O)cc4)c4ccc(-c5ccc(N(c6ccc(C([O])=O)cc6)c6ccc(C([O])=O)cc6)cc5)cc4)cc3)cc2)cc1.[O]C(=O)c1ccc(N(c2c[c][c]cc2)c2ccc(C(=O)O[Mg]OC(=O)c3ccc(N(c4ccc(C([O])=O)cc4)c4ccc(-c5ccc(N(c6ccc(C([O])=O)cc6)c6ccc(C([O])=O)cc6)cc5)cc4)cc3)cc2)cc1.[O]C(=O)c1ccc(N(c2c[c][c]cc2)c2ccc(C(=O)O[Mg]OC(=O)c3ccc(N(c4ccc(C([O])=O)cc4)c4ccc(-c5ccc(N(c6ccc(C([O])=O)cc6)c6ccc(C([O])=O)cc6)cc5)cc4)cc3)cc2)cc1.[O]C(=O)c1ccc(N(c2ccc(C([O])=O)cc2)c2ccc(-c3ccc(N(c4ccc(C([O])=O)cc4)c4ccc(C(=O)O[Mg]OC(=O)c5ccc(N(c6ccc(C([O])=O)cc6)c6ccc(-c7ccc(N(c8ccc(C([O])=O)cc8)c8ccc(C([O])=O)cc8)cc7)cc6)cc5)cc4)cc3)cc2)cc1.[O]C(=O)c1ccc(N(c2ccc(C([O])=O)cc2)c2ccc(-c3ccc(N(c4ccc(C([O])=O)cc4)c4ccc(C(=O)O[Mg]OC(=O)c5ccc(N(c6ccc(C([O])=O)cc6)c6ccc(-c7ccc(N(c8ccc(C([O])=O)cc8)c8ccc(C([O])=O)cc8)cc7)cc6)cc5)cc4)cc3)cc2)cc1.[O]C(=O)c1ccc(N(c2ccc(C([O])=O)cc2)c2ccc(-c3ccc(N(c4ccc(C([O])=O)cc4)c4ccc(C(=O)O[Mg]OC(=O)c5ccc(N(c6ccc(C([O])=O)cc6)c6ccc(-c7ccc(N(c8ccc(C([O])=O)cc8)c8ccc(C([O])=O)cc8)cc7)cc6)cc5)cc4)cc3)cc2)cc1.[O]C(=O)c1ccc(N(c2ccc(C([O])=O)cc2)c2ccc(-c3ccc(N(c4ccc(C([O])=O)cc4)c4ccc(C(=O)O[Mg]OC(=O)c5ccc(N(c6ccc(C([O])=O)cc6)c6ccc(-c7ccc(N(c8ccc(C([O])=O)cc8)c8ccc(C([O])=O)cc8)cc7)cc6)cc5)cc4)cc3)cc2)cc1'"
      ]
     },
     "execution_count": 5,
     "metadata": {},
     "output_type": "execute_result"
    }
   ],
   "source": [
    "bbs.linkers[0].smiles"
   ]
  },
  {
   "cell_type": "code",
   "execution_count": 6,
   "metadata": {},
   "outputs": [
    {
     "name": "stderr",
     "output_type": "stream",
     "text": [
      "2022-04-14 08:52:03.749 | WARNING  | moffragmentor.sbu.sbu:search_pubchem:129 - Could not find [CH].[CH].[CH].[CH].[CH].[CH].[C][CH]/C=C(\\[CH])N(c1ccc(C([O])=O)cc1)c1ccc(C([O])=O)cc1.[C][CH]/C=C(\\[CH])N(c1ccc(C([O])=O)cc1)c1ccc(C([O])=O)cc1.[C][CH]/C=C(\\[CH])N(c1ccc(C([O])=O)cc1)c1ccc(C([O])=O)cc1.[C][CH]/C=C(\\[CH])N(c1ccc(C([O])=O)cc1)c1ccc(C([O])=O)cc1.[C][CH]/C=C(\\[CH])N(c1ccc(C([O])=O)cc1)c1ccc(C([O])=O)cc1.[C][CH]/C=C(\\[CH])N(c1ccc(C([O])=O)cc1)c1ccc(C([O])=O)cc1.[H].[H].[H].[H].[H].[H].[O]C(=O)c1ccc(N(c2c[c][c]cc2)c2ccc(C(=O)O[Mg]OC(=O)c3ccc(N(c4c[c][c]cc4)c4ccc(C([O])=O)cc4)cc3)cc2)cc1.[O]C(=O)c1ccc(N(c2c[c][c]cc2)c2ccc(C(=O)O[Mg]OC(=O)c3ccc(N(c4ccc(C([O])=O)cc4)c4ccc(-c5ccc(N(c6ccc(C([O])=O)cc6)c6ccc(C([O])=O)cc6)cc5)cc4)cc3)cc2)cc1.[O]C(=O)c1ccc(N(c2c[c][c]cc2)c2ccc(C(=O)O[Mg]OC(=O)c3ccc(N(c4ccc(C([O])=O)cc4)c4ccc(-c5ccc(N(c6ccc(C([O])=O)cc6)c6ccc(C([O])=O)cc6)cc5)cc4)cc3)cc2)cc1.[O]C(=O)c1ccc(N(c2c[c][c]cc2)c2ccc(C(=O)O[Mg]OC(=O)c3ccc(N(c4ccc(C([O])=O)cc4)c4ccc(-c5ccc(N(c6ccc(C([O])=O)cc6)c6ccc(C([O])=O)cc6)cc5)cc4)cc3)cc2)cc1.[O]C(=O)c1ccc(N(c2c[c][c]cc2)c2ccc(C(=O)O[Mg]OC(=O)c3ccc(N(c4ccc(C([O])=O)cc4)c4ccc(-c5ccc(N(c6ccc(C([O])=O)cc6)c6ccc(C([O])=O)cc6)cc5)cc4)cc3)cc2)cc1.[O]C(=O)c1ccc(N(c2ccc(C([O])=O)cc2)c2ccc(-c3ccc(N(c4ccc(C([O])=O)cc4)c4ccc(C(=O)O[Mg]OC(=O)c5ccc(N(c6ccc(C([O])=O)cc6)c6ccc(-c7ccc(N(c8ccc(C([O])=O)cc8)c8ccc(C([O])=O)cc8)cc7)cc6)cc5)cc4)cc3)cc2)cc1.[O]C(=O)c1ccc(N(c2ccc(C([O])=O)cc2)c2ccc(-c3ccc(N(c4ccc(C([O])=O)cc4)c4ccc(C(=O)O[Mg]OC(=O)c5ccc(N(c6ccc(C([O])=O)cc6)c6ccc(-c7ccc(N(c8ccc(C([O])=O)cc8)c8ccc(C([O])=O)cc8)cc7)cc6)cc5)cc4)cc3)cc2)cc1.[O]C(=O)c1ccc(N(c2ccc(C([O])=O)cc2)c2ccc(-c3ccc(N(c4ccc(C([O])=O)cc4)c4ccc(C(=O)O[Mg]OC(=O)c5ccc(N(c6ccc(C([O])=O)cc6)c6ccc(-c7ccc(N(c8ccc(C([O])=O)cc8)c8ccc(C([O])=O)cc8)cc7)cc6)cc5)cc4)cc3)cc2)cc1.[O]C(=O)c1ccc(N(c2ccc(C([O])=O)cc2)c2ccc(-c3ccc(N(c4ccc(C([O])=O)cc4)c4ccc(C(=O)O[Mg]OC(=O)c5ccc(N(c6ccc(C([O])=O)cc6)c6ccc(-c7ccc(N(c8ccc(C([O])=O)cc8)c8ccc(C([O])=O)cc8)cc7)cc6)cc5)cc4)cc3)cc2)cc1 in pubchem, now performing substructure search\n",
      "/Users/kevinmaikjablonka/miniconda3/envs/moffragmentor/lib/python3.8/site-packages/pubchempy.py:563: SyntaxWarning: \"is not\" with a literal. Did you mean \"!=\"?\n",
      "  if self.charge is not 0:\n",
      "/Users/kevinmaikjablonka/miniconda3/envs/moffragmentor/lib/python3.8/site-packages/pubchempy.py:563: SyntaxWarning: \"is not\" with a literal. Did you mean \"!=\"?\n",
      "  if self.charge is not 0:\n",
      "/Users/kevinmaikjablonka/miniconda3/envs/moffragmentor/lib/python3.8/site-packages/pubchempy.py:563: SyntaxWarning: \"is not\" with a literal. Did you mean \"!=\"?\n",
      "  if self.charge is not 0:\n",
      "/Users/kevinmaikjablonka/miniconda3/envs/moffragmentor/lib/python3.8/site-packages/pubchempy.py:563: SyntaxWarning: \"is not\" with a literal. Did you mean \"!=\"?\n",
      "  if self.charge is not 0:\n",
      "/Users/kevinmaikjablonka/miniconda3/envs/moffragmentor/lib/python3.8/site-packages/pubchempy.py:563: SyntaxWarning: \"is not\" with a literal. Did you mean \"!=\"?\n",
      "  if self.charge is not 0:\n",
      "/Users/kevinmaikjablonka/miniconda3/envs/moffragmentor/lib/python3.8/site-packages/pubchempy.py:563: SyntaxWarning: \"is not\" with a literal. Did you mean \"!=\"?\n",
      "  if self.charge is not 0:\n",
      "/Users/kevinmaikjablonka/miniconda3/envs/moffragmentor/lib/python3.8/site-packages/pubchempy.py:563: SyntaxWarning: \"is not\" with a literal. Did you mean \"!=\"?\n",
      "  if self.charge is not 0:\n",
      "/Users/kevinmaikjablonka/miniconda3/envs/moffragmentor/lib/python3.8/site-packages/pubchempy.py:563: SyntaxWarning: \"is not\" with a literal. Did you mean \"!=\"?\n",
      "  if self.charge is not 0:\n",
      "/Users/kevinmaikjablonka/miniconda3/envs/moffragmentor/lib/python3.8/site-packages/pubchempy.py:563: SyntaxWarning: \"is not\" with a literal. Did you mean \"!=\"?\n",
      "  if self.charge is not 0:\n",
      "/Users/kevinmaikjablonka/miniconda3/envs/moffragmentor/lib/python3.8/site-packages/pubchempy.py:563: SyntaxWarning: \"is not\" with a literal. Did you mean \"!=\"?\n",
      "  if self.charge is not 0:\n",
      "/Users/kevinmaikjablonka/miniconda3/envs/moffragmentor/lib/python3.8/site-packages/pubchempy.py:563: SyntaxWarning: \"is not\" with a literal. Did you mean \"!=\"?\n",
      "  if self.charge is not 0:\n",
      "/Users/kevinmaikjablonka/miniconda3/envs/moffragmentor/lib/python3.8/site-packages/pubchempy.py:563: SyntaxWarning: \"is not\" with a literal. Did you mean \"!=\"?\n",
      "  if self.charge is not 0:\n",
      "/Users/kevinmaikjablonka/miniconda3/envs/moffragmentor/lib/python3.8/site-packages/pubchempy.py:563: SyntaxWarning: \"is not\" with a literal. Did you mean \"!=\"?\n",
      "  if self.charge is not 0:\n",
      "/Users/kevinmaikjablonka/miniconda3/envs/moffragmentor/lib/python3.8/site-packages/pubchempy.py:563: SyntaxWarning: \"is not\" with a literal. Did you mean \"!=\"?\n",
      "  if self.charge is not 0:\n",
      "/Users/kevinmaikjablonka/miniconda3/envs/moffragmentor/lib/python3.8/site-packages/pubchempy.py:563: SyntaxWarning: \"is not\" with a literal. Did you mean \"!=\"?\n",
      "  if self.charge is not 0:\n",
      "/Users/kevinmaikjablonka/miniconda3/envs/moffragmentor/lib/python3.8/site-packages/pubchempy.py:563: SyntaxWarning: \"is not\" with a literal. Did you mean \"!=\"?\n",
      "  if self.charge is not 0:\n"
     ]
    },
    {
     "ename": "BadRequestError",
     "evalue": "'PUGREST.BadRequest'",
     "output_type": "error",
     "traceback": [
      "\u001b[0;31m---------------------------------------------------------------------------\u001b[0m",
      "\u001b[0;31mHTTPError\u001b[0m                                 Traceback (most recent call last)",
      "File \u001b[0;32m~/miniconda3/envs/moffragmentor/lib/python3.8/site-packages/pubchempy.py:271\u001b[0m, in \u001b[0;36mrequest\u001b[0;34m(identifier, namespace, domain, operation, output, searchtype, **kwargs)\u001b[0m\n\u001b[1;32m    <a href='file:///Users/kevinmaikjablonka/miniconda3/envs/moffragmentor/lib/python3.8/site-packages/pubchempy.py?line=269'>270</a>\u001b[0m log\u001b[39m.\u001b[39mdebug(\u001b[39m'\u001b[39m\u001b[39mRequest data: \u001b[39m\u001b[39m%s\u001b[39;00m\u001b[39m'\u001b[39m, postdata)\n\u001b[0;32m--> <a href='file:///Users/kevinmaikjablonka/miniconda3/envs/moffragmentor/lib/python3.8/site-packages/pubchempy.py?line=270'>271</a>\u001b[0m response \u001b[39m=\u001b[39m urlopen(apiurl, postdata)\n\u001b[1;32m    <a href='file:///Users/kevinmaikjablonka/miniconda3/envs/moffragmentor/lib/python3.8/site-packages/pubchempy.py?line=271'>272</a>\u001b[0m \u001b[39mreturn\u001b[39;00m response\n",
      "File \u001b[0;32m~/miniconda3/envs/moffragmentor/lib/python3.8/urllib/request.py:222\u001b[0m, in \u001b[0;36murlopen\u001b[0;34m(url, data, timeout, cafile, capath, cadefault, context)\u001b[0m\n\u001b[1;32m    <a href='file:///Users/kevinmaikjablonka/miniconda3/envs/moffragmentor/lib/python3.8/urllib/request.py?line=220'>221</a>\u001b[0m     opener \u001b[39m=\u001b[39m _opener\n\u001b[0;32m--> <a href='file:///Users/kevinmaikjablonka/miniconda3/envs/moffragmentor/lib/python3.8/urllib/request.py?line=221'>222</a>\u001b[0m \u001b[39mreturn\u001b[39;00m opener\u001b[39m.\u001b[39;49mopen(url, data, timeout)\n",
      "File \u001b[0;32m~/miniconda3/envs/moffragmentor/lib/python3.8/urllib/request.py:531\u001b[0m, in \u001b[0;36mOpenerDirector.open\u001b[0;34m(self, fullurl, data, timeout)\u001b[0m\n\u001b[1;32m    <a href='file:///Users/kevinmaikjablonka/miniconda3/envs/moffragmentor/lib/python3.8/urllib/request.py?line=529'>530</a>\u001b[0m     meth \u001b[39m=\u001b[39m \u001b[39mgetattr\u001b[39m(processor, meth_name)\n\u001b[0;32m--> <a href='file:///Users/kevinmaikjablonka/miniconda3/envs/moffragmentor/lib/python3.8/urllib/request.py?line=530'>531</a>\u001b[0m     response \u001b[39m=\u001b[39m meth(req, response)\n\u001b[1;32m    <a href='file:///Users/kevinmaikjablonka/miniconda3/envs/moffragmentor/lib/python3.8/urllib/request.py?line=532'>533</a>\u001b[0m \u001b[39mreturn\u001b[39;00m response\n",
      "File \u001b[0;32m~/miniconda3/envs/moffragmentor/lib/python3.8/urllib/request.py:640\u001b[0m, in \u001b[0;36mHTTPErrorProcessor.http_response\u001b[0;34m(self, request, response)\u001b[0m\n\u001b[1;32m    <a href='file:///Users/kevinmaikjablonka/miniconda3/envs/moffragmentor/lib/python3.8/urllib/request.py?line=638'>639</a>\u001b[0m \u001b[39mif\u001b[39;00m \u001b[39mnot\u001b[39;00m (\u001b[39m200\u001b[39m \u001b[39m<\u001b[39m\u001b[39m=\u001b[39m code \u001b[39m<\u001b[39m \u001b[39m300\u001b[39m):\n\u001b[0;32m--> <a href='file:///Users/kevinmaikjablonka/miniconda3/envs/moffragmentor/lib/python3.8/urllib/request.py?line=639'>640</a>\u001b[0m     response \u001b[39m=\u001b[39m \u001b[39mself\u001b[39;49m\u001b[39m.\u001b[39;49mparent\u001b[39m.\u001b[39;49merror(\n\u001b[1;32m    <a href='file:///Users/kevinmaikjablonka/miniconda3/envs/moffragmentor/lib/python3.8/urllib/request.py?line=640'>641</a>\u001b[0m         \u001b[39m'\u001b[39;49m\u001b[39mhttp\u001b[39;49m\u001b[39m'\u001b[39;49m, request, response, code, msg, hdrs)\n\u001b[1;32m    <a href='file:///Users/kevinmaikjablonka/miniconda3/envs/moffragmentor/lib/python3.8/urllib/request.py?line=642'>643</a>\u001b[0m \u001b[39mreturn\u001b[39;00m response\n",
      "File \u001b[0;32m~/miniconda3/envs/moffragmentor/lib/python3.8/urllib/request.py:569\u001b[0m, in \u001b[0;36mOpenerDirector.error\u001b[0;34m(self, proto, *args)\u001b[0m\n\u001b[1;32m    <a href='file:///Users/kevinmaikjablonka/miniconda3/envs/moffragmentor/lib/python3.8/urllib/request.py?line=567'>568</a>\u001b[0m args \u001b[39m=\u001b[39m (\u001b[39mdict\u001b[39m, \u001b[39m'\u001b[39m\u001b[39mdefault\u001b[39m\u001b[39m'\u001b[39m, \u001b[39m'\u001b[39m\u001b[39mhttp_error_default\u001b[39m\u001b[39m'\u001b[39m) \u001b[39m+\u001b[39m orig_args\n\u001b[0;32m--> <a href='file:///Users/kevinmaikjablonka/miniconda3/envs/moffragmentor/lib/python3.8/urllib/request.py?line=568'>569</a>\u001b[0m \u001b[39mreturn\u001b[39;00m \u001b[39mself\u001b[39;49m\u001b[39m.\u001b[39;49m_call_chain(\u001b[39m*\u001b[39;49margs)\n",
      "File \u001b[0;32m~/miniconda3/envs/moffragmentor/lib/python3.8/urllib/request.py:502\u001b[0m, in \u001b[0;36mOpenerDirector._call_chain\u001b[0;34m(self, chain, kind, meth_name, *args)\u001b[0m\n\u001b[1;32m    <a href='file:///Users/kevinmaikjablonka/miniconda3/envs/moffragmentor/lib/python3.8/urllib/request.py?line=500'>501</a>\u001b[0m func \u001b[39m=\u001b[39m \u001b[39mgetattr\u001b[39m(handler, meth_name)\n\u001b[0;32m--> <a href='file:///Users/kevinmaikjablonka/miniconda3/envs/moffragmentor/lib/python3.8/urllib/request.py?line=501'>502</a>\u001b[0m result \u001b[39m=\u001b[39m func(\u001b[39m*\u001b[39;49margs)\n\u001b[1;32m    <a href='file:///Users/kevinmaikjablonka/miniconda3/envs/moffragmentor/lib/python3.8/urllib/request.py?line=502'>503</a>\u001b[0m \u001b[39mif\u001b[39;00m result \u001b[39mis\u001b[39;00m \u001b[39mnot\u001b[39;00m \u001b[39mNone\u001b[39;00m:\n",
      "File \u001b[0;32m~/miniconda3/envs/moffragmentor/lib/python3.8/urllib/request.py:649\u001b[0m, in \u001b[0;36mHTTPDefaultErrorHandler.http_error_default\u001b[0;34m(self, req, fp, code, msg, hdrs)\u001b[0m\n\u001b[1;32m    <a href='file:///Users/kevinmaikjablonka/miniconda3/envs/moffragmentor/lib/python3.8/urllib/request.py?line=647'>648</a>\u001b[0m \u001b[39mdef\u001b[39;00m \u001b[39mhttp_error_default\u001b[39m(\u001b[39mself\u001b[39m, req, fp, code, msg, hdrs):\n\u001b[0;32m--> <a href='file:///Users/kevinmaikjablonka/miniconda3/envs/moffragmentor/lib/python3.8/urllib/request.py?line=648'>649</a>\u001b[0m     \u001b[39mraise\u001b[39;00m HTTPError(req\u001b[39m.\u001b[39mfull_url, code, msg, hdrs, fp)\n",
      "\u001b[0;31mHTTPError\u001b[0m: HTTP Error 400: PUGREST.BadRequest",
      "\nDuring handling of the above exception, another exception occurred:\n",
      "\u001b[0;31mBadRequestError\u001b[0m                           Traceback (most recent call last)",
      "File \u001b[0;32m~/git/kjappelbaum/moffragmentor/src/moffragmentor/sbu/sbu.py:127\u001b[0m, in \u001b[0;36mSBU.search_pubchem\u001b[0;34m(self, **kwargs)\u001b[0m\n\u001b[1;32m    <a href='file:///Users/kevinmaikjablonka/git/kjappelbaum/moffragmentor/src/moffragmentor/sbu/sbu.py?line=125'>126</a>\u001b[0m \u001b[39mtry\u001b[39;00m:\n\u001b[0;32m--> <a href='file:///Users/kevinmaikjablonka/git/kjappelbaum/moffragmentor/src/moffragmentor/sbu/sbu.py?line=126'>127</a>\u001b[0m      pcp\u001b[39m.\u001b[39;49mget_compounds(\u001b[39mself\u001b[39;49m\u001b[39m.\u001b[39;49msmiles, namespace\u001b[39m=\u001b[39;49m\u001b[39m'\u001b[39;49m\u001b[39msmiles\u001b[39;49m\u001b[39m'\u001b[39;49m, \u001b[39m*\u001b[39;49m\u001b[39m*\u001b[39;49mkwargs)\n\u001b[1;32m    <a href='file:///Users/kevinmaikjablonka/git/kjappelbaum/moffragmentor/src/moffragmentor/sbu/sbu.py?line=127'>128</a>\u001b[0m \u001b[39mexcept\u001b[39;00m \u001b[39mException\u001b[39;00m:\n",
      "File \u001b[0;32m~/miniconda3/envs/moffragmentor/lib/python3.8/site-packages/pubchempy.py:321\u001b[0m, in \u001b[0;36mget_compounds\u001b[0;34m(identifier, namespace, searchtype, as_dataframe, **kwargs)\u001b[0m\n\u001b[1;32m    <a href='file:///Users/kevinmaikjablonka/miniconda3/envs/moffragmentor/lib/python3.8/site-packages/pubchempy.py?line=312'>313</a>\u001b[0m \u001b[39m\"\"\"Retrieve the specified compound records from PubChem.\u001b[39;00m\n\u001b[1;32m    <a href='file:///Users/kevinmaikjablonka/miniconda3/envs/moffragmentor/lib/python3.8/site-packages/pubchempy.py?line=313'>314</a>\u001b[0m \n\u001b[1;32m    <a href='file:///Users/kevinmaikjablonka/miniconda3/envs/moffragmentor/lib/python3.8/site-packages/pubchempy.py?line=314'>315</a>\u001b[0m \u001b[39m:param identifier: The compound identifier to use as a search query.\u001b[39;00m\n\u001b[0;32m   (...)\u001b[0m\n\u001b[1;32m    <a href='file:///Users/kevinmaikjablonka/miniconda3/envs/moffragmentor/lib/python3.8/site-packages/pubchempy.py?line=318'>319</a>\u001b[0m \u001b[39m                     :class:`~pandas.DataFrame` and return that.\u001b[39;00m\n\u001b[1;32m    <a href='file:///Users/kevinmaikjablonka/miniconda3/envs/moffragmentor/lib/python3.8/site-packages/pubchempy.py?line=319'>320</a>\u001b[0m \u001b[39m\"\"\"\u001b[39;00m\n\u001b[0;32m--> <a href='file:///Users/kevinmaikjablonka/miniconda3/envs/moffragmentor/lib/python3.8/site-packages/pubchempy.py?line=320'>321</a>\u001b[0m results \u001b[39m=\u001b[39m get_json(identifier, namespace, searchtype\u001b[39m=\u001b[39;49msearchtype, \u001b[39m*\u001b[39;49m\u001b[39m*\u001b[39;49mkwargs)\n\u001b[1;32m    <a href='file:///Users/kevinmaikjablonka/miniconda3/envs/moffragmentor/lib/python3.8/site-packages/pubchempy.py?line=321'>322</a>\u001b[0m compounds \u001b[39m=\u001b[39m [Compound(r) \u001b[39mfor\u001b[39;00m r \u001b[39min\u001b[39;00m results[\u001b[39m'\u001b[39m\u001b[39mPC_Compounds\u001b[39m\u001b[39m'\u001b[39m]] \u001b[39mif\u001b[39;00m results \u001b[39melse\u001b[39;00m []\n",
      "File \u001b[0;32m~/miniconda3/envs/moffragmentor/lib/python3.8/site-packages/pubchempy.py:299\u001b[0m, in \u001b[0;36mget_json\u001b[0;34m(identifier, namespace, domain, operation, searchtype, **kwargs)\u001b[0m\n\u001b[1;32m    <a href='file:///Users/kevinmaikjablonka/miniconda3/envs/moffragmentor/lib/python3.8/site-packages/pubchempy.py?line=297'>298</a>\u001b[0m \u001b[39mtry\u001b[39;00m:\n\u001b[0;32m--> <a href='file:///Users/kevinmaikjablonka/miniconda3/envs/moffragmentor/lib/python3.8/site-packages/pubchempy.py?line=298'>299</a>\u001b[0m     \u001b[39mreturn\u001b[39;00m json\u001b[39m.\u001b[39mloads(get(identifier, namespace, domain, operation, \u001b[39m'\u001b[39;49m\u001b[39mJSON\u001b[39;49m\u001b[39m'\u001b[39;49m, searchtype, \u001b[39m*\u001b[39;49m\u001b[39m*\u001b[39;49mkwargs)\u001b[39m.\u001b[39mdecode())\n\u001b[1;32m    <a href='file:///Users/kevinmaikjablonka/miniconda3/envs/moffragmentor/lib/python3.8/site-packages/pubchempy.py?line=299'>300</a>\u001b[0m \u001b[39mexcept\u001b[39;00m NotFoundError \u001b[39mas\u001b[39;00m e:\n",
      "File \u001b[0;32m~/miniconda3/envs/moffragmentor/lib/python3.8/site-packages/pubchempy.py:292\u001b[0m, in \u001b[0;36mget\u001b[0;34m(identifier, namespace, domain, operation, output, searchtype, **kwargs)\u001b[0m\n\u001b[1;32m    <a href='file:///Users/kevinmaikjablonka/miniconda3/envs/moffragmentor/lib/python3.8/site-packages/pubchempy.py?line=290'>291</a>\u001b[0m \u001b[39melse\u001b[39;00m:\n\u001b[0;32m--> <a href='file:///Users/kevinmaikjablonka/miniconda3/envs/moffragmentor/lib/python3.8/site-packages/pubchempy.py?line=291'>292</a>\u001b[0m     response \u001b[39m=\u001b[39m request(identifier, namespace, domain, operation, output, searchtype, \u001b[39m*\u001b[39;49m\u001b[39m*\u001b[39;49mkwargs)\u001b[39m.\u001b[39mread()\n\u001b[1;32m    <a href='file:///Users/kevinmaikjablonka/miniconda3/envs/moffragmentor/lib/python3.8/site-packages/pubchempy.py?line=292'>293</a>\u001b[0m \u001b[39mreturn\u001b[39;00m response\n",
      "File \u001b[0;32m~/miniconda3/envs/moffragmentor/lib/python3.8/site-packages/pubchempy.py:274\u001b[0m, in \u001b[0;36mrequest\u001b[0;34m(identifier, namespace, domain, operation, output, searchtype, **kwargs)\u001b[0m\n\u001b[1;32m    <a href='file:///Users/kevinmaikjablonka/miniconda3/envs/moffragmentor/lib/python3.8/site-packages/pubchempy.py?line=272'>273</a>\u001b[0m \u001b[39mexcept\u001b[39;00m HTTPError \u001b[39mas\u001b[39;00m e:\n\u001b[0;32m--> <a href='file:///Users/kevinmaikjablonka/miniconda3/envs/moffragmentor/lib/python3.8/site-packages/pubchempy.py?line=273'>274</a>\u001b[0m     \u001b[39mraise\u001b[39;00m PubChemHTTPError(e)\n",
      "File \u001b[0;32m~/miniconda3/envs/moffragmentor/lib/python3.8/site-packages/pubchempy.py:1297\u001b[0m, in \u001b[0;36mPubChemHTTPError.__init__\u001b[0;34m(self, e)\u001b[0m\n\u001b[1;32m   <a href='file:///Users/kevinmaikjablonka/miniconda3/envs/moffragmentor/lib/python3.8/site-packages/pubchempy.py?line=1295'>1296</a>\u001b[0m \u001b[39mif\u001b[39;00m \u001b[39mself\u001b[39m\u001b[39m.\u001b[39mcode \u001b[39m==\u001b[39m \u001b[39m400\u001b[39m:\n\u001b[0;32m-> <a href='file:///Users/kevinmaikjablonka/miniconda3/envs/moffragmentor/lib/python3.8/site-packages/pubchempy.py?line=1296'>1297</a>\u001b[0m     \u001b[39mraise\u001b[39;00m BadRequestError(\u001b[39mself\u001b[39m\u001b[39m.\u001b[39mmsg)\n\u001b[1;32m   <a href='file:///Users/kevinmaikjablonka/miniconda3/envs/moffragmentor/lib/python3.8/site-packages/pubchempy.py?line=1297'>1298</a>\u001b[0m \u001b[39melif\u001b[39;00m \u001b[39mself\u001b[39m\u001b[39m.\u001b[39mcode \u001b[39m==\u001b[39m \u001b[39m404\u001b[39m:\n",
      "\u001b[0;31mBadRequestError\u001b[0m: 'PUGREST.BadRequest: error: '",
      "\nDuring handling of the above exception, another exception occurred:\n",
      "\u001b[0;31mHTTPError\u001b[0m                                 Traceback (most recent call last)",
      "File \u001b[0;32m~/miniconda3/envs/moffragmentor/lib/python3.8/site-packages/pubchempy.py:271\u001b[0m, in \u001b[0;36mrequest\u001b[0;34m(identifier, namespace, domain, operation, output, searchtype, **kwargs)\u001b[0m\n\u001b[1;32m    <a href='file:///Users/kevinmaikjablonka/miniconda3/envs/moffragmentor/lib/python3.8/site-packages/pubchempy.py?line=269'>270</a>\u001b[0m log\u001b[39m.\u001b[39mdebug(\u001b[39m'\u001b[39m\u001b[39mRequest data: \u001b[39m\u001b[39m%s\u001b[39;00m\u001b[39m'\u001b[39m, postdata)\n\u001b[0;32m--> <a href='file:///Users/kevinmaikjablonka/miniconda3/envs/moffragmentor/lib/python3.8/site-packages/pubchempy.py?line=270'>271</a>\u001b[0m response \u001b[39m=\u001b[39m urlopen(apiurl, postdata)\n\u001b[1;32m    <a href='file:///Users/kevinmaikjablonka/miniconda3/envs/moffragmentor/lib/python3.8/site-packages/pubchempy.py?line=271'>272</a>\u001b[0m \u001b[39mreturn\u001b[39;00m response\n",
      "File \u001b[0;32m~/miniconda3/envs/moffragmentor/lib/python3.8/urllib/request.py:222\u001b[0m, in \u001b[0;36murlopen\u001b[0;34m(url, data, timeout, cafile, capath, cadefault, context)\u001b[0m\n\u001b[1;32m    <a href='file:///Users/kevinmaikjablonka/miniconda3/envs/moffragmentor/lib/python3.8/urllib/request.py?line=220'>221</a>\u001b[0m     opener \u001b[39m=\u001b[39m _opener\n\u001b[0;32m--> <a href='file:///Users/kevinmaikjablonka/miniconda3/envs/moffragmentor/lib/python3.8/urllib/request.py?line=221'>222</a>\u001b[0m \u001b[39mreturn\u001b[39;00m opener\u001b[39m.\u001b[39;49mopen(url, data, timeout)\n",
      "File \u001b[0;32m~/miniconda3/envs/moffragmentor/lib/python3.8/urllib/request.py:531\u001b[0m, in \u001b[0;36mOpenerDirector.open\u001b[0;34m(self, fullurl, data, timeout)\u001b[0m\n\u001b[1;32m    <a href='file:///Users/kevinmaikjablonka/miniconda3/envs/moffragmentor/lib/python3.8/urllib/request.py?line=529'>530</a>\u001b[0m     meth \u001b[39m=\u001b[39m \u001b[39mgetattr\u001b[39m(processor, meth_name)\n\u001b[0;32m--> <a href='file:///Users/kevinmaikjablonka/miniconda3/envs/moffragmentor/lib/python3.8/urllib/request.py?line=530'>531</a>\u001b[0m     response \u001b[39m=\u001b[39m meth(req, response)\n\u001b[1;32m    <a href='file:///Users/kevinmaikjablonka/miniconda3/envs/moffragmentor/lib/python3.8/urllib/request.py?line=532'>533</a>\u001b[0m \u001b[39mreturn\u001b[39;00m response\n",
      "File \u001b[0;32m~/miniconda3/envs/moffragmentor/lib/python3.8/urllib/request.py:640\u001b[0m, in \u001b[0;36mHTTPErrorProcessor.http_response\u001b[0;34m(self, request, response)\u001b[0m\n\u001b[1;32m    <a href='file:///Users/kevinmaikjablonka/miniconda3/envs/moffragmentor/lib/python3.8/urllib/request.py?line=638'>639</a>\u001b[0m \u001b[39mif\u001b[39;00m \u001b[39mnot\u001b[39;00m (\u001b[39m200\u001b[39m \u001b[39m<\u001b[39m\u001b[39m=\u001b[39m code \u001b[39m<\u001b[39m \u001b[39m300\u001b[39m):\n\u001b[0;32m--> <a href='file:///Users/kevinmaikjablonka/miniconda3/envs/moffragmentor/lib/python3.8/urllib/request.py?line=639'>640</a>\u001b[0m     response \u001b[39m=\u001b[39m \u001b[39mself\u001b[39;49m\u001b[39m.\u001b[39;49mparent\u001b[39m.\u001b[39;49merror(\n\u001b[1;32m    <a href='file:///Users/kevinmaikjablonka/miniconda3/envs/moffragmentor/lib/python3.8/urllib/request.py?line=640'>641</a>\u001b[0m         \u001b[39m'\u001b[39;49m\u001b[39mhttp\u001b[39;49m\u001b[39m'\u001b[39;49m, request, response, code, msg, hdrs)\n\u001b[1;32m    <a href='file:///Users/kevinmaikjablonka/miniconda3/envs/moffragmentor/lib/python3.8/urllib/request.py?line=642'>643</a>\u001b[0m \u001b[39mreturn\u001b[39;00m response\n",
      "File \u001b[0;32m~/miniconda3/envs/moffragmentor/lib/python3.8/urllib/request.py:569\u001b[0m, in \u001b[0;36mOpenerDirector.error\u001b[0;34m(self, proto, *args)\u001b[0m\n\u001b[1;32m    <a href='file:///Users/kevinmaikjablonka/miniconda3/envs/moffragmentor/lib/python3.8/urllib/request.py?line=567'>568</a>\u001b[0m args \u001b[39m=\u001b[39m (\u001b[39mdict\u001b[39m, \u001b[39m'\u001b[39m\u001b[39mdefault\u001b[39m\u001b[39m'\u001b[39m, \u001b[39m'\u001b[39m\u001b[39mhttp_error_default\u001b[39m\u001b[39m'\u001b[39m) \u001b[39m+\u001b[39m orig_args\n\u001b[0;32m--> <a href='file:///Users/kevinmaikjablonka/miniconda3/envs/moffragmentor/lib/python3.8/urllib/request.py?line=568'>569</a>\u001b[0m \u001b[39mreturn\u001b[39;00m \u001b[39mself\u001b[39;49m\u001b[39m.\u001b[39;49m_call_chain(\u001b[39m*\u001b[39;49margs)\n",
      "File \u001b[0;32m~/miniconda3/envs/moffragmentor/lib/python3.8/urllib/request.py:502\u001b[0m, in \u001b[0;36mOpenerDirector._call_chain\u001b[0;34m(self, chain, kind, meth_name, *args)\u001b[0m\n\u001b[1;32m    <a href='file:///Users/kevinmaikjablonka/miniconda3/envs/moffragmentor/lib/python3.8/urllib/request.py?line=500'>501</a>\u001b[0m func \u001b[39m=\u001b[39m \u001b[39mgetattr\u001b[39m(handler, meth_name)\n\u001b[0;32m--> <a href='file:///Users/kevinmaikjablonka/miniconda3/envs/moffragmentor/lib/python3.8/urllib/request.py?line=501'>502</a>\u001b[0m result \u001b[39m=\u001b[39m func(\u001b[39m*\u001b[39;49margs)\n\u001b[1;32m    <a href='file:///Users/kevinmaikjablonka/miniconda3/envs/moffragmentor/lib/python3.8/urllib/request.py?line=502'>503</a>\u001b[0m \u001b[39mif\u001b[39;00m result \u001b[39mis\u001b[39;00m \u001b[39mnot\u001b[39;00m \u001b[39mNone\u001b[39;00m:\n",
      "File \u001b[0;32m~/miniconda3/envs/moffragmentor/lib/python3.8/urllib/request.py:649\u001b[0m, in \u001b[0;36mHTTPDefaultErrorHandler.http_error_default\u001b[0;34m(self, req, fp, code, msg, hdrs)\u001b[0m\n\u001b[1;32m    <a href='file:///Users/kevinmaikjablonka/miniconda3/envs/moffragmentor/lib/python3.8/urllib/request.py?line=647'>648</a>\u001b[0m \u001b[39mdef\u001b[39;00m \u001b[39mhttp_error_default\u001b[39m(\u001b[39mself\u001b[39m, req, fp, code, msg, hdrs):\n\u001b[0;32m--> <a href='file:///Users/kevinmaikjablonka/miniconda3/envs/moffragmentor/lib/python3.8/urllib/request.py?line=648'>649</a>\u001b[0m     \u001b[39mraise\u001b[39;00m HTTPError(req\u001b[39m.\u001b[39mfull_url, code, msg, hdrs, fp)\n",
      "\u001b[0;31mHTTPError\u001b[0m: HTTP Error 400: PUGREST.BadRequest",
      "\nDuring handling of the above exception, another exception occurred:\n",
      "\u001b[0;31mBadRequestError\u001b[0m                           Traceback (most recent call last)",
      "\u001b[1;32m/Users/kevinmaikjablonka/git/kjappelbaum/moffragmentor/dev/20220413_pubchem.ipynb Cell 6'\u001b[0m in \u001b[0;36m<cell line: 1>\u001b[0;34m()\u001b[0m\n\u001b[0;32m----> <a href='vscode-notebook-cell:/Users/kevinmaikjablonka/git/kjappelbaum/moffragmentor/dev/20220413_pubchem.ipynb#ch0000003?line=0'>1</a>\u001b[0m bbs\u001b[39m.\u001b[39;49mlinkers[\u001b[39m0\u001b[39;49m]\u001b[39m.\u001b[39;49msearch_pubchem()\n",
      "File \u001b[0;32m~/git/kjappelbaum/moffragmentor/src/moffragmentor/sbu/sbu.py:130\u001b[0m, in \u001b[0;36mSBU.search_pubchem\u001b[0;34m(self, **kwargs)\u001b[0m\n\u001b[1;32m    <a href='file:///Users/kevinmaikjablonka/git/kjappelbaum/moffragmentor/src/moffragmentor/sbu/sbu.py?line=127'>128</a>\u001b[0m \u001b[39mexcept\u001b[39;00m \u001b[39mException\u001b[39;00m:\n\u001b[1;32m    <a href='file:///Users/kevinmaikjablonka/git/kjappelbaum/moffragmentor/src/moffragmentor/sbu/sbu.py?line=128'>129</a>\u001b[0m     logger\u001b[39m.\u001b[39mwarning(\u001b[39mf\u001b[39m\u001b[39m\"\u001b[39m\u001b[39mCould not find \u001b[39m\u001b[39m{\u001b[39;00m\u001b[39mself\u001b[39m\u001b[39m.\u001b[39msmiles\u001b[39m}\u001b[39;00m\u001b[39m in pubchem, now performing substructure search\u001b[39m\u001b[39m\"\u001b[39m)\n\u001b[0;32m--> <a href='file:///Users/kevinmaikjablonka/git/kjappelbaum/moffragmentor/src/moffragmentor/sbu/sbu.py?line=129'>130</a>\u001b[0m     \u001b[39mreturn\u001b[39;00m pcp\u001b[39m.\u001b[39;49mget_compounds(\u001b[39mself\u001b[39;49m\u001b[39m.\u001b[39;49msmiles, namespace\u001b[39m=\u001b[39;49m\u001b[39m'\u001b[39;49m\u001b[39msmiles\u001b[39;49m\u001b[39m'\u001b[39;49m, searchtype\u001b[39m=\u001b[39;49m\u001b[39m'\u001b[39;49m\u001b[39msubstructure\u001b[39;49m\u001b[39m'\u001b[39;49m, \u001b[39m*\u001b[39;49m\u001b[39m*\u001b[39;49mkwargs)\n",
      "File \u001b[0;32m~/miniconda3/envs/moffragmentor/lib/python3.8/site-packages/pubchempy.py:321\u001b[0m, in \u001b[0;36mget_compounds\u001b[0;34m(identifier, namespace, searchtype, as_dataframe, **kwargs)\u001b[0m\n\u001b[1;32m    <a href='file:///Users/kevinmaikjablonka/miniconda3/envs/moffragmentor/lib/python3.8/site-packages/pubchempy.py?line=311'>312</a>\u001b[0m \u001b[39mdef\u001b[39;00m \u001b[39mget_compounds\u001b[39m(identifier, namespace\u001b[39m=\u001b[39m\u001b[39m'\u001b[39m\u001b[39mcid\u001b[39m\u001b[39m'\u001b[39m, searchtype\u001b[39m=\u001b[39m\u001b[39mNone\u001b[39;00m, as_dataframe\u001b[39m=\u001b[39m\u001b[39mFalse\u001b[39;00m, \u001b[39m*\u001b[39m\u001b[39m*\u001b[39mkwargs):\n\u001b[1;32m    <a href='file:///Users/kevinmaikjablonka/miniconda3/envs/moffragmentor/lib/python3.8/site-packages/pubchempy.py?line=312'>313</a>\u001b[0m     \u001b[39m\"\"\"Retrieve the specified compound records from PubChem.\u001b[39;00m\n\u001b[1;32m    <a href='file:///Users/kevinmaikjablonka/miniconda3/envs/moffragmentor/lib/python3.8/site-packages/pubchempy.py?line=313'>314</a>\u001b[0m \n\u001b[1;32m    <a href='file:///Users/kevinmaikjablonka/miniconda3/envs/moffragmentor/lib/python3.8/site-packages/pubchempy.py?line=314'>315</a>\u001b[0m \u001b[39m    :param identifier: The compound identifier to use as a search query.\u001b[39;00m\n\u001b[0;32m   (...)\u001b[0m\n\u001b[1;32m    <a href='file:///Users/kevinmaikjablonka/miniconda3/envs/moffragmentor/lib/python3.8/site-packages/pubchempy.py?line=318'>319</a>\u001b[0m \u001b[39m                         :class:`~pandas.DataFrame` and return that.\u001b[39;00m\n\u001b[1;32m    <a href='file:///Users/kevinmaikjablonka/miniconda3/envs/moffragmentor/lib/python3.8/site-packages/pubchempy.py?line=319'>320</a>\u001b[0m \u001b[39m    \"\"\"\u001b[39;00m\n\u001b[0;32m--> <a href='file:///Users/kevinmaikjablonka/miniconda3/envs/moffragmentor/lib/python3.8/site-packages/pubchempy.py?line=320'>321</a>\u001b[0m     results \u001b[39m=\u001b[39m get_json(identifier, namespace, searchtype\u001b[39m=\u001b[39;49msearchtype, \u001b[39m*\u001b[39;49m\u001b[39m*\u001b[39;49mkwargs)\n\u001b[1;32m    <a href='file:///Users/kevinmaikjablonka/miniconda3/envs/moffragmentor/lib/python3.8/site-packages/pubchempy.py?line=321'>322</a>\u001b[0m     compounds \u001b[39m=\u001b[39m [Compound(r) \u001b[39mfor\u001b[39;00m r \u001b[39min\u001b[39;00m results[\u001b[39m'\u001b[39m\u001b[39mPC_Compounds\u001b[39m\u001b[39m'\u001b[39m]] \u001b[39mif\u001b[39;00m results \u001b[39melse\u001b[39;00m []\n\u001b[1;32m    <a href='file:///Users/kevinmaikjablonka/miniconda3/envs/moffragmentor/lib/python3.8/site-packages/pubchempy.py?line=322'>323</a>\u001b[0m     \u001b[39mif\u001b[39;00m as_dataframe:\n",
      "File \u001b[0;32m~/miniconda3/envs/moffragmentor/lib/python3.8/site-packages/pubchempy.py:299\u001b[0m, in \u001b[0;36mget_json\u001b[0;34m(identifier, namespace, domain, operation, searchtype, **kwargs)\u001b[0m\n\u001b[1;32m    <a href='file:///Users/kevinmaikjablonka/miniconda3/envs/moffragmentor/lib/python3.8/site-packages/pubchempy.py?line=296'>297</a>\u001b[0m \u001b[39m\"\"\"Request wrapper that automatically parses JSON response and supresses NotFoundError.\"\"\"\u001b[39;00m\n\u001b[1;32m    <a href='file:///Users/kevinmaikjablonka/miniconda3/envs/moffragmentor/lib/python3.8/site-packages/pubchempy.py?line=297'>298</a>\u001b[0m \u001b[39mtry\u001b[39;00m:\n\u001b[0;32m--> <a href='file:///Users/kevinmaikjablonka/miniconda3/envs/moffragmentor/lib/python3.8/site-packages/pubchempy.py?line=298'>299</a>\u001b[0m     \u001b[39mreturn\u001b[39;00m json\u001b[39m.\u001b[39mloads(get(identifier, namespace, domain, operation, \u001b[39m'\u001b[39;49m\u001b[39mJSON\u001b[39;49m\u001b[39m'\u001b[39;49m, searchtype, \u001b[39m*\u001b[39;49m\u001b[39m*\u001b[39;49mkwargs)\u001b[39m.\u001b[39mdecode())\n\u001b[1;32m    <a href='file:///Users/kevinmaikjablonka/miniconda3/envs/moffragmentor/lib/python3.8/site-packages/pubchempy.py?line=299'>300</a>\u001b[0m \u001b[39mexcept\u001b[39;00m NotFoundError \u001b[39mas\u001b[39;00m e:\n\u001b[1;32m    <a href='file:///Users/kevinmaikjablonka/miniconda3/envs/moffragmentor/lib/python3.8/site-packages/pubchempy.py?line=300'>301</a>\u001b[0m     log\u001b[39m.\u001b[39minfo(e)\n",
      "File \u001b[0;32m~/miniconda3/envs/moffragmentor/lib/python3.8/site-packages/pubchempy.py:287\u001b[0m, in \u001b[0;36mget\u001b[0;34m(identifier, namespace, domain, operation, output, searchtype, **kwargs)\u001b[0m\n\u001b[1;32m    <a href='file:///Users/kevinmaikjablonka/miniconda3/envs/moffragmentor/lib/python3.8/site-packages/pubchempy.py?line=284'>285</a>\u001b[0m \u001b[39mwhile\u001b[39;00m \u001b[39m'\u001b[39m\u001b[39mWaiting\u001b[39m\u001b[39m'\u001b[39m \u001b[39min\u001b[39;00m status \u001b[39mand\u001b[39;00m \u001b[39m'\u001b[39m\u001b[39mListKey\u001b[39m\u001b[39m'\u001b[39m \u001b[39min\u001b[39;00m status[\u001b[39m'\u001b[39m\u001b[39mWaiting\u001b[39m\u001b[39m'\u001b[39m]:\n\u001b[1;32m    <a href='file:///Users/kevinmaikjablonka/miniconda3/envs/moffragmentor/lib/python3.8/site-packages/pubchempy.py?line=285'>286</a>\u001b[0m     time\u001b[39m.\u001b[39msleep(\u001b[39m2\u001b[39m)\n\u001b[0;32m--> <a href='file:///Users/kevinmaikjablonka/miniconda3/envs/moffragmentor/lib/python3.8/site-packages/pubchempy.py?line=286'>287</a>\u001b[0m     response \u001b[39m=\u001b[39m request(identifier, namespace, domain, operation, \u001b[39m'\u001b[39;49m\u001b[39mJSON\u001b[39;49m\u001b[39m'\u001b[39;49m, \u001b[39m*\u001b[39;49m\u001b[39m*\u001b[39;49mkwargs)\u001b[39m.\u001b[39mread()\n\u001b[1;32m    <a href='file:///Users/kevinmaikjablonka/miniconda3/envs/moffragmentor/lib/python3.8/site-packages/pubchempy.py?line=287'>288</a>\u001b[0m     status \u001b[39m=\u001b[39m json\u001b[39m.\u001b[39mloads(response\u001b[39m.\u001b[39mdecode())\n\u001b[1;32m    <a href='file:///Users/kevinmaikjablonka/miniconda3/envs/moffragmentor/lib/python3.8/site-packages/pubchempy.py?line=288'>289</a>\u001b[0m \u001b[39mif\u001b[39;00m \u001b[39mnot\u001b[39;00m output \u001b[39m==\u001b[39m \u001b[39m'\u001b[39m\u001b[39mJSON\u001b[39m\u001b[39m'\u001b[39m:\n",
      "File \u001b[0;32m~/miniconda3/envs/moffragmentor/lib/python3.8/site-packages/pubchempy.py:274\u001b[0m, in \u001b[0;36mrequest\u001b[0;34m(identifier, namespace, domain, operation, output, searchtype, **kwargs)\u001b[0m\n\u001b[1;32m    <a href='file:///Users/kevinmaikjablonka/miniconda3/envs/moffragmentor/lib/python3.8/site-packages/pubchempy.py?line=271'>272</a>\u001b[0m     \u001b[39mreturn\u001b[39;00m response\n\u001b[1;32m    <a href='file:///Users/kevinmaikjablonka/miniconda3/envs/moffragmentor/lib/python3.8/site-packages/pubchempy.py?line=272'>273</a>\u001b[0m \u001b[39mexcept\u001b[39;00m HTTPError \u001b[39mas\u001b[39;00m e:\n\u001b[0;32m--> <a href='file:///Users/kevinmaikjablonka/miniconda3/envs/moffragmentor/lib/python3.8/site-packages/pubchempy.py?line=273'>274</a>\u001b[0m     \u001b[39mraise\u001b[39;00m PubChemHTTPError(e)\n",
      "File \u001b[0;32m~/miniconda3/envs/moffragmentor/lib/python3.8/site-packages/pubchempy.py:1297\u001b[0m, in \u001b[0;36mPubChemHTTPError.__init__\u001b[0;34m(self, e)\u001b[0m\n\u001b[1;32m   <a href='file:///Users/kevinmaikjablonka/miniconda3/envs/moffragmentor/lib/python3.8/site-packages/pubchempy.py?line=1294'>1295</a>\u001b[0m     \u001b[39mpass\u001b[39;00m\n\u001b[1;32m   <a href='file:///Users/kevinmaikjablonka/miniconda3/envs/moffragmentor/lib/python3.8/site-packages/pubchempy.py?line=1295'>1296</a>\u001b[0m \u001b[39mif\u001b[39;00m \u001b[39mself\u001b[39m\u001b[39m.\u001b[39mcode \u001b[39m==\u001b[39m \u001b[39m400\u001b[39m:\n\u001b[0;32m-> <a href='file:///Users/kevinmaikjablonka/miniconda3/envs/moffragmentor/lib/python3.8/site-packages/pubchempy.py?line=1296'>1297</a>\u001b[0m     \u001b[39mraise\u001b[39;00m BadRequestError(\u001b[39mself\u001b[39m\u001b[39m.\u001b[39mmsg)\n\u001b[1;32m   <a href='file:///Users/kevinmaikjablonka/miniconda3/envs/moffragmentor/lib/python3.8/site-packages/pubchempy.py?line=1297'>1298</a>\u001b[0m \u001b[39melif\u001b[39;00m \u001b[39mself\u001b[39m\u001b[39m.\u001b[39mcode \u001b[39m==\u001b[39m \u001b[39m404\u001b[39m:\n\u001b[1;32m   <a href='file:///Users/kevinmaikjablonka/miniconda3/envs/moffragmentor/lib/python3.8/site-packages/pubchempy.py?line=1298'>1299</a>\u001b[0m     \u001b[39mraise\u001b[39;00m NotFoundError(\u001b[39mself\u001b[39m\u001b[39m.\u001b[39mmsg)\n",
      "\u001b[0;31mBadRequestError\u001b[0m: 'PUGREST.BadRequest'"
     ]
    }
   ],
   "source": [
    "bbs.linkers[0].search_pubchem()"
   ]
  },
  {
   "cell_type": "code",
   "execution_count": null,
   "metadata": {},
   "outputs": [],
   "source": [
    "bbs.linkers[0].show_molecule()"
   ]
  },
  {
   "cell_type": "code",
   "execution_count": null,
   "metadata": {},
   "outputs": [],
   "source": []
  },
  {
   "cell_type": "code",
   "execution_count": null,
   "metadata": {},
   "outputs": [],
   "source": []
  }
 ],
 "metadata": {
  "interpreter": {
   "hash": "504d9678a7660ab60f21950c8a644a7c3f2309ace653d8a0639c80f4ba7e4242"
  },
  "kernelspec": {
   "display_name": "Python 3.8.12 ('moffragmentor')",
   "language": "python",
   "name": "python3"
  },
  "language_info": {
   "codemirror_mode": {
    "name": "ipython",
    "version": 3
   },
   "file_extension": ".py",
   "mimetype": "text/x-python",
   "name": "python",
   "nbconvert_exporter": "python",
   "pygments_lexer": "ipython3",
   "version": "3.8.13"
  },
  "orig_nbformat": 4
 },
 "nbformat": 4,
 "nbformat_minor": 2
}
