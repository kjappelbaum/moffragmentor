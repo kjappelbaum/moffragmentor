{
 "cells": [
  {
   "cell_type": "code",
   "execution_count": 6,
   "id": "0523ba8f-a019-4d42-92cd-823fba31aacb",
   "metadata": {},
   "outputs": [
    {
     "name": "stderr",
     "output_type": "stream",
     "text": [
      "__init__.py: Enabling RDKit 2021.09.4 jupyter extensions\n"
     ]
    }
   ],
   "source": [
    "from moffragmentor import MOF\n",
    "from pymatgen.core import Structure \n"
   ]
  },
  {
   "cell_type": "code",
   "execution_count": 7,
   "id": "cdd6be52",
   "metadata": {},
   "outputs": [],
   "source": [
    "from oximachinerunner import OximachineRunner\n",
    "runner = OximachineRunner()"
   ]
  },
  {
   "cell_type": "code",
   "execution_count": 38,
   "id": "bb90e0cc-d875-4dd0-89db-6f4386349bc4",
   "metadata": {},
   "outputs": [],
   "source": [
    "m = MOF.from_cif('../tests/test_files/RIDCEN_charged.cif')"
   ]
  },
  {
   "cell_type": "code",
   "execution_count": 13,
   "id": "4c5c6b03-9a3c-435b-a5d9-e3c0c39e8e7d",
   "metadata": {},
   "outputs": [],
   "source": [
    "f = m.fragment()"
   ]
  },
  {
   "cell_type": "code",
   "execution_count": 9,
   "id": "e3e74139-77f5-474a-a100-3cb136ed352c",
   "metadata": {},
   "outputs": [],
   "source": [
    "def count_radical_electrons(mol):\n",
    "    radical_electrons = []\n",
    "    for atom in mol.GetAtoms():\n",
    "        radical_electrons.append(atom.GetNumRadicalElectrons())\n",
    "    return sum(radical_electrons)"
   ]
  },
  {
   "cell_type": "code",
   "execution_count": 26,
   "id": "aee060ac-345f-4f9e-94f0-f9b7ba4a8b48",
   "metadata": {},
   "outputs": [],
   "source": [
    "def get_linker_charges(fragments): \n",
    "    linker_charges = []\n",
    "    \n",
    "    for linker in fragments.linkers: \n",
    "        linker_charges.append(-count_radical_electrons(linker.rdkit_mol))\n",
    "    \n",
    "    return linker_charges, sum(linker_charges)"
   ]
  },
  {
   "cell_type": "code",
   "execution_count": 11,
   "id": "d6b9ce89-c052-4739-9067-62bad16af175",
   "metadata": {},
   "outputs": [
    {
     "ename": "NameError",
     "evalue": "name 'f' is not defined",
     "output_type": "error",
     "traceback": [
      "\u001b[0;31m---------------------------------------------------------------------------\u001b[0m",
      "\u001b[0;31mNameError\u001b[0m                                 Traceback (most recent call last)",
      "Input \u001b[0;32mIn [11]\u001b[0m, in \u001b[0;36m<module>\u001b[0;34m\u001b[0m\n\u001b[0;32m----> 1\u001b[0m _, lc \u001b[38;5;241m=\u001b[39m get_linker_charges(\u001b[43mf\u001b[49m)\n\u001b[1;32m      2\u001b[0m \u001b[38;5;28mprint\u001b[39m(lc)\n",
      "\u001b[0;31mNameError\u001b[0m: name 'f' is not defined"
     ]
    }
   ],
   "source": [
    "_, lc = get_linker_charges(f)\n",
    "print(lc)"
   ]
  },
  {
   "cell_type": "code",
   "execution_count": 27,
   "id": "48d56914-d560-494b-9e5a-ce1c590532b3",
   "metadata": {},
   "outputs": [],
   "source": [
    "def get_bound_solvent_charges(fragments): \n",
    "    mol_charges = []\n",
    "    \n",
    "    for solvent in fragments.unbound_solvent: \n",
    "        mol_charges.append(-count_radical_electrons(solvent.rdkit_mol))\n",
    "    \n",
    "    return mol_charges, sum(mol_charges)"
   ]
  },
  {
   "cell_type": "code",
   "execution_count": 13,
   "id": "330e4c0b-80da-4c04-a389-3f12ccf020b7",
   "metadata": {},
   "outputs": [
    {
     "ename": "NameError",
     "evalue": "name 'f' is not defined",
     "output_type": "error",
     "traceback": [
      "\u001b[0;31m---------------------------------------------------------------------------\u001b[0m",
      "\u001b[0;31mNameError\u001b[0m                                 Traceback (most recent call last)",
      "Input \u001b[0;32mIn [13]\u001b[0m, in \u001b[0;36m<module>\u001b[0;34m\u001b[0m\n\u001b[0;32m----> 1\u001b[0m _, bsc \u001b[38;5;241m=\u001b[39m get_bound_solvent_charges(\u001b[43mf\u001b[49m)\n\u001b[1;32m      2\u001b[0m \u001b[38;5;28mprint\u001b[39m(bsc)\n",
      "\u001b[0;31mNameError\u001b[0m: name 'f' is not defined"
     ]
    }
   ],
   "source": [
    "_, bsc = get_bound_solvent_charges(f)\n",
    "print(bsc)"
   ]
  },
  {
   "cell_type": "code",
   "execution_count": 21,
   "id": "a965470a-c923-4517-ac39-bc6be7cb9c56",
   "metadata": {},
   "outputs": [],
   "source": [
    "CHARGE_RULES = {\n",
    "        'O': -2,\n",
    "        'H' : 1, \n",
    "        'F': -1, \n",
    "        'Cl': -1, \n",
    "        'Br': -1,\n",
    "        'I': -1\n",
    "}"
   ]
  },
  {
   "cell_type": "code",
   "execution_count": 14,
   "id": "00bfcbba-2d2b-4fa5-ae13-a4fcb3164571",
   "metadata": {},
   "outputs": [],
   "source": [
    "def count_charge_in_composition(composition_dict): \n",
    "    charge = 0\n",
    "    for k, v in composition_dict.items():\n",
    "        charge += CHARGE_RULES[k] * v\n",
    "        \n",
    "    return charge"
   ]
  },
  {
   "cell_type": "code",
   "execution_count": 15,
   "id": "d2d71f9e-5791-47f8-bb25-e538c51d41ac",
   "metadata": {},
   "outputs": [],
   "source": [
    "def select_sites(mof, selected_indices): \n",
    "    sites = []\n",
    "    \n",
    "    for i in selected_indices: \n",
    "        sites.append(mof.structure[i])\n",
    "        \n",
    "    s = Structure.from_sites(sites)\n",
    "    \n",
    "    return s"
   ]
  },
  {
   "cell_type": "code",
   "execution_count": 32,
   "id": "754c813d-21b0-4230-afe2-d842c659536e",
   "metadata": {},
   "outputs": [],
   "source": [
    "def get_node_charges(mof, fragments):\n",
    "    \n",
    "    node_charges = []\n",
    "    \n",
    "    for n in fragments.nodes:\n",
    "        indices = set(n._original_indices) - n._original_connecting_paths - set(fragments.bound_solvent.indices) - set(mof.metal_indices)\n",
    "        \n",
    "        if len(indices) > 0:\n",
    "            s = select_sites(mof, indices)\n",
    "            \n",
    "            charge = count_charge_in_composition(s.composition.as_dict())\n",
    "            \n",
    "            node_charges.append(charge) \n",
    "    \n",
    "    return node_charges, sum(node_charges) "
   ]
  },
  {
   "cell_type": "code",
   "execution_count": 33,
   "id": "d014588a",
   "metadata": {},
   "outputs": [],
   "source": [
    "def get_oxidationstates(m):\n",
    "    res = runner._run_oximachine(m.structure)\n",
    "    return res['prediction'], sum(res['prediction'])"
   ]
  },
  {
   "cell_type": "code",
   "execution_count": 34,
   "id": "0738af4d-2e6c-4ab4-8207-bcedbeda0329",
   "metadata": {},
   "outputs": [
    {
     "ename": "NameError",
     "evalue": "name 'f' is not defined",
     "output_type": "error",
     "traceback": [
      "\u001b[0;31m---------------------------------------------------------------------------\u001b[0m",
      "\u001b[0;31mNameError\u001b[0m                                 Traceback (most recent call last)",
      "Input \u001b[0;32mIn [34]\u001b[0m, in \u001b[0;36m<module>\u001b[0;34m\u001b[0m\n\u001b[0;32m----> 1\u001b[0m get_node_charges(m, \u001b[43mf\u001b[49m)\n",
      "\u001b[0;31mNameError\u001b[0m: name 'f' is not defined"
     ]
    }
   ],
   "source": [
    "get_node_charges(m, f)"
   ]
  },
  {
   "cell_type": "code",
   "execution_count": 42,
   "id": "1742f21c",
   "metadata": {},
   "outputs": [],
   "source": [
    "def get_mof_charge(m):\n",
    "    f = m.fragment()\n",
    "    _, nc = get_node_charges(m, f)\n",
    "    _, lc = get_linker_charges(f)\n",
    "    # _, bsc = get_bound_solvent_charges(f)\n",
    "    _, mc = get_oxidationstates(m)\n",
    "\n",
    "    return nc + lc  + mc"
   ]
  },
  {
   "cell_type": "code",
   "execution_count": 43,
   "id": "8ebcaa70",
   "metadata": {},
   "outputs": [
    {
     "data": {
      "text/plain": [
       "8.0"
      ]
     },
     "execution_count": 43,
     "metadata": {},
     "output_type": "execute_result"
    }
   ],
   "source": [
    "get_mof_charge(m)"
   ]
  },
  {
   "cell_type": "code",
   "execution_count": null,
   "id": "2a7b6fc3",
   "metadata": {},
   "outputs": [],
   "source": []
  }
 ],
 "metadata": {
  "interpreter": {
   "hash": "9fc6cf35fbc3a33e3a58f810e1e8a8b7d431959d02ae1817fc797a7c79cc896c"
  },
  "kernelspec": {
   "display_name": "Python [conda env:moffragmentor] *",
   "language": "python",
   "name": "python3"
  },
  "language_info": {
   "codemirror_mode": {
    "name": "ipython",
    "version": 3
   },
   "file_extension": ".py",
   "mimetype": "text/x-python",
   "name": "python",
   "nbconvert_exporter": "python",
   "pygments_lexer": "ipython3",
   "version": "3.8.12"
  }
 },
 "nbformat": 4,
 "nbformat_minor": 5
}
