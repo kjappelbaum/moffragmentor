{
 "cells": [
  {
   "cell_type": "code",
   "execution_count": 27,
   "id": "0523ba8f-a019-4d42-92cd-823fba31aacb",
   "metadata": {},
   "outputs": [],
   "source": [
    "from moffragmentor import MOF\n",
    "from pymatgen.core import Structure \n"
   ]
  },
  {
   "cell_type": "code",
   "execution_count": 12,
   "id": "bb90e0cc-d875-4dd0-89db-6f4386349bc4",
   "metadata": {},
   "outputs": [
    {
     "name": "stderr",
     "output_type": "stream",
     "text": [
      "/Users/kevinmaikjablonka/miniconda3/envs/moffragmentor/lib/python3.8/site-packages/pymatgen/io/cif.py:709: UserWarning: No _symmetry_equiv_pos_as_xyz type key found. Spacegroup from _symmetry_space_group_name_H-M used.\n",
      "  warnings.warn(msg)\n",
      "/Users/kevinmaikjablonka/miniconda3/envs/moffragmentor/lib/python3.8/site-packages/pymatgen/io/cif.py:1164: UserWarning: Issues encountered while parsing CIF: No _symmetry_equiv_pos_as_xyz type key found. Spacegroup from _symmetry_space_group_name_H-M used.\n",
      "  warnings.warn(\"Issues encountered while parsing CIF: %s\" % \"\\n\".join(self.warnings))\n"
     ]
    }
   ],
   "source": [
    "m = MOF.from_cif('ABEDAQ.cif')"
   ]
  },
  {
   "cell_type": "code",
   "execution_count": 13,
   "id": "4c5c6b03-9a3c-435b-a5d9-e3c0c39e8e7d",
   "metadata": {},
   "outputs": [],
   "source": [
    "f = m.fragment()"
   ]
  },
  {
   "cell_type": "code",
   "execution_count": 14,
   "id": "e3e74139-77f5-474a-a100-3cb136ed352c",
   "metadata": {},
   "outputs": [],
   "source": [
    "def count_radical_electrons(mol):\n",
    "    radical_electrons = []\n",
    "    for atom in mol.GetAtoms():\n",
    "        radical_electrons.append(atom.GetNumRadicalElectrons())\n",
    "    return sum(radical_electrons)"
   ]
  },
  {
   "cell_type": "code",
   "execution_count": 17,
   "id": "aee060ac-345f-4f9e-94f0-f9b7ba4a8b48",
   "metadata": {},
   "outputs": [],
   "source": [
    "def get_linker_charges(fragments): \n",
    "    linker_charges = []\n",
    "    \n",
    "    for linker in fragments.linkers: \n",
    "        linker_charges.append(count_radical_electrons(linker.rdkit_mol))\n",
    "    \n",
    "    return linker_charges, sum(linker_charges)"
   ]
  },
  {
   "cell_type": "code",
   "execution_count": 18,
   "id": "d6b9ce89-c052-4739-9067-62bad16af175",
   "metadata": {},
   "outputs": [
    {
     "name": "stdout",
     "output_type": "stream",
     "text": [
      "24\n"
     ]
    }
   ],
   "source": [
    "_, lc = get_linker_charges(f)\n",
    "print(lc)"
   ]
  },
  {
   "cell_type": "code",
   "execution_count": 21,
   "id": "48d56914-d560-494b-9e5a-ce1c590532b3",
   "metadata": {},
   "outputs": [],
   "source": [
    "def get_bound_solvent_charges(fragments): \n",
    "    mol_charges = []\n",
    "    \n",
    "    for solvent in fragments.unbound_solvent: \n",
    "        mol_charges.append(count_radical_electrons(solvent.rdkit_mol))\n",
    "    \n",
    "    return mol_charges, sum(mol_charges)"
   ]
  },
  {
   "cell_type": "code",
   "execution_count": 22,
   "id": "330e4c0b-80da-4c04-a389-3f12ccf020b7",
   "metadata": {},
   "outputs": [
    {
     "name": "stdout",
     "output_type": "stream",
     "text": [
      "0\n"
     ]
    }
   ],
   "source": [
    "_, bsc = get_bound_solvent_charges(f)\n",
    "print(bsc)"
   ]
  },
  {
   "cell_type": "code",
   "execution_count": 23,
   "id": "a965470a-c923-4517-ac39-bc6be7cb9c56",
   "metadata": {},
   "outputs": [],
   "source": [
    "CHARGE_RULES = {\n",
    "        'O': -2,\n",
    "        'H' : 1, \n",
    "        'F': -1, \n",
    "        'Cl': -1, \n",
    "        'Br': -1,\n",
    "        'I': -1\n",
    "}"
   ]
  },
  {
   "cell_type": "code",
   "execution_count": 24,
   "id": "00bfcbba-2d2b-4fa5-ae13-a4fcb3164571",
   "metadata": {},
   "outputs": [],
   "source": [
    "def count_charge_in_composition(composition_dict): \n",
    "    charge = 0\n",
    "    for k, v in composition_dict.items():\n",
    "        charge += CHARGE_RULES[k] * v\n",
    "        \n",
    "    return charge"
   ]
  },
  {
   "cell_type": "code",
   "execution_count": 25,
   "id": "d2d71f9e-5791-47f8-bb25-e538c51d41ac",
   "metadata": {},
   "outputs": [],
   "source": [
    "def select_sites(mof, selected_indices): \n",
    "    sites = []\n",
    "    \n",
    "    for i in selected_indices: \n",
    "        sites.append(mof.structure[i])\n",
    "        \n",
    "    s = Structure.from_sites(sites)\n",
    "    \n",
    "    return s"
   ]
  },
  {
   "cell_type": "code",
   "execution_count": 28,
   "id": "754c813d-21b0-4230-afe2-d842c659536e",
   "metadata": {},
   "outputs": [],
   "source": [
    "def get_node_charges(mof, fragments):\n",
    "    \n",
    "    node_charges = []\n",
    "    \n",
    "    for n in fragments.nodes:\n",
    "        indices = set(n._original_indices) - n._original_connecting_paths - set(fragments.bound_solvent.indices) - set(mof.metal_indices)\n",
    "        \n",
    "        s = select_sites(mof, indices)\n",
    "        \n",
    "        charge = count_charge_in_composition(s.composition.as_dict())\n",
    "        \n",
    "        node_charges.append(charge) \n",
    "    \n",
    "    return sum(node_charges) "
   ]
  },
  {
   "cell_type": "code",
   "execution_count": 29,
   "id": "0738af4d-2e6c-4ab4-8207-bcedbeda0329",
   "metadata": {},
   "outputs": [
    {
     "data": {
      "text/plain": [
       "-4.0"
      ]
     },
     "execution_count": 29,
     "metadata": {},
     "output_type": "execute_result"
    }
   ],
   "source": [
    "get_node_charges(m, f)"
   ]
  },
  {
   "cell_type": "code",
   "execution_count": null,
   "id": "54ffd70e-6359-4ebd-8cf6-d0a7adb87371",
   "metadata": {},
   "outputs": [],
   "source": [
    "def get_oxidation_states(mof): \n",
    "    ..."
   ]
  }
 ],
 "metadata": {
  "kernelspec": {
   "display_name": "Python [conda env:moffragmentor] *",
   "language": "python",
   "name": "conda-env-moffragmentor-py"
  },
  "language_info": {
   "codemirror_mode": {
    "name": "ipython",
    "version": 3
   },
   "file_extension": ".py",
   "mimetype": "text/x-python",
   "name": "python",
   "nbconvert_exporter": "python",
   "pygments_lexer": "ipython3",
   "version": "3.8.12"
  }
 },
 "nbformat": 4,
 "nbformat_minor": 5
}
