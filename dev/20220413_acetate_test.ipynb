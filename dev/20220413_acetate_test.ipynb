{
 "cells": [
  {
   "cell_type": "code",
   "execution_count": 1,
   "metadata": {},
   "outputs": [],
   "source": [
    "from moffragmentor import MOF"
   ]
  },
  {
   "cell_type": "code",
   "execution_count": 2,
   "metadata": {},
   "outputs": [],
   "source": [
    "mof = MOF.from_cif('/Users/kevinmaikjablonka/git/kjappelbaum/moffragmentor/tests/test_files/1585873-1585874.cif')"
   ]
  },
  {
   "cell_type": "code",
   "execution_count": 3,
   "metadata": {},
   "outputs": [
    {
     "data": {
      "text/plain": [
       "[ConnectedSite(site=PeriodicSite: H (10.0734, 14.3348, 14.3947) [0.5577, 0.9242, 0.4552], jimage=(0, 0, 0), index=52, weight=None, dist=0.9790305503161402),\n",
       " ConnectedSite(site=PeriodicSite: H (10.2760, 13.7260, 12.9287) [0.5860, 0.8849, 0.3857], jimage=(0, 0, 0), index=56, weight=None, dist=0.9799526021501055),\n",
       " ConnectedSite(site=PeriodicSite: H (11.5262, 14.3309, 13.7236) [0.6776, 0.9239, 0.4075], jimage=(0, 0, 0), index=54, weight=None, dist=0.9804525198170906),\n",
       " ConnectedSite(site=PeriodicSite: C (10.2954, 15.7640, 12.9580) [0.5488, 1.0163, 0.3573], jimage=(0, 1, 0), index=138, weight=None, dist=1.4908877946782784)]"
      ]
     },
     "execution_count": 3,
     "metadata": {},
     "output_type": "execute_result"
    }
   ],
   "source": [
    "mof.structure_graph.get_connected_sites(136)"
   ]
  },
  {
   "cell_type": "markdown",
   "metadata": {},
   "source": []
  }
 ],
 "metadata": {
  "interpreter": {
   "hash": "504d9678a7660ab60f21950c8a644a7c3f2309ace653d8a0639c80f4ba7e4242"
  },
  "kernelspec": {
   "display_name": "Python 3.8.12 ('moffragmentor')",
   "language": "python",
   "name": "python3"
  },
  "language_info": {
   "codemirror_mode": {
    "name": "ipython",
    "version": 3
   },
   "file_extension": ".py",
   "mimetype": "text/x-python",
   "name": "python",
   "nbconvert_exporter": "python",
   "pygments_lexer": "ipython3",
   "version": "3.8.13"
  },
  "orig_nbformat": 4
 },
 "nbformat": 4,
 "nbformat_minor": 2
}
