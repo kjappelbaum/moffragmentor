{
 "cells": [
  {
   "cell_type": "code",
   "execution_count": 1,
   "id": "0f056f59-ebd1-419a-8749-dcdcefac6053",
   "metadata": {},
   "outputs": [],
   "source": [
    "from moffragmentor import MOF"
   ]
  },
  {
   "cell_type": "code",
   "execution_count": null,
   "id": "4836e0b6-1516-4db2-ab36-615f20ade1ac",
   "metadata": {},
   "outputs": [],
   "source": []
  }
 ],
 "metadata": {
  "kernelspec": {
   "display_name": "Python [conda env:moffragmentor] *",
   "language": "python",
   "name": "conda-env-moffragmentor-py"
  },
  "language_info": {
   "codemirror_mode": {
    "name": "ipython",
    "version": 3
   },
   "file_extension": ".py",
   "mimetype": "text/x-python",
   "name": "python",
   "nbconvert_exporter": "python",
   "pygments_lexer": "ipython3",
   "version": "3.8.12"
  }
 },
 "nbformat": 4,
 "nbformat_minor": 5
}
