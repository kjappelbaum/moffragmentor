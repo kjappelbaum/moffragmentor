{
 "cells": [
  {
   "cell_type": "code",
   "execution_count": 249,
   "metadata": {},
   "outputs": [
    {
     "name": "stdout",
     "output_type": "stream",
     "text": [
      "The autoreload extension is already loaded. To reload it, use:\n",
      "  %reload_ext autoreload\n"
     ]
    }
   ],
   "source": [
    "%load_ext autoreload\n",
    "%autoreload 2"
   ]
  },
  {
   "cell_type": "code",
   "execution_count": 250,
   "metadata": {},
   "outputs": [],
   "source": [
    "from moffragmentor import MOF\n",
    "from moffragmentor.fragmentor.solventlocator import get_floating_solvent_molecules, get_all_bound_solvent_molecules\n",
    "from moffragmentor.fragmentor.nodelocator import find_node_clusters, create_node_collection\n",
    "from moffragmentor.fragmentor.linkerlocator import create_linker_collection\n",
    "from moffragmentor.utils import visualize_part, _get_metal_sublist, unwrap,_not_relevant_structure_indices\n",
    "from moffragmentor.fragmentor.filter import point_in_mol_coords"
   ]
  },
  {
   "cell_type": "code",
   "execution_count": 251,
   "metadata": {},
   "outputs": [],
   "source": [
    "mof = MOF.from_cif('/Users/kevinmaikjablonka/git/kjappelbaum/moffragmentor/tests/test_files/MUDLON_clean.cif')\n",
    "#mof = MOF.from_cif('/Users/kevinmaikjablonka/git/kjappelbaum/moffragmentor/tests/test_files/porphyrin_mof.cif')"
   ]
  },
  {
   "cell_type": "code",
   "execution_count": 217,
   "metadata": {},
   "outputs": [],
   "source": [
    "unbound_solvent = get_floating_solvent_molecules(mof)\n",
    "    # Find nodes\n",
    "node_result = find_node_clusters(mof, unbound_solvent.indices)\n",
    "node_collection = create_node_collection(mof, node_result)\n",
    "    # Find bound solvent\n",
    "    # \n",
    "bound_solvent = get_all_bound_solvent_molecules(mof, node_result.nodes)\n",
    "    # Filter the linkers (valid linkers have at least two branch points)\n",
    "linker_collection, edge_dict = create_linker_collection(\n",
    "        mof, node_result, node_collection, unbound_solvent\n",
    "    )"
   ]
  },
  {
   "cell_type": "code",
   "execution_count": 218,
   "metadata": {},
   "outputs": [
    {
     "data": {
      "application/vnd.jupyter.widget-view+json": {
       "model_id": "6e4e50fc331446e0a241c675915764df",
       "version_major": 2,
       "version_minor": 0
      },
      "text/plain": [
       "NGLWidget()"
      ]
     },
     "metadata": {},
     "output_type": "display_data"
    }
   ],
   "source": [
    "linker_collection[0].show_molecule()"
   ]
  },
  {
   "cell_type": "code",
   "execution_count": 198,
   "metadata": {},
   "outputs": [],
   "source": [
    "metal_in_node = _get_metal_sublist(node_result.nodes[0], mof.metal_indices)"
   ]
  },
  {
   "cell_type": "code",
   "execution_count": 199,
   "metadata": {},
   "outputs": [
    {
     "data": {
      "text/plain": [
       "False"
      ]
     },
     "execution_count": 199,
     "metadata": {},
     "output_type": "execute_result"
    }
   ],
   "source": [
    "in_hull( unwrap(mof.cart_coords[linker_collection[0]._original_indices], mof.lattice), mof.cart_coords[metal_in_node[0]])"
   ]
  },
  {
   "cell_type": "code",
   "execution_count": 200,
   "metadata": {},
   "outputs": [
    {
     "ename": "IndexError",
     "evalue": "list index out of range",
     "output_type": "error",
     "traceback": [
      "\u001b[0;31m---------------------------------------------------------------------------\u001b[0m",
      "\u001b[0;31mIndexError\u001b[0m                                Traceback (most recent call last)",
      "\u001b[1;32m/Users/kevinmaikjablonka/git/kjappelbaum/moffragmentor/dev/20220413_debug_new_issue.ipynb Cell 8'\u001b[0m in \u001b[0;36m<cell line: 1>\u001b[0;34m()\u001b[0m\n\u001b[1;32m      <a href='vscode-notebook-cell:/Users/kevinmaikjablonka/git/kjappelbaum/moffragmentor/dev/20220413_debug_new_issue.ipynb#ch0000010?line=0'>1</a>\u001b[0m point_in_mol_coords(mof\u001b[39m.\u001b[39mcart_coords[metal_in_node[\u001b[39m0\u001b[39m]], \n\u001b[0;32m----> <a href='vscode-notebook-cell:/Users/kevinmaikjablonka/git/kjappelbaum/moffragmentor/dev/20220413_debug_new_issue.ipynb#ch0000010?line=1'>2</a>\u001b[0m   mof\u001b[39m.\u001b[39mcart_coords[linker_collection[\u001b[39m2\u001b[39;49m]\u001b[39m.\u001b[39m_original_indices], mof\u001b[39m.\u001b[39mlattice)\n",
      "File \u001b[0;32m~/git/kjappelbaum/moffragmentor/src/moffragmentor/sbu/sbucollection.py:29\u001b[0m, in \u001b[0;36mSBUCollection.__getitem__\u001b[0;34m(self, index)\u001b[0m\n\u001b[1;32m     <a href='file:///Users/kevinmaikjablonka/git/kjappelbaum/moffragmentor/src/moffragmentor/sbu/sbucollection.py?line=27'>28</a>\u001b[0m \u001b[39mdef\u001b[39;00m \u001b[39m__getitem__\u001b[39m(\u001b[39mself\u001b[39m, index):\n\u001b[0;32m---> <a href='file:///Users/kevinmaikjablonka/git/kjappelbaum/moffragmentor/src/moffragmentor/sbu/sbucollection.py?line=28'>29</a>\u001b[0m     \u001b[39mreturn\u001b[39;00m \u001b[39mself\u001b[39;49m\u001b[39m.\u001b[39;49msbus[index]\n",
      "\u001b[0;31mIndexError\u001b[0m: list index out of range"
     ]
    }
   ],
   "source": [
    "point_in_mol_coords(mof.cart_coords[metal_in_node[0]], \n",
    "  mof.cart_coords[linker_collection[2]._original_indices], mof.lattice)"
   ]
  },
  {
   "cell_type": "code",
   "execution_count": 201,
   "metadata": {},
   "outputs": [
    {
     "ename": "IndexError",
     "evalue": "list index out of range",
     "output_type": "error",
     "traceback": [
      "\u001b[0;31m---------------------------------------------------------------------------\u001b[0m",
      "\u001b[0;31mIndexError\u001b[0m                                Traceback (most recent call last)",
      "\u001b[1;32m/Users/kevinmaikjablonka/git/kjappelbaum/moffragmentor/dev/20220413_debug_new_issue.ipynb Cell 9'\u001b[0m in \u001b[0;36m<cell line: 1>\u001b[0;34m()\u001b[0m\n\u001b[0;32m----> <a href='vscode-notebook-cell:/Users/kevinmaikjablonka/git/kjappelbaum/moffragmentor/dev/20220413_debug_new_issue.ipynb#ch0000031?line=0'>1</a>\u001b[0m linker_collection[\u001b[39m2\u001b[39;49m]\u001b[39m.\u001b[39mshow_molecule()\n",
      "File \u001b[0;32m~/git/kjappelbaum/moffragmentor/src/moffragmentor/sbu/sbucollection.py:29\u001b[0m, in \u001b[0;36mSBUCollection.__getitem__\u001b[0;34m(self, index)\u001b[0m\n\u001b[1;32m     <a href='file:///Users/kevinmaikjablonka/git/kjappelbaum/moffragmentor/src/moffragmentor/sbu/sbucollection.py?line=27'>28</a>\u001b[0m \u001b[39mdef\u001b[39;00m \u001b[39m__getitem__\u001b[39m(\u001b[39mself\u001b[39m, index):\n\u001b[0;32m---> <a href='file:///Users/kevinmaikjablonka/git/kjappelbaum/moffragmentor/src/moffragmentor/sbu/sbucollection.py?line=28'>29</a>\u001b[0m     \u001b[39mreturn\u001b[39;00m \u001b[39mself\u001b[39;49m\u001b[39m.\u001b[39;49msbus[index]\n",
      "\u001b[0;31mIndexError\u001b[0m: list index out of range"
     ]
    }
   ],
   "source": [
    "linker_collection[2].show_molecule()"
   ]
  },
  {
   "cell_type": "code",
   "execution_count": 245,
   "metadata": {},
   "outputs": [
    {
     "data": {
      "application/vnd.jupyter.widget-view+json": {
       "model_id": "3cec4b8caded4a2d94a2d0392140d89b",
       "version_major": 2,
       "version_minor": 0
      },
      "text/plain": [
       "NGLWidget()"
      ]
     },
     "metadata": {},
     "output_type": "display_data"
    }
   ],
   "source": [
    "visualize_part(mof, [node_collection[3]._original_indices[2]])"
   ]
  },
  {
   "cell_type": "code",
   "execution_count": 154,
   "metadata": {},
   "outputs": [],
   "source": [
    "sites = []\n",
    "for index in linker_collection[2]._original_indices + [0]:\n",
    "    sites.append(mof.structure[index])\n",
    "\n",
    "s = Structure.from_sites(sites, to_unit_cell=True)\n",
    "\n",
    "s.to('cif', 'bla.cif')"
   ]
  },
  {
   "cell_type": "code",
   "execution_count": 235,
   "metadata": {},
   "outputs": [
    {
     "data": {
      "text/plain": [
       "[193, 290, 3, 291, 226, 294, 295, 296, 297, 206, 285, 284, 253]"
      ]
     },
     "execution_count": 235,
     "metadata": {},
     "output_type": "execute_result"
    }
   ],
   "source": [
    "node_collection[3]._original_indices"
   ]
  },
  {
   "cell_type": "code",
   "execution_count": 246,
   "metadata": {},
   "outputs": [],
   "source": []
  },
  {
   "cell_type": "code",
   "execution_count": 248,
   "metadata": {},
   "outputs": [
    {
     "data": {
      "text/plain": [
       "0"
      ]
     },
     "execution_count": 248,
     "metadata": {},
     "output_type": "execute_result"
    }
   ],
   "source": [
    "len(mols)"
   ]
  },
  {
   "cell_type": "code",
   "execution_count": 184,
   "metadata": {},
   "outputs": [
    {
     "ename": "IndexError",
     "evalue": "list index out of range",
     "output_type": "error",
     "traceback": [
      "\u001b[0;31m---------------------------------------------------------------------------\u001b[0m",
      "\u001b[0;31mIndexError\u001b[0m                                Traceback (most recent call last)",
      "\u001b[1;32m/Users/kevinmaikjablonka/git/kjappelbaum/moffragmentor/dev/20220413_debug_new_issue.ipynb Cell 14'\u001b[0m in \u001b[0;36m<cell line: 4>\u001b[0;34m()\u001b[0m\n\u001b[1;32m      <a href='vscode-notebook-cell:/Users/kevinmaikjablonka/git/kjappelbaum/moffragmentor/dev/20220413_debug_new_issue.ipynb#ch0000019?line=0'>1</a>\u001b[0m \u001b[39mimport\u001b[39;00m \u001b[39mnumpy\u001b[39;00m \u001b[39mas\u001b[39;00m \u001b[39mnp\u001b[39;00m\n\u001b[1;32m      <a href='vscode-notebook-cell:/Users/kevinmaikjablonka/git/kjappelbaum/moffragmentor/dev/20220413_debug_new_issue.ipynb#ch0000019?line=1'>2</a>\u001b[0m \u001b[39mimport\u001b[39;00m \u001b[39mpandas\u001b[39;00m \u001b[39mas\u001b[39;00m \u001b[39mpd\u001b[39;00m\n\u001b[0;32m----> <a href='vscode-notebook-cell:/Users/kevinmaikjablonka/git/kjappelbaum/moffragmentor/dev/20220413_debug_new_issue.ipynb#ch0000019?line=3'>4</a>\u001b[0m coords \u001b[39m=\u001b[39m np\u001b[39m.\u001b[39mvstack([mof\u001b[39m.\u001b[39mcart_coords[metal_in_node[\u001b[39m1\u001b[39;49m]]\u001b[39m.\u001b[39mreshape(\u001b[39m1\u001b[39m,\u001b[39m3\u001b[39m), unwrap(mof\u001b[39m.\u001b[39mcart_coords[linker_collection[\u001b[39m0\u001b[39m]\u001b[39m.\u001b[39m_original_indices], mof\u001b[39m.\u001b[39mlattice) ] )\n",
      "\u001b[0;31mIndexError\u001b[0m: list index out of range"
     ]
    }
   ],
   "source": [
    "import numpy as np\n",
    "import pandas as pd\n",
    "\n",
    "coords = np.vstack([mof.cart_coords[metal_in_node[1]].reshape(1,3), unwrap(mof.cart_coords[linker_collection[0]._original_indices], mof.lattice) ] )"
   ]
  },
  {
   "cell_type": "code",
   "execution_count": 183,
   "metadata": {},
   "outputs": [],
   "source": [
    "df = pd.DataFrame(data=coords, columns=['x', 'y', 'z'])"
   ]
  },
  {
   "cell_type": "code",
   "execution_count": 178,
   "metadata": {},
   "outputs": [],
   "source": [
    "df['color'] = ['red'] + ['blue'] *(len(df) -1)"
   ]
  },
  {
   "cell_type": "code",
   "execution_count": 179,
   "metadata": {},
   "outputs": [
    {
     "data": {
      "application/vnd.plotly.v1+json": {
       "config": {
        "plotlyServerURL": "https://plot.ly"
       },
       "data": [
        {
         "hovertemplate": "color=red<br>x=%{x}<br>y=%{y}<br>z=%{z}<extra></extra>",
         "legendgroup": "red",
         "marker": {
          "color": "#636efa",
          "opacity": 0.7,
          "symbol": "circle"
         },
         "mode": "markers",
         "name": "red",
         "scene": "scene",
         "showlegend": true,
         "type": "scatter3d",
         "x": [
          4.860594991267071
         ],
         "y": [
          10.259710323907527
         ],
         "z": [
          17.55101692138406
         ]
        },
        {
         "hovertemplate": "color=blue<br>x=%{x}<br>y=%{y}<br>z=%{z}<extra></extra>",
         "legendgroup": "blue",
         "marker": {
          "color": "#EF553B",
          "opacity": 0.7,
          "symbol": "circle"
         },
         "mode": "markers",
         "name": "blue",
         "scene": "scene",
         "showlegend": true,
         "type": "scatter3d",
         "x": [
          3.3923837178354628,
          3.9984284253259323,
          4.403485630295291,
          3.991630033869305,
          4.207128503377709,
          5.007983585750619,
          5.576023772989018,
          6.138157302615998,
          4.614049815915851,
          7.513919839411263,
          5.0616035319321755,
          6.046015741669014,
          7.973165889024097,
          4.195662659366573,
          8.060931306520864,
          2.8326063074946255,
          3.2793859215082892,
          2.9080285296887833,
          6.067584394601401,
          5.347709339674527,
          1.8516499014369359,
          3.498998635740211,
          3.064124354041546,
          1.4549743689253631,
          4.234640890872499,
          2.8021637101880983,
          4.344339162456346,
          6.21425326842405,
          4.209971154531558,
          3.1360927576052795,
          1.5624753410167642,
          8.162173833381747,
          7.46578317068268,
          2.2083776599709175,
          4.853244726901674,
          6.710250876950051,
          3.454714184404086,
          0.7701651694442742,
          1.4577014329335256,
          0.6419232658065681,
          2.304817329087726,
          3.705830277517451,
          5.075531577636284,
          5.2332426577206945,
          7.3925935139712555,
          8.708971470476087,
          9.655628945236295,
          6.645373582682062,
          4.9680940032886705,
          4.511998079861424,
          3.442523123109872,
          4.210753699230407,
          7.282726871629235,
          3.1596421568625566,
          7.333969316678766,
          8.684753213985934,
          2.0600689184429726,
          6.0086903587695275,
          3.703727865512465,
          2.984759687076758,
          3.4082160876019683,
          8.080849412010444,
          4.3093826959658195,
          4.531163210211361,
          8.864588066069844,
          6.043872448879445,
          7.220210055548188,
          7.286825583779281,
          6.210697345308426,
          5.047743195905082,
          5.280670963239376,
          6.19748132014677,
          5.4003667206879165,
          4.726118355603406
         ],
         "y": [
          10.41105488988349,
          10.949053723729552,
          10.11479271895246,
          13.088195137072,
          8.73299609945959,
          10.637657096200925,
          9.824957509042328,
          5.253522331275218,
          7.003314299545259,
          7.32673556382266,
          11.562310197917084,
          10.2126483835287,
          7.531983673844858,
          8.77798482660587,
          7.946626320354345,
          14.614287397550175,
          13.251357018473486,
          12.404034770331346,
          10.849124845920764,
          11.788290440264756,
          15.022503083038766,
          15.50431783828279,
          16.8396744813666,
          16.346664374666815,
          15.231897619526057,
          10.735098118130656,
          10.904686960553036,
          10.36689544803023,
          13.994189319695234,
          9.51604873739276,
          18.698932108315145,
          5.408391359746512,
          6.5312436464942065,
          13.347346791140433,
          11.912061270247838,
          6.464486180406179,
          17.43365007249144,
          16.62095048533284,
          14.417124819134912,
          19.04350014756453,
          19.471618680085577,
          8.342610047770906,
          10.867991086336945,
          9.587159951269136,
          8.992769717497785,
          1.9152343842273272,
          3.278994048597035,
          5.297681773128478,
          8.603834915071884,
          12.694284622887986,
          12.481780266551874,
          12.2796419763785,
          3.393850061680163,
          11.149948085963398,
          4.178975912845879,
          5.458770441297415,
          17.27836640137364,
          7.630046659744352,
          12.65675946337888,
          12.837129014610507,
          12.264507519780905,
          4.195768940029513,
          9.331532759696037,
          11.506748083284812,
          3.0640018363818644,
          8.000322543077324,
          7.840063160201407,
          8.142544970830079,
          8.729678958287515,
          8.946951705058487,
          11.34317155923682,
          9.152614457727193,
          8.449380529247101,
          7.923613653473068
         ],
         "z": [
          7.2913593003990975,
          6.154874530378967,
          5.011156203148925,
          7.351819586466019,
          4.990848331065113,
          3.926148845035975,
          2.8781301057004,
          0.9234349168013836,
          4.063283876831608,
          4.025246892378242,
          3.8501233035888554,
          2.1729136216424862,
          0.3588876366246083,
          0.4535532456707081,
          -1.9429227784137204,
          14.88549063256522,
          9.659703486646466,
          13.99654577491984,
          12.137020160777155,
          10.141752459473294,
          14.018424896411437,
          15.665581305680563,
          15.711029864337078,
          14.026680552350381,
          10.91497577611858,
          9.179320131836766,
          15.575338724026096,
          14.469399435044568,
          7.357163693381044,
          7.28010627561253,
          14.787826081290271,
          3.9803080667768214,
          3.544024810841627,
          17.269913832784532,
          10.920780642086283,
          2.4031992214656768,
          16.313543006104684,
          13.458765245588573,
          13.43481720280602,
          14.10823883037244,
          15.546616503460353,
          5.671397097649797,
          14.514188384865282,
          -4.106161767160362,
          -4.069578027943866,
          3.2513758341914567,
          4.752341241371443,
          1.7007190853295704,
          -0.031522189547171564,
          5.401987634273752,
          8.47357594204148,
          6.177204797238243,
          1.6441604614462833,
          8.429049579072592,
          2.1401680837488826,
          4.747190014658596,
          14.866787486685192,
          1.9532475411903683,
          10.892408713937561,
          12.036817665858319,
          13.224913302926717,
          3.27244702246033,
          -1.7849236332045706,
          13.295330494488203,
          3.8154196787039467,
          0.5678043159280044,
          -0.09198499250420866,
          -1.4625415795385663,
          -2.1032794039358045,
          -1.3682156202018056,
          12.116511057653353,
          -3.5499278348354366,
          2.9454145442720225,
          4.005952012384245
         ]
        }
       ],
       "layout": {
        "legend": {
         "title": {
          "text": "color"
         },
         "tracegroupgap": 0
        },
        "margin": {
         "t": 60
        },
        "scene": {
         "domain": {
          "x": [
           0,
           1
          ],
          "y": [
           0,
           1
          ]
         },
         "xaxis": {
          "title": {
           "text": "x"
          }
         },
         "yaxis": {
          "title": {
           "text": "y"
          }
         },
         "zaxis": {
          "title": {
           "text": "z"
          }
         }
        },
        "template": {
         "data": {
          "bar": [
           {
            "error_x": {
             "color": "#2a3f5f"
            },
            "error_y": {
             "color": "#2a3f5f"
            },
            "marker": {
             "line": {
              "color": "#E5ECF6",
              "width": 0.5
             },
             "pattern": {
              "fillmode": "overlay",
              "size": 10,
              "solidity": 0.2
             }
            },
            "type": "bar"
           }
          ],
          "barpolar": [
           {
            "marker": {
             "line": {
              "color": "#E5ECF6",
              "width": 0.5
             },
             "pattern": {
              "fillmode": "overlay",
              "size": 10,
              "solidity": 0.2
             }
            },
            "type": "barpolar"
           }
          ],
          "carpet": [
           {
            "aaxis": {
             "endlinecolor": "#2a3f5f",
             "gridcolor": "white",
             "linecolor": "white",
             "minorgridcolor": "white",
             "startlinecolor": "#2a3f5f"
            },
            "baxis": {
             "endlinecolor": "#2a3f5f",
             "gridcolor": "white",
             "linecolor": "white",
             "minorgridcolor": "white",
             "startlinecolor": "#2a3f5f"
            },
            "type": "carpet"
           }
          ],
          "choropleth": [
           {
            "colorbar": {
             "outlinewidth": 0,
             "ticks": ""
            },
            "type": "choropleth"
           }
          ],
          "contour": [
           {
            "colorbar": {
             "outlinewidth": 0,
             "ticks": ""
            },
            "colorscale": [
             [
              0,
              "#0d0887"
             ],
             [
              0.1111111111111111,
              "#46039f"
             ],
             [
              0.2222222222222222,
              "#7201a8"
             ],
             [
              0.3333333333333333,
              "#9c179e"
             ],
             [
              0.4444444444444444,
              "#bd3786"
             ],
             [
              0.5555555555555556,
              "#d8576b"
             ],
             [
              0.6666666666666666,
              "#ed7953"
             ],
             [
              0.7777777777777778,
              "#fb9f3a"
             ],
             [
              0.8888888888888888,
              "#fdca26"
             ],
             [
              1,
              "#f0f921"
             ]
            ],
            "type": "contour"
           }
          ],
          "contourcarpet": [
           {
            "colorbar": {
             "outlinewidth": 0,
             "ticks": ""
            },
            "type": "contourcarpet"
           }
          ],
          "heatmap": [
           {
            "colorbar": {
             "outlinewidth": 0,
             "ticks": ""
            },
            "colorscale": [
             [
              0,
              "#0d0887"
             ],
             [
              0.1111111111111111,
              "#46039f"
             ],
             [
              0.2222222222222222,
              "#7201a8"
             ],
             [
              0.3333333333333333,
              "#9c179e"
             ],
             [
              0.4444444444444444,
              "#bd3786"
             ],
             [
              0.5555555555555556,
              "#d8576b"
             ],
             [
              0.6666666666666666,
              "#ed7953"
             ],
             [
              0.7777777777777778,
              "#fb9f3a"
             ],
             [
              0.8888888888888888,
              "#fdca26"
             ],
             [
              1,
              "#f0f921"
             ]
            ],
            "type": "heatmap"
           }
          ],
          "heatmapgl": [
           {
            "colorbar": {
             "outlinewidth": 0,
             "ticks": ""
            },
            "colorscale": [
             [
              0,
              "#0d0887"
             ],
             [
              0.1111111111111111,
              "#46039f"
             ],
             [
              0.2222222222222222,
              "#7201a8"
             ],
             [
              0.3333333333333333,
              "#9c179e"
             ],
             [
              0.4444444444444444,
              "#bd3786"
             ],
             [
              0.5555555555555556,
              "#d8576b"
             ],
             [
              0.6666666666666666,
              "#ed7953"
             ],
             [
              0.7777777777777778,
              "#fb9f3a"
             ],
             [
              0.8888888888888888,
              "#fdca26"
             ],
             [
              1,
              "#f0f921"
             ]
            ],
            "type": "heatmapgl"
           }
          ],
          "histogram": [
           {
            "marker": {
             "pattern": {
              "fillmode": "overlay",
              "size": 10,
              "solidity": 0.2
             }
            },
            "type": "histogram"
           }
          ],
          "histogram2d": [
           {
            "colorbar": {
             "outlinewidth": 0,
             "ticks": ""
            },
            "colorscale": [
             [
              0,
              "#0d0887"
             ],
             [
              0.1111111111111111,
              "#46039f"
             ],
             [
              0.2222222222222222,
              "#7201a8"
             ],
             [
              0.3333333333333333,
              "#9c179e"
             ],
             [
              0.4444444444444444,
              "#bd3786"
             ],
             [
              0.5555555555555556,
              "#d8576b"
             ],
             [
              0.6666666666666666,
              "#ed7953"
             ],
             [
              0.7777777777777778,
              "#fb9f3a"
             ],
             [
              0.8888888888888888,
              "#fdca26"
             ],
             [
              1,
              "#f0f921"
             ]
            ],
            "type": "histogram2d"
           }
          ],
          "histogram2dcontour": [
           {
            "colorbar": {
             "outlinewidth": 0,
             "ticks": ""
            },
            "colorscale": [
             [
              0,
              "#0d0887"
             ],
             [
              0.1111111111111111,
              "#46039f"
             ],
             [
              0.2222222222222222,
              "#7201a8"
             ],
             [
              0.3333333333333333,
              "#9c179e"
             ],
             [
              0.4444444444444444,
              "#bd3786"
             ],
             [
              0.5555555555555556,
              "#d8576b"
             ],
             [
              0.6666666666666666,
              "#ed7953"
             ],
             [
              0.7777777777777778,
              "#fb9f3a"
             ],
             [
              0.8888888888888888,
              "#fdca26"
             ],
             [
              1,
              "#f0f921"
             ]
            ],
            "type": "histogram2dcontour"
           }
          ],
          "mesh3d": [
           {
            "colorbar": {
             "outlinewidth": 0,
             "ticks": ""
            },
            "type": "mesh3d"
           }
          ],
          "parcoords": [
           {
            "line": {
             "colorbar": {
              "outlinewidth": 0,
              "ticks": ""
             }
            },
            "type": "parcoords"
           }
          ],
          "pie": [
           {
            "automargin": true,
            "type": "pie"
           }
          ],
          "scatter": [
           {
            "fillpattern": {
             "fillmode": "overlay",
             "size": 10,
             "solidity": 0.2
            },
            "type": "scatter"
           }
          ],
          "scatter3d": [
           {
            "line": {
             "colorbar": {
              "outlinewidth": 0,
              "ticks": ""
             }
            },
            "marker": {
             "colorbar": {
              "outlinewidth": 0,
              "ticks": ""
             }
            },
            "type": "scatter3d"
           }
          ],
          "scattercarpet": [
           {
            "marker": {
             "colorbar": {
              "outlinewidth": 0,
              "ticks": ""
             }
            },
            "type": "scattercarpet"
           }
          ],
          "scattergeo": [
           {
            "marker": {
             "colorbar": {
              "outlinewidth": 0,
              "ticks": ""
             }
            },
            "type": "scattergeo"
           }
          ],
          "scattergl": [
           {
            "marker": {
             "colorbar": {
              "outlinewidth": 0,
              "ticks": ""
             }
            },
            "type": "scattergl"
           }
          ],
          "scattermapbox": [
           {
            "marker": {
             "colorbar": {
              "outlinewidth": 0,
              "ticks": ""
             }
            },
            "type": "scattermapbox"
           }
          ],
          "scatterpolar": [
           {
            "marker": {
             "colorbar": {
              "outlinewidth": 0,
              "ticks": ""
             }
            },
            "type": "scatterpolar"
           }
          ],
          "scatterpolargl": [
           {
            "marker": {
             "colorbar": {
              "outlinewidth": 0,
              "ticks": ""
             }
            },
            "type": "scatterpolargl"
           }
          ],
          "scatterternary": [
           {
            "marker": {
             "colorbar": {
              "outlinewidth": 0,
              "ticks": ""
             }
            },
            "type": "scatterternary"
           }
          ],
          "surface": [
           {
            "colorbar": {
             "outlinewidth": 0,
             "ticks": ""
            },
            "colorscale": [
             [
              0,
              "#0d0887"
             ],
             [
              0.1111111111111111,
              "#46039f"
             ],
             [
              0.2222222222222222,
              "#7201a8"
             ],
             [
              0.3333333333333333,
              "#9c179e"
             ],
             [
              0.4444444444444444,
              "#bd3786"
             ],
             [
              0.5555555555555556,
              "#d8576b"
             ],
             [
              0.6666666666666666,
              "#ed7953"
             ],
             [
              0.7777777777777778,
              "#fb9f3a"
             ],
             [
              0.8888888888888888,
              "#fdca26"
             ],
             [
              1,
              "#f0f921"
             ]
            ],
            "type": "surface"
           }
          ],
          "table": [
           {
            "cells": {
             "fill": {
              "color": "#EBF0F8"
             },
             "line": {
              "color": "white"
             }
            },
            "header": {
             "fill": {
              "color": "#C8D4E3"
             },
             "line": {
              "color": "white"
             }
            },
            "type": "table"
           }
          ]
         },
         "layout": {
          "annotationdefaults": {
           "arrowcolor": "#2a3f5f",
           "arrowhead": 0,
           "arrowwidth": 1
          },
          "autotypenumbers": "strict",
          "coloraxis": {
           "colorbar": {
            "outlinewidth": 0,
            "ticks": ""
           }
          },
          "colorscale": {
           "diverging": [
            [
             0,
             "#8e0152"
            ],
            [
             0.1,
             "#c51b7d"
            ],
            [
             0.2,
             "#de77ae"
            ],
            [
             0.3,
             "#f1b6da"
            ],
            [
             0.4,
             "#fde0ef"
            ],
            [
             0.5,
             "#f7f7f7"
            ],
            [
             0.6,
             "#e6f5d0"
            ],
            [
             0.7,
             "#b8e186"
            ],
            [
             0.8,
             "#7fbc41"
            ],
            [
             0.9,
             "#4d9221"
            ],
            [
             1,
             "#276419"
            ]
           ],
           "sequential": [
            [
             0,
             "#0d0887"
            ],
            [
             0.1111111111111111,
             "#46039f"
            ],
            [
             0.2222222222222222,
             "#7201a8"
            ],
            [
             0.3333333333333333,
             "#9c179e"
            ],
            [
             0.4444444444444444,
             "#bd3786"
            ],
            [
             0.5555555555555556,
             "#d8576b"
            ],
            [
             0.6666666666666666,
             "#ed7953"
            ],
            [
             0.7777777777777778,
             "#fb9f3a"
            ],
            [
             0.8888888888888888,
             "#fdca26"
            ],
            [
             1,
             "#f0f921"
            ]
           ],
           "sequentialminus": [
            [
             0,
             "#0d0887"
            ],
            [
             0.1111111111111111,
             "#46039f"
            ],
            [
             0.2222222222222222,
             "#7201a8"
            ],
            [
             0.3333333333333333,
             "#9c179e"
            ],
            [
             0.4444444444444444,
             "#bd3786"
            ],
            [
             0.5555555555555556,
             "#d8576b"
            ],
            [
             0.6666666666666666,
             "#ed7953"
            ],
            [
             0.7777777777777778,
             "#fb9f3a"
            ],
            [
             0.8888888888888888,
             "#fdca26"
            ],
            [
             1,
             "#f0f921"
            ]
           ]
          },
          "colorway": [
           "#636efa",
           "#EF553B",
           "#00cc96",
           "#ab63fa",
           "#FFA15A",
           "#19d3f3",
           "#FF6692",
           "#B6E880",
           "#FF97FF",
           "#FECB52"
          ],
          "font": {
           "color": "#2a3f5f"
          },
          "geo": {
           "bgcolor": "white",
           "lakecolor": "white",
           "landcolor": "#E5ECF6",
           "showlakes": true,
           "showland": true,
           "subunitcolor": "white"
          },
          "hoverlabel": {
           "align": "left"
          },
          "hovermode": "closest",
          "mapbox": {
           "style": "light"
          },
          "paper_bgcolor": "white",
          "plot_bgcolor": "#E5ECF6",
          "polar": {
           "angularaxis": {
            "gridcolor": "white",
            "linecolor": "white",
            "ticks": ""
           },
           "bgcolor": "#E5ECF6",
           "radialaxis": {
            "gridcolor": "white",
            "linecolor": "white",
            "ticks": ""
           }
          },
          "scene": {
           "xaxis": {
            "backgroundcolor": "#E5ECF6",
            "gridcolor": "white",
            "gridwidth": 2,
            "linecolor": "white",
            "showbackground": true,
            "ticks": "",
            "zerolinecolor": "white"
           },
           "yaxis": {
            "backgroundcolor": "#E5ECF6",
            "gridcolor": "white",
            "gridwidth": 2,
            "linecolor": "white",
            "showbackground": true,
            "ticks": "",
            "zerolinecolor": "white"
           },
           "zaxis": {
            "backgroundcolor": "#E5ECF6",
            "gridcolor": "white",
            "gridwidth": 2,
            "linecolor": "white",
            "showbackground": true,
            "ticks": "",
            "zerolinecolor": "white"
           }
          },
          "shapedefaults": {
           "line": {
            "color": "#2a3f5f"
           }
          },
          "ternary": {
           "aaxis": {
            "gridcolor": "white",
            "linecolor": "white",
            "ticks": ""
           },
           "baxis": {
            "gridcolor": "white",
            "linecolor": "white",
            "ticks": ""
           },
           "bgcolor": "#E5ECF6",
           "caxis": {
            "gridcolor": "white",
            "linecolor": "white",
            "ticks": ""
           }
          },
          "title": {
           "x": 0.05
          },
          "xaxis": {
           "automargin": true,
           "gridcolor": "white",
           "linecolor": "white",
           "ticks": "",
           "title": {
            "standoff": 15
           },
           "zerolinecolor": "white",
           "zerolinewidth": 2
          },
          "yaxis": {
           "automargin": true,
           "gridcolor": "white",
           "linecolor": "white",
           "ticks": "",
           "title": {
            "standoff": 15
           },
           "zerolinecolor": "white",
           "zerolinewidth": 2
          }
         }
        }
       }
      }
     },
     "metadata": {},
     "output_type": "display_data"
    }
   ],
   "source": [
    "import plotly.express as px\n",
    "\n",
    "fig = px.scatter_3d(df, x='x', y='y', z='z',\n",
    "              color='color', opacity=0.7)\n",
    "fig"
   ]
  },
  {
   "cell_type": "code",
   "execution_count": 31,
   "metadata": {},
   "outputs": [],
   "source": [
    "from pymatgen.core import Structure\n",
    "\n",
    "sites = []\n",
    "for index in linker_collection[0]._original_indices + [metal_in_node[0]]:\n",
    "    sites.append(mof.structure[index])\n",
    "\n",
    "s = Structure.from_sites(sites)\n",
    "s.to('cif', 'mudon_linker.cif')"
   ]
  },
  {
   "cell_type": "code",
   "execution_count": 252,
   "metadata": {},
   "outputs": [
    {
     "name": "stderr",
     "output_type": "stream",
     "text": [
      "2022-04-14 10:44:32.166 | INFO     | moffragmentor.fragmentor:run_fragmentation:45 - Checking for metal in linker\n",
      "2022-04-14 10:44:34.105 | INFO     | moffragmentor.fragmentor:run_fragmentation:93 - Constructing the embedding\n"
     ]
    }
   ],
   "source": [
    "bbs = mof.fragment()"
   ]
  },
  {
   "cell_type": "code",
   "execution_count": 253,
   "metadata": {},
   "outputs": [
    {
     "data": {
      "application/vnd.jupyter.widget-view+json": {
       "model_id": "db604848956c4d09bb8c0b3dc9f04878",
       "version_major": 2,
       "version_minor": 0
      },
      "text/plain": [
       "NGLWidget()"
      ]
     },
     "metadata": {},
     "output_type": "display_data"
    }
   ],
   "source": [
    "bbs.linkers[0].show_molecule()"
   ]
  },
  {
   "cell_type": "code",
   "execution_count": null,
   "metadata": {},
   "outputs": [],
   "source": []
  }
 ],
 "metadata": {
  "interpreter": {
   "hash": "d36fdf4311ed310659e03eb7c7d82e3b96cddee833a4063df578e75dd832d667"
  },
  "kernelspec": {
   "display_name": "Python 3.9.7 ('mofchecker')",
   "language": "python",
   "name": "python3"
  },
  "language_info": {
   "codemirror_mode": {
    "name": "ipython",
    "version": 3
   },
   "file_extension": ".py",
   "mimetype": "text/x-python",
   "name": "python",
   "nbconvert_exporter": "python",
   "pygments_lexer": "ipython3",
   "version": "3.8.13"
  },
  "orig_nbformat": 4
 },
 "nbformat": 4,
 "nbformat_minor": 2
}
